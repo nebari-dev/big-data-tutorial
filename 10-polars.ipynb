{
 "cells": [
  {
   "cell_type": "markdown",
   "id": "7cb4f95a-5094-4448-a380-0acbdc9c54b9",
   "metadata": {},
   "source": [
    "<img src=\"images/polars-logo.svg\" width=\"25%\" align=\"right\">\n",
    "\n",
    "# Blazingly-fast DataFrames with Polars\n",
    "\n",
    "In this notebook, we'll get a high-level understanding of Polars by exploring ~1 year the airline on-time performance data.\n",
    "\n",
    "---"
   ]
  },
  {
   "cell_type": "markdown",
   "id": "d8850ec4-5804-437b-bca6-7b28f7a2fd8c",
   "metadata": {},
   "source": [
    "[Polars](https://docs.pola.rs) is a relatively new, but increasingly popular library for manipulating structured data. With a Rust-based core query engine, it is designed for efficient, out-of-core, and parallel operations."
   ]
  },
  {
   "cell_type": "markdown",
   "id": "c16dccd4-6f36-4bf8-bc94-23f7c4fa3dc9",
   "metadata": {},
   "source": [
    "## Read a Parquet file\n",
    "\n",
    "Polars has a strict grammar and composable API, as we will see in the following section.\n",
    "\n",
    "But to begin with, there are some similarities with the pandas API.\n",
    "For instance, you can use the similar `read_parquet`, `read_csv`, syntax for I/O, and `head`, `shape`, `column` to inspect the DataFrame."
   ]
  },
  {
   "cell_type": "code",
   "execution_count": null,
   "id": "d5787e06-aab6-41dc-b9fb-873023c9b251",
   "metadata": {},
   "outputs": [],
   "source": [
    "import polars as pl"
   ]
  },
  {
   "cell_type": "code",
   "execution_count": null,
   "id": "f995376b-3649-4a23-aa1c-0cf2c32ccb6e",
   "metadata": {},
   "outputs": [],
   "source": [
    "source = \"gs://quansight-datasets/airline-ontime-performance/parquet_by_year/YEAR=2022/part.200.parquet\"\n",
    "df = pl.read_parquet(source)"
   ]
  },
  {
   "cell_type": "code",
   "execution_count": null,
   "id": "dcfe096b-71ec-4bbe-871e-dd0466db0f11",
   "metadata": {},
   "outputs": [],
   "source": [
    "df.head()"
   ]
  },
  {
   "cell_type": "code",
   "execution_count": null,
   "id": "b1dd5975-3487-4bd8-beb7-ea57e84dc3af",
   "metadata": {},
   "outputs": [],
   "source": [
    "df.shape"
   ]
  },
  {
   "cell_type": "code",
   "execution_count": null,
   "id": "b7efaff4-0fb7-417a-815e-e4d19f51d393",
   "metadata": {},
   "outputs": [],
   "source": [
    "df.columns[:10]"
   ]
  },
  {
   "cell_type": "markdown",
   "id": "14a49c98-aaa2-4b79-8bfa-4bd1d0181cfe",
   "metadata": {},
   "source": [
    "## Expression system\n",
    "\n",
    "The expression system is one of the most powerful concepts in Polars.\n",
    "\n",
    "Before we look into expressions, let's walk through the building blocks: `select`, `filter`, `group_by`, and `with_columns`."
   ]
  },
  {
   "cell_type": "markdown",
   "id": "360d2dda-d5c6-4267-ba08-2f72ea0dffb3",
   "metadata": {},
   "source": [
    "### Building blocks"
   ]
  },
  {
   "cell_type": "markdown",
   "id": "f6fcb980-514e-4e3b-912c-0e07e8365fb2",
   "metadata": {},
   "source": [
    "#### Let's `select` a subset of columns"
   ]
  },
  {
   "cell_type": "code",
   "execution_count": null,
   "id": "fa78fe3d-c509-4d08-b10a-555ba73d3a91",
   "metadata": {},
   "outputs": [],
   "source": [
    "columns = [\n",
    "    'YEAR', 'MONTH', 'DAY_OF_MONTH', 'DAY_OF_WEEK', 'FL_DATE', 'OP_CARRIER', \n",
    "    'TAIL_NUM', 'OP_CARRIER_FL_NUM', 'ORIGIN', 'DEST', 'CRS_DEP_TIME', \n",
    "    'DEP_TIME', 'DEP_DELAY', 'ARR_TIME', 'ARR_DELAY', 'CANCELLED', \n",
    "    'CANCELLATION_CODE', 'DIVERTED', 'AIR_TIME', 'FLIGHTS', 'DISTANCE',\n",
    "]"
   ]
  },
  {
   "cell_type": "code",
   "execution_count": null,
   "id": "3e7a4845-ba7a-4113-9047-583e4dc7d569",
   "metadata": {},
   "outputs": [],
   "source": [
    "df = df.select(pl.col(columns))"
   ]
  },
  {
   "cell_type": "code",
   "execution_count": null,
   "id": "f40b3f88-61f9-4b43-b538-23cc84cdda12",
   "metadata": {},
   "outputs": [],
   "source": [
    "df.columns"
   ]
  },
  {
   "cell_type": "markdown",
   "id": "9ce0ae23-cd23-40bb-b2dd-0972961477e9",
   "metadata": {},
   "source": [
    "#### Let's `filter` for the \"DL\" carrier"
   ]
  },
  {
   "cell_type": "code",
   "execution_count": null,
   "id": "102d6e6c-ef29-4f95-b20d-363e4e1c292f",
   "metadata": {},
   "outputs": [],
   "source": [
    "df.filter((pl.col(\"OP_CARRIER\") == \"DL\"))"
   ]
  },
  {
   "cell_type": "markdown",
   "id": "8f99e3b5-e855-4310-8c19-0a87b396eaa0",
   "metadata": {},
   "source": [
    "#### Find the number of entries for each day of the week (`groupby`)"
   ]
  },
  {
   "cell_type": "code",
   "execution_count": null,
   "id": "3996258c-1669-4e5d-9ecd-ef4bcd536c44",
   "metadata": {},
   "outputs": [],
   "source": [
    "df.group_by(\"DAY_OF_WEEK\").len()"
   ]
  },
  {
   "cell_type": "markdown",
   "id": "44417718-bd91-4e66-ae97-27a00c7588e7",
   "metadata": {},
   "source": [
    "#### Create a new column with  \"DISTANCE\" values in kilometers instead of miles (`with_columns`)"
   ]
  },
  {
   "cell_type": "code",
   "execution_count": null,
   "id": "254b070b-6e08-45c2-a771-a0c0cbdfb06d",
   "metadata": {},
   "outputs": [],
   "source": [
    "df.with_columns((pl.col(\"DISTANCE\")*1.609344).alias(\"DISTANCE_KM\"))"
   ]
  },
  {
   "cell_type": "markdown",
   "id": "8ae7f480-72f3-4ad8-94d1-c66250452854",
   "metadata": {},
   "source": [
    "### Expressions & Context\n",
    "\n",
    "> An expression is a tree of operations that describe how to construct one or more Series. As the outputs are Series, it is straightforward to apply a sequence of expressions (similar to method chaining in pandas) each of which transforms the output from the previous step.\n",
    ">\n",
    "> ~ [Expressions - Polars documentation](https://docs.pola.rs/user-guide/concepts/expressions/)\n",
    "\n",
    "Expressions allow you to decouple the logic from execution, and Polars can optimize and parallelize the expressions.\n",
    "\n",
    "A related concept ins **Context**:\n",
    "\n",
    "> A context, as implied by the name, refers to the context in which an expression needs to be evaluated. There are three main contexts:\n",
    ">\n",
    "> * Selection: df.select(...), df.with_columns(...)\n",
    "> * Filtering: df.filter()\n",
    "> * Group by / Aggregation: df.group_by(...).agg(...)\n",
    ">\n",
    "> ~ [Context - Polars documentation](https://docs.pola.rs/user-guide/concepts/contexts/)"
   ]
  },
  {
   "cell_type": "markdown",
   "id": "897e5ddf-bce9-4fb3-901b-08dd1d31bf9f",
   "metadata": {},
   "source": [
    "Let's understand these with some example computations similar to the initial pandas and Dask computations:"
   ]
  },
  {
   "cell_type": "markdown",
   "id": "e20e1a0d-06ce-460e-a7ad-141360d4be6b",
   "metadata": {},
   "source": [
    "#### What are the mean & median, arrival and departure delays?"
   ]
  },
  {
   "cell_type": "markdown",
   "id": "e4db2f47-ab46-42d1-8685-90acce581073",
   "metadata": {},
   "source": [
    "The expression would be:"
   ]
  },
  {
   "cell_type": "code",
   "execution_count": null,
   "id": "6af5f511-0430-4e01-a31b-c9dd410be241",
   "metadata": {},
   "outputs": [],
   "source": [
    "(\n",
    "    pl.col(\"DEP_DELAY\", \"ARR_DELAY\").mean()\n",
    ")"
   ]
  },
  {
   "cell_type": "markdown",
   "id": "56d93ba6-2968-4345-b007-297b91cebfa8",
   "metadata": {},
   "source": [
    "Now, you can apply this expression to any DataFrame with `select`, putting this in the \"selection\" context:"
   ]
  },
  {
   "cell_type": "code",
   "execution_count": null,
   "id": "94193770-ad7b-4b2a-bbfb-d4c5e39e5226",
   "metadata": {},
   "outputs": [],
   "source": [
    "df.select(pl.col(\"DEP_DELAY\", \"ARR_DELAY\").mean())"
   ]
  },
  {
   "cell_type": "markdown",
   "id": "c1b53c65-b850-45d7-a9da-d90824001282",
   "metadata": {},
   "source": [
    "You can provide several expressions, and they will be executed in parallel:"
   ]
  },
  {
   "cell_type": "code",
   "execution_count": null,
   "id": "9c8a60ba-0627-44c5-a893-3defee24c752",
   "metadata": {},
   "outputs": [],
   "source": [
    "# executed in parallel\n",
    "df.select(\n",
    "    pl.col(\"DEP_DELAY\").mean().alias(\"MEAN_DEP_DELAY\"),\n",
    "    pl.col(\"DEP_DELAY\").median().alias(\"MEDIAN_DEP_DELAY\"),\n",
    "    pl.col(\"ARR_DELAY\").mean().alias(\"MEAN_ARR_DELAY\"),\n",
    "    pl.col(\"ARR_DELAY\").median().alias(\"MEDAIN_ARR_DELAY\"),\n",
    ")"
   ]
  },
  {
   "cell_type": "markdown",
   "id": "5f9ffc8f-6cce-4128-ab3c-050ce9deaa73",
   "metadata": {},
   "source": [
    "#### 💻 Your turn: Find the mean arrival and departure delays for each airline\n",
    "\n",
    "Hint: Use `df.group_by(...).agg(...)`"
   ]
  },
  {
   "cell_type": "code",
   "execution_count": null,
   "id": "b52429a2-0b39-4a55-b0b7-318c2f8b7635",
   "metadata": {},
   "outputs": [],
   "source": [
    "# Your code here. When ready, click on the three dots for the solutions."
   ]
  },
  {
   "cell_type": "code",
   "execution_count": null,
   "id": "9b79c1aa-8822-466a-82d1-2ae59be33b5e",
   "metadata": {
    "jupyter": {
     "source_hidden": true
    }
   },
   "outputs": [],
   "source": [
    "df.group_by(\"OP_CARRIER\").agg(\n",
    "     pl.col(\"DEP_DELAY\").mean(),\n",
    "     pl.col(\"ARR_DELAY\").mean(),\n",
    ")"
   ]
  },
  {
   "cell_type": "markdown",
   "id": "6cec2046-639a-4276-a858-6cb4f1a7aad4",
   "metadata": {},
   "source": [
    "## Lazy evaluation\n",
    "\n",
    "Similar to Dask, Polars also supports lazy evaluation. A lazily evaluated DataFrame is called the `LazyFrame` in Polars.\n",
    "\n",
    "Our expressions operate the same in lazy and eager mode."
   ]
  },
  {
   "cell_type": "code",
   "execution_count": null,
   "id": "1",
   "metadata": {},
   "outputs": [],
   "source": [
    "import polars as pl\n",
    "import numpy as np\n",
    "from datetime import date\n",
    "\n",
    "times = pl.datetime_range(date(1900, 1, 1), date(2100, 1, 1), '1m', eager=True)\n",
    "\n",
    "df = pl.DataFrame({\n",
    "    'time': times,\n",
    "    'value': np.random.randn(len(times)),\n",
    "    'category': np.random.randint(0, 3, size=len(times)),\n",
    "    'id': np.random.randint(0, 2, size=(len(times))),\n",
    "})"
   ]
  },
  {
   "cell_type": "code",
   "execution_count": null,
   "id": "2",
   "metadata": {},
   "outputs": [],
   "source": [
    "df.write_parquet('big_dataset.parquet')\n",
    "import gc\n",
    "del df\n",
    "gc.collect()"
   ]
  },
  {
   "cell_type": "markdown",
   "id": "3",
   "metadata": {},
   "source": [
    "Next, let's:\n",
    "- read in the parquet file `big_dataset.parquet`\n",
    "- select column `'time'`, but sorted descending, and then take only the first 5 elements"
   ]
  },
  {
   "cell_type": "code",
   "execution_count": null,
   "id": "4",
   "metadata": {},
   "outputs": [],
   "source": []
  },
  {
   "cell_type": "markdown",
   "id": "5",
   "metadata": {},
   "source": [
    "If you did this using `read_parquet`, try changing it to `scan_parquet`, and add `.collect` at the end"
   ]
  },
  {
   "cell_type": "markdown",
   "id": "6",
   "metadata": {},
   "source": [
    "You probably got a 2x speed-up by doing practically nothing!\n",
    "\n",
    "Let's learn more about laziness!"
   ]
  },
  {
   "cell_type": "markdown",
   "id": "76437def-e772-4054-9eab-5fe14352b5a0",
   "metadata": {},
   "source": [
    "To create a `LazyFrame`, we use `scan_parquet` (instead of `read_parquet`):"
   ]
  },
  {
   "cell_type": "code",
   "execution_count": null,
   "id": "ea761b4b-6416-48c3-9bec-d8b9519f4725",
   "metadata": {},
   "outputs": [],
   "source": [
    "source = \"gs://quansight-datasets/airline-ontime-performance/parquet_by_year/YEAR=2022/*.parquet\"\n",
    "df_lazy = pl.scan_parquet(source)"
   ]
  },
  {
   "cell_type": "code",
   "execution_count": null,
   "id": "b33530ab-db38-4468-af92-1714006d42dd",
   "metadata": {},
   "outputs": [],
   "source": [
    "df_lazy"
   ]
  },
  {
   "cell_type": "markdown",
   "id": "c6f55234-827a-4dab-9048-485e184440d8",
   "metadata": {},
   "source": [
    "`LazyFrame`s have an explain method, where \"PROJECT\" refers to the number of columns Polars will operate on."
   ]
  },
  {
   "cell_type": "code",
   "execution_count": null,
   "id": "66d792ba-731e-4283-95df-7eaf89c29894",
   "metadata": {},
   "outputs": [],
   "source": [
    "print(df.explain())"
   ]
  },
  {
   "cell_type": "markdown",
   "id": "3fd52c8c-b65c-4a3e-903a-32a0f59e291a",
   "metadata": {},
   "source": [
    "### Re-compute mean & median, arrival and departure delays"
   ]
  },
  {
   "cell_type": "code",
   "execution_count": null,
   "id": "ece1ab00",
   "metadata": {},
   "outputs": [],
   "source": [
    "df_lazy.select(\n",
    "    pl.col(\"DEP_DELAY\").mean().alias(\"MEAN_DEP_DELAY\"),\n",
    "    pl.col(\"DEP_DELAY\").median().alias(\"MEDIAN_DEP_DELAY\"),\n",
    "    pl.col(\"ARR_DELAY\").mean().alias(\"MEAN_ARR_DELAY\"),\n",
    "    pl.col(\"ARR_DELAY\").median().alias(\"MEDAIN_ARR_DELAY\"),\n",
    ")"
   ]
  },
  {
   "cell_type": "markdown",
   "id": "b321b6c7-2494-417b-aee6-190bec40b548",
   "metadata": {},
   "source": [
    "Now, on `.explain`, PROJECT shows 2/109 COLUMNS:"
   ]
  },
  {
   "cell_type": "code",
   "execution_count": null,
   "id": "04a23950-de55-465a-adcb-1e8adb9a7435",
   "metadata": {},
   "outputs": [],
   "source": [
    "df_lazy.select(\n",
    "    pl.col(\"DEP_DELAY\").mean().alias(\"MEAN_DEP_DELAY\"),\n",
    "    pl.col(\"DEP_DELAY\").median().alias(\"MEDIAN_DEP_DELAY\"),\n",
    "    pl.col(\"ARR_DELAY\").mean().alias(\"MEAN_ARR_DELAY\"),\n",
    "    pl.col(\"ARR_DELAY\").median().alias(\"MEDAIN_ARR_DELAY\"),\n",
    ").explain()"
   ]
  },
  {
   "cell_type": "markdown",
   "id": "51f2d411-f956-427b-a3eb-8a82f2a0a786",
   "metadata": {},
   "source": [
    "`.collect()` perform the computation and returns the result eagerly:"
   ]
  },
  {
   "cell_type": "code",
   "execution_count": null,
   "id": "c891a76a-6580-45be-85c7-f99061c235a7",
   "metadata": {},
   "outputs": [],
   "source": [
    "df_lazy.select(\n",
    "    pl.col(\"DEP_DELAY\").mean().alias(\"MEAN_DEP_DELAY\"),\n",
    "    pl.col(\"DEP_DELAY\").median().alias(\"MEDIAN_DEP_DELAY\"),\n",
    "    pl.col(\"ARR_DELAY\").mean().alias(\"MEAN_ARR_DELAY\"),\n",
    "    pl.col(\"ARR_DELAY\").median().alias(\"MEDAIN_ARR_DELAY\"),\n",
    ").collect()"
   ]
  },
  {
   "cell_type": "markdown",
   "id": "6baa6004-3f60-413f-8ad3-40c7a4f2703a",
   "metadata": {},
   "source": [
    "Finally, you can also `.profile()` the compute to find areas for optimization:"
   ]
  },
  {
   "cell_type": "code",
   "execution_count": null,
   "id": "72a5aef6-9bc8-46a4-9927-f75ab1af6224",
   "metadata": {},
   "outputs": [],
   "source": [
    "df_lazy.select(\n",
    "    pl.col(\"DEP_DELAY\").mean().alias(\"MEAN_DEP_DELAY\"),\n",
    "    pl.col(\"DEP_DELAY\").median().alias(\"MEDIAN_DEP_DELAY\"),\n",
    "    pl.col(\"ARR_DELAY\").mean().alias(\"MEAN_ARR_DELAY\"),\n",
    "    pl.col(\"ARR_DELAY\").median().alias(\"MEDAIN_ARR_DELAY\"),\n",
    ").profile()"
   ]
  },
  {
   "attachments": {},
   "cell_type": "markdown",
   "id": "4e6458dd-bef6-4044-abea-3e2d1166567e",
   "metadata": {},
   "source": [
    "## Limitations\n",
    "\n",
    "### Polars is design for efficient columnar operations\n",
    "\n",
    "Hence, `axis=1` operations have limited support, and may be efficient than array libraries.\n",
    "\n",
    "If you have only numerical data, convert to NumPy (`.to_numpy()`)\n",
    "\n",
    "### Incomplete support for full pandas API\n",
    "\n",
    "You may find some functionality which is only available in pandas, and not (yet) in Polars.\n",
    "\n",
    "In that case, you can easily convert to pandas:\n",
    "\n",
    "- `.to_pandas()`: probably copies data\n",
    "- `.to_pandas(use_pyarrow_extension_array=True)`: zero-copy, but pandas support for pyarrow is still flaky"
   ]
  },
  {
   "cell_type": "markdown",
   "id": "3e782299-471d-483a-8d9e-8a80a5b9619c",
   "metadata": {},
   "source": [
    "---\n",
    "\n",
    "## Next →\n",
    "\n",
    "Let's learn about [DuckDB](11-duckdb.ipynb)!"
   ]
  },
  {
   "cell_type": "code",
   "execution_count": null,
   "id": "189d4b77-53b8-475b-a5c7-be752f1d25b6",
   "metadata": {},
   "outputs": [],
   "source": []
  }
 ],
 "metadata": {
  "kernelspec": {
   "display_name": "scipy-scipy-data-of-unusual-size",
   "language": "python",
   "name": "conda-env-scipy-scipy-data-of-unusual-size-py"
  },
  "language_info": {
   "codemirror_mode": {
    "name": "ipython",
    "version": 3
   },
   "file_extension": ".py",
   "mimetype": "text/x-python",
   "name": "python",
   "nbconvert_exporter": "python",
   "pygments_lexer": "ipython3",
   "version": "3.10.14"
  }
 },
 "nbformat": 4,
 "nbformat_minor": 5
}
