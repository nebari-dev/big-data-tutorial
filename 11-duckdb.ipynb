{
 "cells": [
  {
   "cell_type": "markdown",
   "id": "76d2443a-83cf-44ea-86d4-88f53375ce02",
   "metadata": {},
   "source": [
    "<img src=\"images/duckdb-logo.png\" width=\"15%\" align=\"right\">\n",
    "\n",
    "# DuckDB\n",
    "\n",
    "---"
   ]
  },
  {
   "cell_type": "code",
   "execution_count": null,
   "id": "def32939-6a6f-4e59-bb2c-971ac4949f6d",
   "metadata": {},
   "outputs": [],
   "source": [
    "import duckdb\n",
    "import pandas as pd"
   ]
  },
  {
   "cell_type": "code",
   "execution_count": null,
   "id": "611815d8-eb28-47be-892b-b5c62ce82c6d",
   "metadata": {},
   "outputs": [],
   "source": [
    "source = \"https://quansight-datasets.storage.googleapis.com/airline-ontime-performance/parquet_by_year/YEAR=2022/part.200.parquet\"\n",
    "df = duckdb.read_parquet(source)"
   ]
  },
  {
   "cell_type": "code",
   "execution_count": null,
   "id": "5522c201-7174-40c1-a328-6c201a15acf0",
   "metadata": {
    "scrolled": true
   },
   "outputs": [],
   "source": [
    "duckdb.sql(\"SELECT * FROM df\")"
   ]
  },
  {
   "cell_type": "markdown",
   "id": "ed7fcd50-0fb4-4d0e-85db-2a5a3293eeb5",
   "metadata": {},
   "source": [
    "### Mean arrival delay"
   ]
  },
  {
   "cell_type": "markdown",
   "id": "9d3052e1-0917-4b0a-b08a-777ff5047747",
   "metadata": {},
   "source": [
    "You can now use SQL queries:"
   ]
  },
  {
   "cell_type": "code",
   "execution_count": null,
   "id": "3e4f4f41-c681-4abb-967c-1517f3b96351",
   "metadata": {},
   "outputs": [],
   "source": [
    "duckdb.sql(\"SELECT AVG(ARR_DELAY) FROM df\")"
   ]
  },
  {
   "cell_type": "markdown",
   "id": "c3df5b1c-9a71-472b-9a40-859196de9f56",
   "metadata": {},
   "source": [
    "---\n",
    "\n",
    "## Next →\n",
    "\n",
    "[Let's wrap up](12-conclusion.ipynb)!"
   ]
  },
  {
   "cell_type": "code",
   "execution_count": null,
   "id": "fa7c5a9a-6b98-4a7a-9d70-6c5a6bc12e41",
   "metadata": {},
   "outputs": [],
   "source": []
  }
 ],
 "metadata": {
  "kernelspec": {
   "display_name": "scipy-scipy-data-of-unusual-size",
   "language": "python",
   "name": "conda-env-scipy-scipy-data-of-unusual-size-py"
  },
  "language_info": {
   "codemirror_mode": {
    "name": "ipython",
    "version": 3
   },
   "file_extension": ".py",
   "mimetype": "text/x-python",
   "name": "python",
   "nbconvert_exporter": "python",
   "pygments_lexer": "ipython3",
   "version": "3.10.14"
  }
 },
 "nbformat": 4,
 "nbformat_minor": 5
}
