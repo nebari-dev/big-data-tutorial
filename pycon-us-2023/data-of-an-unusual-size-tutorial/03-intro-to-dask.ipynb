{
 "cells": [
  {
   "cell_type": "markdown",
   "id": "322b6dca-6b7a-4c56-b2f4-27b887684d6d",
   "metadata": {},
   "source": [
    "# Scale workflows with Dask"
   ]
  },
  {
   "cell_type": "markdown",
   "id": "696073a3-cd04-4b5f-8e96-77f0dda3c659",
   "metadata": {},
   "source": [
    "## What is Dask?\n",
    "\n",
    "* Parallel and distributed computing (diagramatic rep of both)\n",
    "* Various API, distributed scheduler\n",
    "* We'll look at Dask DataFrame"
   ]
  },
  {
   "cell_type": "markdown",
   "id": "9c6162df-0082-401c-9da0-da3336801aea",
   "metadata": {},
   "source": [
    "## Dask DataFrame API\n",
    "\n",
    "* Parallel pandas\n",
    "* Discuss parititions\n",
    "* Discuss paradigm shift with mean and median example"
   ]
  },
  {
   "cell_type": "markdown",
   "id": "d250712f-e464-425a-b24b-8be29dca1672",
   "metadata": {},
   "source": [
    "## Dask cluster\n",
    "\n",
    "* Scheduler, workers, dashboard"
   ]
  },
  {
   "cell_type": "markdown",
   "id": "99b4d6b0-382c-4406-9dca-0cb3b6245536",
   "metadata": {},
   "source": [
    "## Parallelize previous pandas workflows\n",
    "\n",
    "- LocalCluster?\n",
    "- Parallel read (CSV vs Parquet)\n",
    "- Previous exercises"
   ]
  },
  {
   "cell_type": "markdown",
   "id": "27e1727d-6b40-4109-905a-931b30ce8c1a",
   "metadata": {},
   "source": [
    "## Dask Gateway\n",
    "\n",
    "* What it is?\n",
    "* How it works in Nebari (diagram?)"
   ]
  },
  {
   "cell_type": "code",
   "execution_count": null,
   "id": "5b8f7b1d-6252-40a6-9754-7063e178f275",
   "metadata": {},
   "outputs": [],
   "source": []
  },
  {
   "cell_type": "markdown",
   "id": "6205eb7e-c6ea-4908-8947-907725a46150",
   "metadata": {},
   "source": [
    "## Read the entire dataset"
   ]
  },
  {
   "cell_type": "code",
   "execution_count": null,
   "id": "f327b960-605f-45a7-b978-301cd1440c00",
   "metadata": {},
   "outputs": [],
   "source": []
  },
  {
   "cell_type": "code",
   "execution_count": null,
   "id": "d21651fb-bd63-4bc7-a07c-6585dc9cdc6f",
   "metadata": {},
   "outputs": [],
   "source": []
  },
  {
   "cell_type": "code",
   "execution_count": null,
   "id": "2411e48d-7b31-460b-b8c2-d0e475acbc0b",
   "metadata": {},
   "outputs": [],
   "source": []
  },
  {
   "cell_type": "markdown",
   "id": "d5e2a373-ef6f-4e9c-837c-3da2dadfcbfb",
   "metadata": {},
   "source": [
    "## Scale previous workflows to the full dataset"
   ]
  },
  {
   "cell_type": "code",
   "execution_count": null,
   "id": "2746c85a-d4c9-4ad1-b076-dc63d6852720",
   "metadata": {},
   "outputs": [],
   "source": []
  }
 ],
 "metadata": {
  "kernelspec": {
   "display_name": "Python 3 (ipykernel)",
   "language": "python",
   "name": "python3"
  },
  "language_info": {
   "codemirror_mode": {
    "name": "ipython",
    "version": 3
   },
   "file_extension": ".py",
   "mimetype": "text/x-python",
   "name": "python",
   "nbconvert_exporter": "python",
   "pygments_lexer": "ipython3",
   "version": "3.10.9"
  }
 },
 "nbformat": 4,
 "nbformat_minor": 5
}
