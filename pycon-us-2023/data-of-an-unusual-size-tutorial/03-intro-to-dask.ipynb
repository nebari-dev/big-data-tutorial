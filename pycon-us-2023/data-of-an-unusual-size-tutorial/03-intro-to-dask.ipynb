{
 "cells": [
  {
   "cell_type": "markdown",
   "id": "322b6dca-6b7a-4c56-b2f4-27b887684d6d",
   "metadata": {},
   "source": [
    "# Introduction to scalable computing with Dask\n",
    "\n",
    "---"
   ]
  },
  {
   "cell_type": "markdown",
   "id": "1ee26a62-fcb0-469f-8e71-fe3e49fb141e",
   "metadata": {},
   "source": [
    "## What is Dask?\n",
    "\n",
    "A library for **parallel and distributed computing in Python**.\n",
    "\n",
    "Traditional libraries were designed for linear workflows, Dask provides a similar API to run the same computations in parallel.\n",
    "\n",
    "## Parallel computing\n",
    "\n",
    "Computing parts of a workflow simultaneously. Usually, this used to describe single-machine parallelism, where your computation can be run simultaneously on various cores while sharing the same memory (RAM)."
   ]
  },
  {
   "cell_type": "code",
   "execution_count": null,
   "id": "23ebde57-f6bc-41dc-978f-fd690722b59a",
   "metadata": {},
   "outputs": [],
   "source": [
    "from time import sleep\n",
    "\n",
    "def add(x, y):\n",
    "    sleep(1)\n",
    "    return x + y\n",
    "\n",
    "def mul(x, y):\n",
    "    sleep(1)\n",
    "    return x * y"
   ]
  },
  {
   "cell_type": "code",
   "execution_count": null,
   "id": "820f1664-1cf2-4bdb-a8fd-f5432c42c6ec",
   "metadata": {},
   "outputs": [],
   "source": [
    "%%time\n",
    "\n",
    "a = add(5, 5)\n",
    "b = add(10, 10)\n",
    "c = mul(a, b)\n",
    "c"
   ]
  },
  {
   "cell_type": "code",
   "execution_count": null,
   "id": "e8d0658e-f1e1-414c-9600-3dd9309c4241",
   "metadata": {},
   "outputs": [],
   "source": [
    "import dask\n",
    "\n",
    "parallel_add = dask.delayed(add)\n",
    "parallel_mul = dask.delayed(mul)"
   ]
  },
  {
   "cell_type": "code",
   "execution_count": null,
   "id": "4a45d44a-b3ea-43e2-a938-56fc73eb1255",
   "metadata": {},
   "outputs": [],
   "source": [
    "%%time\n",
    "\n",
    "a = parallel_add(5, 5)\n",
    "b = parallel_add(10, 10)\n",
    "c = parallel_mul(a, b)\n",
    "c"
   ]
  },
  {
   "cell_type": "markdown",
   "id": "994494da-c7ff-4cf4-b442-094833d10141",
   "metadata": {
    "tags": []
   },
   "source": [
    "### Lazy evaluation\n",
    "\n",
    "Dask evaluates your computations lazily.\n",
    "\n",
    "This means Dask only creates the logic of your computation, i.e. how to run your compute in parallel."
   ]
  },
  {
   "cell_type": "code",
   "execution_count": null,
   "id": "23defc83-e9c1-456b-88b2-f18b42da01ee",
   "metadata": {},
   "outputs": [],
   "source": [
    "c.visualize()"
   ]
  },
  {
   "cell_type": "markdown",
   "id": "742570e4-9657-4477-a7d5-4c8320c9d7b3",
   "metadata": {},
   "source": [
    "And, executes the logic on when needed."
   ]
  },
  {
   "cell_type": "code",
   "execution_count": null,
   "id": "307688e8-c2a1-406b-9195-6310dc5c6a78",
   "metadata": {},
   "outputs": [],
   "source": [
    "%%time\n",
    "\n",
    "c.compute()"
   ]
  },
  {
   "cell_type": "markdown",
   "id": "9c6162df-0082-401c-9da0-da3336801aea",
   "metadata": {},
   "source": [
    "## Dask DataFrame API\n",
    "\n",
    "Dask has a few different APIs, but we will primarily cover Dask's DataFrame API in this tutorial.\n",
    "\n",
    "The Dask DataFrame API parallelizes pandas."
   ]
  },
  {
   "cell_type": "code",
   "execution_count": null,
   "id": "0045d6ac-fc68-42de-a5eb-b557e5b69359",
   "metadata": {
    "tags": []
   },
   "outputs": [],
   "source": [
    "import dask.dataframe as dd"
   ]
  },
  {
   "cell_type": "code",
   "execution_count": null,
   "id": "c2343b3a-1fa1-46ec-ab34-25347e2d3091",
   "metadata": {
    "tags": []
   },
   "outputs": [],
   "source": [
    "ddf = dd.read_csv(\"gcs://quansight-datasets/airline-ontime-performance/csv/*2022.csv\")"
   ]
  },
  {
   "cell_type": "code",
   "execution_count": null,
   "id": "6293a01c-be14-4199-8b12-50b95110e1eb",
   "metadata": {
    "tags": []
   },
   "outputs": [],
   "source": [
    "ddf"
   ]
  },
  {
   "cell_type": "markdown",
   "id": "aaeef1df-b3f4-404c-844d-2b73c2dbf5cb",
   "metadata": {},
   "source": [
    "### Partitions\n",
    "\n",
    "A Dask DataFrame is a collection of pandas DataFrames (these are actually pandas DataFrames internally as well!):\n",
    "\n",
    "<img src=\"./images/dask-dataframe.svg\" width=\"30%\"/>\n",
    "\n",
    "where each pandas DataFrame is called a partition.\n",
    "\n",
    "Your Dask computations will be run on all the partitions in parallel, and then combined as necessary."
   ]
  },
  {
   "cell_type": "code",
   "execution_count": null,
   "id": "373f3ed5-ba0e-4fa9-bea5-dd2eba037875",
   "metadata": {
    "tags": []
   },
   "outputs": [],
   "source": [
    "ddf.npartitions"
   ]
  },
  {
   "cell_type": "code",
   "execution_count": null,
   "id": "c8744872-2965-4196-a786-a99ac9c6a0ef",
   "metadata": {
    "tags": []
   },
   "outputs": [],
   "source": [
    "ddf.partitions[1]"
   ]
  },
  {
   "cell_type": "markdown",
   "id": "fedcf25d-2a2c-43f0-ae85-e4c3fc4e77b3",
   "metadata": {},
   "source": [
    "Since we read a CSV file with one month of data per file, our Dask DataFrame is partitions such that each partition corresponds to one file."
   ]
  },
  {
   "cell_type": "markdown",
   "id": "ce402d85-e354-4b57-9484-4de37bded430",
   "metadata": {},
   "source": [
    "## Distributed computing\n",
    "\n",
    "Leveraging parallel computation on several different machines (workers) with their own processors and memory. These machines can interact to share data, and a central machine called the scheduler managed everything."
   ]
  },
  {
   "cell_type": "markdown",
   "id": "d250712f-e464-425a-b24b-8be29dca1672",
   "metadata": {
    "tags": []
   },
   "source": [
    "<img src=\"images/distributed-overview.png\" width=\"50%\"/>"
   ]
  },
  {
   "cell_type": "markdown",
   "id": "e7f15212-5e19-426c-9cdb-ff6954ea5358",
   "metadata": {},
   "source": [
    "## Dask Gateway\n",
    "\n",
    "A library to manage Dask clusters on the cloud.\n",
    "\n",
    "<img src=\"images/gateway-architecture.svg\" width=\"50%\" />"
   ]
  },
  {
   "cell_type": "code",
   "execution_count": null,
   "id": "4b73f379-8e09-46b1-b0a6-3362d4ed0e9f",
   "metadata": {
    "tags": []
   },
   "outputs": [],
   "source": [
    "import dask_gateway\n",
    "\n",
    "gateway = dask_gateway.Gateway()"
   ]
  },
  {
   "cell_type": "code",
   "execution_count": null,
   "id": "84fcbf73-44ad-489c-9921-f7d43865dd85",
   "metadata": {
    "tags": []
   },
   "outputs": [],
   "source": [
    "options = gateway.cluster_options(use_local_defaults=False)\n",
    "options"
   ]
  },
  {
   "cell_type": "code",
   "execution_count": null,
   "id": "797f30c3-a80b-491a-b6a3-11911b78e72b",
   "metadata": {
    "tags": []
   },
   "outputs": [],
   "source": [
    "cluster = gateway.new_cluster(options)\n",
    "cluster"
   ]
  },
  {
   "cell_type": "markdown",
   "id": "85ef1e2f-dc6d-48ef-aebc-37321b61f605",
   "metadata": {},
   "source": [
    "## Adaptive scaling\n",
    "\n",
    "TODO"
   ]
  },
  {
   "cell_type": "code",
   "execution_count": null,
   "id": "a3e4548d-2da9-4020-a89b-c5b3b8776c9e",
   "metadata": {
    "tags": []
   },
   "outputs": [],
   "source": [
    "client = cluster.get_client()\n",
    "client"
   ]
  },
  {
   "cell_type": "markdown",
   "id": "8106f5eb-74d1-440b-a43d-b47ab48f8da2",
   "metadata": {},
   "source": [
    "## Dask Dashboard\n",
    "\n",
    " - First time sign in\n",
    " - Open plots in JupyterLab\n",
    " - Important plots."
   ]
  },
  {
   "cell_type": "markdown",
   "id": "6cc25323-7706-4d2a-8465-f13c2587f6d2",
   "metadata": {},
   "source": [
    "## Read the full dataset"
   ]
  },
  {
   "cell_type": "code",
   "execution_count": null,
   "id": "bef0b67a-ae19-4507-b368-bab65c0c53af",
   "metadata": {
    "tags": []
   },
   "outputs": [],
   "source": [
    "import dask.dataframe as dd"
   ]
  },
  {
   "cell_type": "code",
   "execution_count": null,
   "id": "14fcf102-d237-4978-a14c-a40f649d5e63",
   "metadata": {
    "tags": []
   },
   "outputs": [],
   "source": [
    "%%time\n",
    "\n",
    "ddf = dd.read_csv(\"gcs://quansight-datasets/airline-ontime-performance/csv/*\")"
   ]
  },
  {
   "cell_type": "code",
   "execution_count": null,
   "id": "ca761eba-70e8-4127-8152-daf3e51be8ea",
   "metadata": {
    "tags": []
   },
   "outputs": [],
   "source": [
    "ddf"
   ]
  },
  {
   "cell_type": "code",
   "execution_count": null,
   "id": "7283c66d-66c4-4b6d-9405-5df22c6591ef",
   "metadata": {
    "tags": []
   },
   "outputs": [],
   "source": [
    "ddf.head()"
   ]
  },
  {
   "cell_type": "code",
   "execution_count": null,
   "id": "0e5688f3-ac4e-44ed-9a92-dbfaff904c1e",
   "metadata": {
    "tags": []
   },
   "outputs": [],
   "source": []
  },
  {
   "cell_type": "markdown",
   "id": "c448b45d-8ce5-4dc7-b44f-b9c12755b1c1",
   "metadata": {},
   "source": [
    "## Ensure cluster shutdown"
   ]
  },
  {
   "cell_type": "code",
   "execution_count": null,
   "id": "7eed29cc-4740-48de-b936-ed48795836b2",
   "metadata": {},
   "outputs": [],
   "source": [
    "client.close(shutdown=True)"
   ]
  },
  {
   "cell_type": "markdown",
   "id": "c8d51abc-2f51-42c1-86e1-5555d85c6d8a",
   "metadata": {},
   "source": [
    "## Other Dask APIs\n",
    "\n",
    "* Dask Array\n",
    "* Dask Bag\n",
    "* Dask Delayed and Futures\n",
    "\n",
    "Check out the official Dask tutorial to learn more!"
   ]
  },
  {
   "cell_type": "code",
   "execution_count": null,
   "id": "b0d9c69f-5e9c-4c5a-9ee6-078ed7e79190",
   "metadata": {},
   "outputs": [],
   "source": []
  }
 ],
 "metadata": {
  "kernelspec": {
   "display_name": "Python 3 (ipykernel)",
   "language": "python",
   "name": "python3"
  },
  "language_info": {
   "codemirror_mode": {
    "name": "ipython",
    "version": 3
   },
   "file_extension": ".py",
   "mimetype": "text/x-python",
   "name": "python",
   "nbconvert_exporter": "python",
   "pygments_lexer": "ipython3",
   "version": "3.10.9"
  }
 },
 "nbformat": 4,
 "nbformat_minor": 5
}
