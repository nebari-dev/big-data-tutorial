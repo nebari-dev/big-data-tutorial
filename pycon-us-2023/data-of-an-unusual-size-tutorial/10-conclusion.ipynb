{
 "cells": [
  {
   "cell_type": "markdown",
   "id": "14213f0c-4d9b-430c-ba4d-983e0be24c46",
   "metadata": {},
   "source": [
    "# Conclusion\n",
    "\n",
    "---\n",
    "\n",
    "Thank you for participating in this tutorial, we're glad to have had the chance to share this material with you!"
   ]
  },
  {
   "cell_type": "markdown",
   "id": "b5a15ed6-6d59-440e-8646-da2be4b340e8",
   "metadata": {},
   "source": [
    "## Further reading\n",
    "\n",
    "The best place for further reference are the corresponding project documentations:\n",
    "\n",
    "* [Dask](https://www.dask.org/)\n",
    "* [hvPlot](https://hvplot.holoviz.org/)\n",
    "* [Panel](https://panel.holoviz.org/)"
   ]
  },
  {
   "cell_type": "markdown",
   "id": "5f323404-0ca7-45bb-97d4-84eb2be022a6",
   "metadata": {},
   "source": [
    "## Acknowledgments\n",
    "\n",
    "In addition to the docs, we referred to various [Holoviz tool gallery examples](https://panel.holoviz.org/gallery/index.html) and the official [Dask tutorial](https://tutorial.dask.org/) while writing this tutorial.\n",
    "\n",
    "We also thank the entire PyData ecosystem for creating an awesome toolkit for data science! All the libraries we discussed (pandas, Dask, Bokeh, Holoviz, GCSFS, and more) interoperate seamlessly and are often developed in a collaborative manner. :)"
   ]
  },
  {
   "cell_type": "markdown",
   "id": "feb77e9a-d36e-4ad2-8c76-3c30ab995ba5",
   "metadata": {
    "jp-MarkdownHeadingCollapsed": true,
    "tags": []
   },
   "source": [
    "## Feedback\n",
    "\n",
    "How did you like the tutorial content, presentation, platform, etc.? Would you like us to improve something? Let us know by filling this feedback form: **https://forms.gle/BYPpnreH2QhMwVn57**\n",
    "\n",
    "This will take you no more than 5 mins, and your responses will be anonymous. :)"
   ]
  },
  {
   "cell_type": "markdown",
   "id": "105ecc33-4068-4a24-baf2-c1f151b1a5ac",
   "metadata": {},
   "source": [
    "## Q/A\n",
    "What's on your mind? Let's chat!"
   ]
  },
  {
   "cell_type": "code",
   "execution_count": null,
   "id": "d0e1945d-dafd-4aef-aa1a-f264835ceb0f",
   "metadata": {},
   "outputs": [],
   "source": []
  }
 ],
 "metadata": {
  "kernelspec": {
   "display_name": "pycon2023-pycon2023-tutorial",
   "language": "python",
   "name": "conda-env-pycon2023-pycon2023-tutorial-py"
  },
  "language_info": {
   "codemirror_mode": {
    "name": "ipython",
    "version": 3
   },
   "file_extension": ".py",
   "mimetype": "text/x-python",
   "name": "python",
   "nbconvert_exporter": "python",
   "pygments_lexer": "ipython3",
   "version": "3.10.10"
  }
 },
 "nbformat": 4,
 "nbformat_minor": 5
}
