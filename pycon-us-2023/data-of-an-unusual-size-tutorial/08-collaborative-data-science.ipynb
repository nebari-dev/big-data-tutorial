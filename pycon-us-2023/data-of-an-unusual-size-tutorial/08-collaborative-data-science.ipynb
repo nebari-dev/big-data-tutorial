{
 "cells": [
  {
   "cell_type": "markdown",
   "id": "5f3f8ad6-92e3-4210-9ac9-41ec25085d0b",
   "metadata": {},
   "source": [
    "# Collaborative data science"
   ]
  },
  {
   "cell_type": "markdown",
   "id": "3a3b502b-faff-436a-be38-ede22739968f",
   "metadata": {},
   "source": [
    "## Share files\n",
    "\n",
    "TODO"
   ]
  },
  {
   "cell_type": "markdown",
   "id": "ede364bc-29ef-407e-b563-1d45d27048ac",
   "metadata": {},
   "source": [
    "## Share environments\n",
    "\n",
    "TODO"
   ]
  },
  {
   "cell_type": "markdown",
   "id": "4da45e58-f356-4f88-b150-bd003d83f61a",
   "metadata": {},
   "source": [
    "## Share dashboards\n",
    "\n",
    "TODO"
   ]
  },
  {
   "cell_type": "markdown",
   "id": "07e45854-0e4c-4a31-8d41-b82cbadfe196",
   "metadata": {},
   "source": [
    "## JupyterHub and Nebari\n",
    "\n",
    "- What is JupyerHub?\n",
    "\n",
    "Nebari:\n",
    "- Fully open source: Permissive license, built with FOSS tools with upstream contributions\n",
    "- Created by Quansight, now community driven: [nebari.dev](https://nebari.dev)\n",
    "\n",
    "If you're considering this for your team, check it out Nebari and our friends in the ecosystem: 2i2c, Anaconda, Saturn, Coiled, Domino Data Lab, and more. :)"
   ]
  }
 ],
 "metadata": {
  "kernelspec": {
   "display_name": "Python 3 (ipykernel)",
   "language": "python",
   "name": "python3"
  },
  "language_info": {
   "codemirror_mode": {
    "name": "ipython",
    "version": 3
   },
   "file_extension": ".py",
   "mimetype": "text/x-python",
   "name": "python",
   "nbconvert_exporter": "python",
   "pygments_lexer": "ipython3",
   "version": "3.10.10"
  }
 },
 "nbformat": 4,
 "nbformat_minor": 5
}
