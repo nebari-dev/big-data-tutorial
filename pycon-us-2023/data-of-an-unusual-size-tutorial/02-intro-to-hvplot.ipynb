{
 "cells": [
  {
   "cell_type": "markdown",
   "id": "f803e2f5-2cd5-4746-aa05-ac54b1f857df",
   "metadata": {},
   "source": [
    "# Introduction to hvplot\n",
    "\n",
    "## A familiar and high-level API for data exploration and visualization\n",
    "\n",
    "![image](https://hvplot.holoviz.org/assets/diagram.svg)\n",
    "\n",
    "`.hvplot()` is a powerful and interactive Pandas-like .plot() API\n",
    "\n",
    "**By replacing .plot() with .hvplot() you get an interactive figure.**"
   ]
  },
  {
   "cell_type": "code",
   "execution_count": null,
   "id": "b1755b76-9259-4581-aaa2-7778f6431d40",
   "metadata": {
    "tags": []
   },
   "outputs": [],
   "source": [
    "import pandas as pd"
   ]
  },
  {
   "cell_type": "code",
   "execution_count": null,
   "id": "13b49b64-058a-4080-b29f-17b42097e673",
   "metadata": {
    "tags": []
   },
   "outputs": [],
   "source": [
    "# note: this needs to be in its own cell to avoid race conditions\n",
    "import hvplot\n",
    "import hvplot.pandas # noqa\n",
    "\n",
    "hvplot.extension('bokeh')"
   ]
  },
  {
   "cell_type": "code",
   "execution_count": null,
   "id": "46ced20f-f0da-4a15-bf53-019a89ece1d9",
   "metadata": {
    "tags": []
   },
   "outputs": [],
   "source": [
    "# delete once we have public read bucket\n",
    "import gcsfs\n",
    "import json\n",
    "token = json.load(open(\"credentials.json\"))\n",
    "fs = gcsfs.GCSFileSystem(token=token)\n",
    "storage_options={\"token\": token}"
   ]
  },
  {
   "cell_type": "markdown",
   "id": "e17be552-28b9-4353-96ff-e9f5640aacc4",
   "metadata": {},
   "source": [
    "## Lets read in 1 year of data from parquet into pandas"
   ]
  },
  {
   "cell_type": "code",
   "execution_count": null,
   "id": "75bc10ad-86bd-4a7a-9b9a-2dcfadd7a611",
   "metadata": {
    "tags": []
   },
   "outputs": [],
   "source": [
    "columns = [\n",
    "    'MONTH', 'DAY_OF_MONTH', 'DAY_OF_WEEK', 'FL_DATE', 'OP_CARRIER', \n",
    "    'TAIL_NUM', 'OP_CARRIER_FL_NUM', 'ORIGIN', 'DEST', 'CRS_DEP_TIME', \n",
    "    'DEP_TIME', 'DEP_DELAY', 'ARR_TIME', 'ARR_DELAY', 'CANCELLED', \n",
    "    'CANCELLATION_CODE', 'DIVERTED', 'AIR_TIME', 'FLIGHTS', 'DISTANCE',\n",
    "    'CARRIER_DELAY', 'WEATHER_DELAY', 'NAS_DELAY', 'SECURITY_DELAY', \n",
    "    'LATE_AIRCRAFT_DELAY', 'DIV_ARR_DELAY'\n",
    "]"
   ]
  },
  {
   "cell_type": "code",
   "execution_count": null,
   "id": "df48beb6-7799-42b3-8ab4-b78996391536",
   "metadata": {
    "tags": []
   },
   "outputs": [],
   "source": [
    "flights = pd.read_parquet(\n",
    "        f\"gcs://quansight-datasets/airline-ontime-performance/parquet_by_year\", \n",
    "        filters=[('YEAR', '=', 2022)],\n",
    "        columns=columns, \n",
    "        storage_options=storage_options,\n",
    ")"
   ]
  },
  {
   "cell_type": "code",
   "execution_count": null,
   "id": "00465346-adc1-4cd6-9cc5-d027b9be1645",
   "metadata": {
    "tags": []
   },
   "outputs": [],
   "source": [
    "print(f\"Before : {len(flights)} rows\")\n",
    "# making the dataset smaller\n",
    "flights = flights[flights.OP_CARRIER.isin(['AA', 'UA', 'WN', 'DL'])]\n",
    "print(f\"After = {len(flights)} rows\")"
   ]
  },
  {
   "cell_type": "markdown",
   "id": "048434d3-770e-41bb-8d19-d506ace4e9c4",
   "metadata": {},
   "source": [
    "## hvplot as a pandas.plot replacement, easy interactivity"
   ]
  },
  {
   "cell_type": "code",
   "execution_count": null,
   "id": "cc00e3e1-fec8-4de0-a8bf-c5e580ca68ef",
   "metadata": {
    "tags": []
   },
   "outputs": [],
   "source": [
    "flights.groupby('FL_DATE')[\"DEP_DELAY\"].mean().plot()"
   ]
  },
  {
   "cell_type": "code",
   "execution_count": null,
   "id": "711c1745-6ef9-4c29-af43-e263db79e14c",
   "metadata": {
    "tags": []
   },
   "outputs": [],
   "source": [
    "flights.groupby('FL_DATE')[\"DEP_DELAY\"].mean().hvplot()"
   ]
  },
  {
   "cell_type": "code",
   "execution_count": null,
   "id": "31e7cde9-905d-4d25-b5c7-da5836b3921a",
   "metadata": {
    "tags": []
   },
   "outputs": [],
   "source": [
    "# Exercise\n",
    "# Add Arrival Delay to the plot\n",
    "# See if the day of week or day of month makes a difference\n",
    "# how about looking at the maximum delay or cumulative delay\n",
    "\n",
    "# solution\n",
    "flights.groupby('MONTH')[[\"DEP_DELAY\", \"ARR_DELAY\"]].mean().hvplot()"
   ]
  },
  {
   "cell_type": "markdown",
   "id": "afcfe82d-4f12-43bc-983a-d89b66c88561",
   "metadata": {},
   "source": [
    "## Ok so I get zoom, meh."
   ]
  },
  {
   "cell_type": "code",
   "execution_count": null,
   "id": "c8da34c8-bf9b-46e4-9c9a-7431819825da",
   "metadata": {
    "tags": []
   },
   "outputs": [],
   "source": [
    "flight_subset = flights[flights.OP_CARRIER.isin(['AA', 'UA', 'WN', 'DL'])]\n",
    "flight_subset.hvplot.hist('DEP_DELAY', by='OP_CARRIER', bins=20, bin_range=(-20, 100), width=300, subplots=True)"
   ]
  },
  {
   "cell_type": "markdown",
   "id": "ae45126f-b7a6-4540-a864-b0ee521c91ae",
   "metadata": {},
   "source": [
    "## Easy Widgets"
   ]
  },
  {
   "cell_type": "code",
   "execution_count": null,
   "id": "7405fd4a-df16-4263-a834-73c4c00d939a",
   "metadata": {
    "tags": []
   },
   "outputs": [],
   "source": [
    "flights.hvplot.hist('DEP_DELAY', groupby='OP_CARRIER', bins=20, bin_range=(-20, 100), width=300)"
   ]
  },
  {
   "cell_type": "code",
   "execution_count": null,
   "id": "6835c344-5f7f-4cbc-988c-7353b79b1b73",
   "metadata": {
    "tags": []
   },
   "outputs": [],
   "source": [
    "import numpy as np"
   ]
  },
  {
   "cell_type": "code",
   "execution_count": null,
   "id": "e5804fb6-6578-47d1-9894-e88abf0e8477",
   "metadata": {
    "tags": []
   },
   "outputs": [],
   "source": [
    "delays = flights.groupby(['DAY_OF_WEEK', 'OP_CARRIER'])['DEP_DELAY'].agg([np.min, np.mean, np.max])"
   ]
  },
  {
   "cell_type": "code",
   "execution_count": null,
   "id": "04144fb0-1ff4-457a-85da-3dd576a8fe41",
   "metadata": {
    "tags": []
   },
   "outputs": [],
   "source": [
    "delays.head()"
   ]
  },
  {
   "cell_type": "markdown",
   "id": "64e497dc-4918-46e8-9e49-228d8a2227ea",
   "metadata": {},
   "source": [
    "## Compose Plots "
   ]
  },
  {
   "cell_type": "code",
   "execution_count": null,
   "id": "d77b6fd1-350f-47eb-9f9f-e209ce54217f",
   "metadata": {
    "tags": []
   },
   "outputs": [],
   "source": [
    "min_max_plot = delays.hvplot.area(x='DAY_OF_WEEK', y='amin', y2='amax', alpha=0.2, groupby=\"OP_CARRIER\")"
   ]
  },
  {
   "cell_type": "code",
   "execution_count": null,
   "id": "a241f52c-1b1a-45af-a0c1-b6acdee5a31f",
   "metadata": {
    "tags": []
   },
   "outputs": [],
   "source": [
    "mean_plot = delays['mean'].hvplot.line(x='DAY_OF_WEEK', groupby=\"OP_CARRIER\")"
   ]
  },
  {
   "cell_type": "code",
   "execution_count": null,
   "id": "f9181d6a-56c0-466b-8f73-65bcf2e25f26",
   "metadata": {
    "tags": []
   },
   "outputs": [],
   "source": [
    "#\n",
    "min_max_plot + mean_plot"
   ]
  },
  {
   "cell_type": "code",
   "execution_count": null,
   "id": "c2b491df-de54-419c-af48-ad50e8b21d42",
   "metadata": {
    "tags": []
   },
   "outputs": [],
   "source": [
    "min_max_plot * mean_plot"
   ]
  },
  {
   "cell_type": "markdown",
   "id": "fa954704-bbcc-48e0-87fe-5dc484d6faea",
   "metadata": {},
   "source": [
    "## Use hvplot data explorer to get a feel for the data set"
   ]
  },
  {
   "cell_type": "code",
   "execution_count": null,
   "id": "ed02cf8d-070f-451b-87ec-90c5040930e4",
   "metadata": {
    "tags": []
   },
   "outputs": [],
   "source": [
    "# exercise (this needs work)\n",
    "explorer = hvplot.explorer(flights)\n",
    "explorer"
   ]
  },
  {
   "cell_type": "code",
   "execution_count": null,
   "id": "c2b5014f-5c4f-497e-809f-3456071b6148",
   "metadata": {
    "tags": []
   },
   "outputs": [],
   "source": [
    "# save settings from explorer after picking some options\n",
    "explorer.plot_code()"
   ]
  },
  {
   "cell_type": "code",
   "execution_count": null,
   "id": "40900852-482a-4d46-8f06-2dcf07e375f9",
   "metadata": {
    "tags": []
   },
   "outputs": [],
   "source": [
    "# look for columns associated with Delays (i.e. \"DEL\") \n",
    "# do this one with the explorer\n",
    "columns = [col for col in flights.columns if \"DEL\" in col]\n",
    "flights.hvplot.violin(y=columns, group_label='Type of Delay', value_label='Delay in Minutes', invert=True, groupby=\"OP_CARRIER\")"
   ]
  },
  {
   "cell_type": "code",
   "execution_count": null,
   "id": "ffc70dff-d9cc-417c-b2ad-f363d4d613a2",
   "metadata": {
    "tags": []
   },
   "outputs": [],
   "source": [
    "# exercise look at cancellations and reasons\n",
    "flights.groupby('FL_DATE')['CANCELLED'].agg('count', 'sum').hvplot()"
   ]
  },
  {
   "cell_type": "code",
   "execution_count": null,
   "id": "76941580-8094-4ed2-aa41-ccb95da9f080",
   "metadata": {
    "tags": []
   },
   "outputs": [],
   "source": [
    "# exercise \n",
    "flights['DEP_HOUR'] = flights.CRS_DEP_TIME.astype(int) // 100"
   ]
  },
  {
   "cell_type": "code",
   "execution_count": null,
   "id": "7aef706e-9944-4f5c-8200-da029a2ec83f",
   "metadata": {
    "tags": []
   },
   "outputs": [],
   "source": [
    "flights.groupby('DEP_HOUR')['DEP_DELAY'].mean().hvplot.bar()"
   ]
  },
  {
   "cell_type": "markdown",
   "id": "bcc002c6-be3d-4334-a488-6be260f144d3",
   "metadata": {
    "execution": {
     "iopub.execute_input": "2023-04-08T05:23:34.526542Z",
     "iopub.status.busy": "2023-04-08T05:23:34.525475Z",
     "iopub.status.idle": "2023-04-08T05:23:34.530800Z",
     "shell.execute_reply": "2023-04-08T05:23:34.529489Z",
     "shell.execute_reply.started": "2023-04-08T05:23:34.526507Z"
    },
    "tags": []
   },
   "source": [
    "## geoplot"
   ]
  },
  {
   "cell_type": "code",
   "execution_count": null,
   "id": "0ba547f9-ea4b-4165-b207-ecd420f41b0e",
   "metadata": {
    "tags": []
   },
   "outputs": [],
   "source": [
    "airports = pd.read_csv('https://raw.githubusercontent.com/ip2location/ip2location-iata-icao/master/iata-icao.csv') # should probably download this"
   ]
  },
  {
   "cell_type": "code",
   "execution_count": null,
   "id": "443d8e40-f4dc-477b-bf25-f073cff6b538",
   "metadata": {
    "tags": []
   },
   "outputs": [],
   "source": [
    "#airports = airports.set_index('iata')"
   ]
  },
  {
   "cell_type": "code",
   "execution_count": null,
   "id": "33128334-e926-4885-9885-2e283528631c",
   "metadata": {
    "tags": []
   },
   "outputs": [],
   "source": [
    "airport_delays = flights.groupby('ORIGIN')['DEP_DELAY'].mean()"
   ]
  },
  {
   "cell_type": "code",
   "execution_count": null,
   "id": "8149bdbc-7d5f-47e1-9890-f58e675f9868",
   "metadata": {
    "tags": []
   },
   "outputs": [],
   "source": [
    "airport_delays = pd.merge(airport_delays, airports, left_on='ORIGIN', right_on='iata')"
   ]
  },
  {
   "cell_type": "code",
   "execution_count": null,
   "id": "1fae8feb-cf6e-4b9d-ad19-8b65f7211f3c",
   "metadata": {
    "tags": []
   },
   "outputs": [],
   "source": [
    "# need to install geoviews for this to work\n",
    "airport_delays.hvplot.points('Longitude', 'Latitude', geo=True, c='DEP_DELAY', alpha=0.2,\n",
    "                       xlim=(-180, -30), ylim=(0, 72), tiles='ESRI')"
   ]
  },
  {
   "cell_type": "markdown",
   "id": "b9ac9450-9658-427d-945a-e9ffb5f2d5e3",
   "metadata": {},
   "source": [
    "## Panel example later? once we have Dask."
   ]
  }
 ],
 "metadata": {
  "kernelspec": {
   "display_name": "global-global-pycon2023",
   "language": "python",
   "name": "conda-env-global-global-pycon2023-py"
  },
  "language_info": {
   "codemirror_mode": {
    "name": "ipython",
    "version": 3
   },
   "file_extension": ".py",
   "mimetype": "text/x-python",
   "name": "python",
   "nbconvert_exporter": "python",
   "pygments_lexer": "ipython3",
   "version": "3.10.10"
  }
 },
 "nbformat": 4,
 "nbformat_minor": 5
}
