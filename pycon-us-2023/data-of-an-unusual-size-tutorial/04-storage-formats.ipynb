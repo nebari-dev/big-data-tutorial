{
 "cells": [
  {
   "cell_type": "markdown",
   "id": "cb1889be-8f58-4cc4-9fb3-82525aa36468",
   "metadata": {},
   "source": [
    "# Data storage and formats\n",
    "\n",
    "Large datasets are typically stored on cloud object storage, that are designed to:\n",
    "* store massive files,\n",
    "* for long periods of time, and\n",
    "* support parallelism in I/O operations.\n",
    "\n",
    "Some of the largest providers of object storage are Amazon S3, Google Cloud Storage, and Azure Data Lake. In this tutorial, we accessing data stored on Google Cloud Storage."
   ]
  },
  {
   "cell_type": "markdown",
   "id": "f24ef666-e482-4e1e-aaf5-7394a5019009",
   "metadata": {},
   "source": [
    "## Data has gravity\n",
    "\n",
    "It's almost always better to move your computations to the data (compared to vice-versa). This is because data transfers are typically the highest bottlenecks, so downloading data to a local machine and then computing will be very slow, even for small amounts of data.\n",
    "\n",
    "If your data is stored locally (for example, on hard drives), you should consider a local / on-prem cluster setup.\n",
    "\n",
    "If your data is stored on the cloud, you can spin up a cluster on the same cloud. Note that moving data between cloud providers can also get challenging."
   ]
  },
  {
   "cell_type": "markdown",
   "id": "d2f8a37f-6122-40c3-be87-c4c8e656ceda",
   "metadata": {},
   "source": [
    "## Cloud storage as file systems\n",
    "\n",
    "Libraries like `s3fs` and `gcsfs` allow you to access the data with a Python interface. In this tutorial, we're using [`gcsfs`](https://gcsfs.readthedocs.io/en/latest/https://gcsfs.readthedocs.io/en/latest/):"
   ]
  },
  {
   "cell_type": "code",
   "execution_count": 1,
   "id": "a83a768a-75a0-44a7-b710-794a967c799c",
   "metadata": {
    "execution": {
     "iopub.execute_input": "2023-04-14T13:33:50.237237Z",
     "iopub.status.busy": "2023-04-14T13:33:50.236840Z",
     "iopub.status.idle": "2023-04-14T13:33:51.336571Z",
     "shell.execute_reply": "2023-04-14T13:33:51.335655Z",
     "shell.execute_reply.started": "2023-04-14T13:33:50.237210Z"
    },
    "tags": []
   },
   "outputs": [],
   "source": [
    "import gcsfs"
   ]
  },
  {
   "cell_type": "code",
   "execution_count": 2,
   "id": "3a37d87e-9846-4817-a0d9-a473a920561f",
   "metadata": {
    "execution": {
     "iopub.execute_input": "2023-04-14T13:33:51.338513Z",
     "iopub.status.busy": "2023-04-14T13:33:51.338032Z",
     "iopub.status.idle": "2023-04-14T13:33:51.364764Z",
     "shell.execute_reply": "2023-04-14T13:33:51.363815Z",
     "shell.execute_reply.started": "2023-04-14T13:33:51.338483Z"
    },
    "tags": []
   },
   "outputs": [],
   "source": [
    "fs = gcsfs.GCSFileSystem()"
   ]
  },
  {
   "cell_type": "markdown",
   "id": "61e1d912-e786-400a-925d-82292cfdf31c",
   "metadata": {},
   "source": [
    "We're accessing public datasets, but you can also pass tokens for private buckets: `GCSFileSystem(token=your_token)`. \n",
    "\n",
    "You can now take a look at the storage bucket in a file-system like interface:"
   ]
  },
  {
   "cell_type": "code",
   "execution_count": 3,
   "id": "e0cfff64-bfd8-44f3-950b-09e64831c0cf",
   "metadata": {
    "execution": {
     "iopub.execute_input": "2023-04-14T13:33:52.639852Z",
     "iopub.status.busy": "2023-04-14T13:33:52.639504Z",
     "iopub.status.idle": "2023-04-14T13:33:52.836136Z",
     "shell.execute_reply": "2023-04-14T13:33:52.835376Z",
     "shell.execute_reply.started": "2023-04-14T13:33:52.639825Z"
    },
    "tags": []
   },
   "outputs": [
    {
     "data": {
      "text/plain": [
       "['quansight-datasets/airline-ontime-performance/csv',\n",
       " 'quansight-datasets/airline-ontime-performance/full_dataset.parquet',\n",
       " 'quansight-datasets/airline-ontime-performance/parquet_by_year',\n",
       " 'quansight-datasets/airline-ontime-performance/sorted']"
      ]
     },
     "execution_count": 3,
     "metadata": {},
     "output_type": "execute_result"
    }
   ],
   "source": [
    "fs.ls(\"quansight-datasets/airline-ontime-performance\")"
   ]
  },
  {
   "cell_type": "markdown",
   "id": "1bca6ccb-b6cd-43d2-8346-fbfb84148f27",
   "metadata": {},
   "source": [
    "### Your turn: Open the above folders to view the contents"
   ]
  },
  {
   "cell_type": "code",
   "execution_count": null,
   "id": "0ff5ea50-e752-4083-947e-82f6eb20c783",
   "metadata": {},
   "outputs": [],
   "source": [
    "# Your code here"
   ]
  },
  {
   "cell_type": "code",
   "execution_count": null,
   "id": "54fe0b0c-1368-4776-ba82-8c680ae9f598",
   "metadata": {
    "jupyter": {
     "source_hidden": true
    },
    "tags": []
   },
   "outputs": [],
   "source": [
    "fs.ls(\"quansight-datasets/airline-ontime-performance/csv/\")"
   ]
  },
  {
   "cell_type": "markdown",
   "id": "10947e8c-ce3e-4864-8e04-baacd35b7aac",
   "metadata": {},
   "source": [
    "### Your turn: Read a line from one of the CSV files"
   ]
  },
  {
   "cell_type": "code",
   "execution_count": null,
   "id": "d76ce682-13a3-4714-b323-c003cfaa4070",
   "metadata": {},
   "outputs": [],
   "source": [
    "# Your code here"
   ]
  },
  {
   "cell_type": "code",
   "execution_count": null,
   "id": "dfb1de8c-5b83-4585-a9d7-131be1e14b1b",
   "metadata": {
    "jupyter": {
     "source_hidden": true
    },
    "tags": []
   },
   "outputs": [],
   "source": [
    "with fs.open(\"quansight-datasets/airline-ontime-performance/csv/bts_airline_ontime_performance_april_2003.csv\", \"r\") as f:\n",
    "    print(f.readline())"
   ]
  },
  {
   "cell_type": "markdown",
   "id": "1a6b3c4f-7b3b-4dba-a39c-a6dcb606c173",
   "metadata": {},
   "source": [
    "## Start a Dask Gateway cluster\n",
    "\n",
    "As we learnt in the previous notebook."
   ]
  },
  {
   "cell_type": "code",
   "execution_count": 23,
   "id": "2e99a28e-226d-45fa-94c9-ee78c2688d40",
   "metadata": {
    "execution": {
     "iopub.execute_input": "2023-04-14T13:40:21.612729Z",
     "iopub.status.busy": "2023-04-14T13:40:21.612331Z",
     "iopub.status.idle": "2023-04-14T13:41:00.063587Z",
     "shell.execute_reply": "2023-04-14T13:41:00.062817Z",
     "shell.execute_reply.started": "2023-04-14T13:40:21.612701Z"
    },
    "tags": []
   },
   "outputs": [
    {
     "data": {
      "text/html": [
       "<div>\n",
       "    <div style=\"width: 24px; height: 24px; background-color: #e1e1e1; border: 3px solid #9D9D9D; border-radius: 5px; position: absolute;\"> </div>\n",
       "    <div style=\"margin-left: 48px;\">\n",
       "        <h3 style=\"margin-bottom: 0px;\">Client</h3>\n",
       "        <p style=\"color: #9D9D9D; margin-bottom: 0px;\">Client-fdd183b0-dac9-11ed-8058-2ef090b94afc</p>\n",
       "        <table style=\"width: 100%; text-align: left;\">\n",
       "\n",
       "        <tr>\n",
       "        \n",
       "            <td style=\"text-align: left;\"><strong>Connection method:</strong> Cluster object</td>\n",
       "            <td style=\"text-align: left;\"><strong>Cluster type:</strong> dask_gateway.GatewayCluster</td>\n",
       "        \n",
       "        </tr>\n",
       "\n",
       "        \n",
       "            <tr>\n",
       "                <td style=\"text-align: left;\">\n",
       "                    <strong>Dashboard: </strong> <a href=\"https://nebari.quansight.dev/gateway/clusters/dev.ed3d755e9f574c51b7d48be97901eb37/status\" target=\"_blank\">https://nebari.quansight.dev/gateway/clusters/dev.ed3d755e9f574c51b7d48be97901eb37/status</a>\n",
       "                </td>\n",
       "                <td style=\"text-align: left;\"></td>\n",
       "            </tr>\n",
       "        \n",
       "\n",
       "        </table>\n",
       "\n",
       "        \n",
       "\n",
       "        \n",
       "            <details>\n",
       "            <summary style=\"margin-bottom: 20px;\"><h3 style=\"display: inline;\">Cluster Info</h3></summary>\n",
       "            <div style='background-color: #f2f2f2; display: inline-block; padding: 10px; border: 1px solid #999999;'>\n",
       "  <h3>GatewayCluster</h3>\n",
       "  <ul>\n",
       "    <li><b>Name: </b>dev.ed3d755e9f574c51b7d48be97901eb37\n",
       "    <li><b>Dashboard: </b><a href='https://nebari.quansight.dev/gateway/clusters/dev.ed3d755e9f574c51b7d48be97901eb37/status' target='_blank'>https://nebari.quansight.dev/gateway/clusters/dev.ed3d755e9f574c51b7d48be97901eb37/status</a>\n",
       "  </ul>\n",
       "</div>\n",
       "\n",
       "            </details>\n",
       "        \n",
       "\n",
       "    </div>\n",
       "</div>"
      ],
      "text/plain": [
       "<Client: 'tls://10.32.9.3:8786' processes=0 threads=0, memory=0 B>"
      ]
     },
     "execution_count": 23,
     "metadata": {},
     "output_type": "execute_result"
    }
   ],
   "source": [
    "import dask_gateway\n",
    "\n",
    "gateway = dask_gateway.Gateway()\n",
    "\n",
    "options = gateway.cluster_options(use_local_defaults=False)\n",
    "options.profile = \"Medium Worker\"\n",
    "options.conda_environment = \"global/global-pycon2023\"\n",
    "\n",
    "cluster = gateway.new_cluster(options)\n",
    "\n",
    "cluster.adapt(minimum=1, maximum=20)\n",
    "\n",
    "client = cluster.get_client()\n",
    "\n",
    "client"
   ]
  },
  {
   "cell_type": "markdown",
   "id": "ff1d93a0-eef5-4b58-bbb6-eee4f05ab320",
   "metadata": {},
   "source": [
    "Make sure to open the following plots: Cluster map, task stream, progress bar, workers memory"
   ]
  },
  {
   "cell_type": "markdown",
   "id": "b488059d-00b1-4c04-82a7-ad4e5887ea71",
   "metadata": {
    "tags": []
   },
   "source": [
    "## CSV data format"
   ]
  },
  {
   "cell_type": "markdown",
   "id": "8dd76700-fef9-4318-ab4a-90bfa9fab803",
   "metadata": {},
   "source": [
    "We'll download the CSV files again as we did in the previous notebook, note the time various operation take:"
   ]
  },
  {
   "cell_type": "code",
   "execution_count": 24,
   "id": "7a7e8bef-d3f5-423b-8f3e-f4985adef5fe",
   "metadata": {
    "execution": {
     "iopub.execute_input": "2023-04-14T13:41:20.729340Z",
     "iopub.status.busy": "2023-04-14T13:41:20.728587Z",
     "iopub.status.idle": "2023-04-14T13:41:20.733627Z",
     "shell.execute_reply": "2023-04-14T13:41:20.732732Z",
     "shell.execute_reply.started": "2023-04-14T13:41:20.729298Z"
    },
    "tags": []
   },
   "outputs": [],
   "source": [
    "import json\n",
    "\n",
    "with open('prep/dtypes.json', 'r') as f:\n",
    "    dtypes = json.load(f)"
   ]
  },
  {
   "cell_type": "code",
   "execution_count": 25,
   "id": "ccc9bbb3-1dbe-4138-bff1-f3d62ea136cb",
   "metadata": {
    "execution": {
     "iopub.execute_input": "2023-04-14T13:41:21.775360Z",
     "iopub.status.busy": "2023-04-14T13:41:21.774310Z",
     "iopub.status.idle": "2023-04-14T13:41:22.864657Z",
     "shell.execute_reply": "2023-04-14T13:41:22.863664Z",
     "shell.execute_reply.started": "2023-04-14T13:41:21.775304Z"
    },
    "tags": []
   },
   "outputs": [],
   "source": [
    "import dask.dataframe as dd"
   ]
  },
  {
   "cell_type": "code",
   "execution_count": 26,
   "id": "cdacdeaf-c5dc-445b-baab-df0acb75068f",
   "metadata": {
    "execution": {
     "iopub.execute_input": "2023-04-14T13:41:22.866482Z",
     "iopub.status.busy": "2023-04-14T13:41:22.866169Z",
     "iopub.status.idle": "2023-04-14T13:41:43.593108Z",
     "shell.execute_reply": "2023-04-14T13:41:43.592316Z",
     "shell.execute_reply.started": "2023-04-14T13:41:22.866454Z"
    },
    "tags": []
   },
   "outputs": [
    {
     "name": "stdout",
     "output_type": "stream",
     "text": [
      "CPU times: user 1.73 s, sys: 184 ms, total: 1.92 s\n",
      "Wall time: 20.7 s\n"
     ]
    }
   ],
   "source": [
    "%%time\n",
    "\n",
    "ddf = dd.read_csv(\"gcs://quansight-datasets/airline-ontime-performance/csv/*\", dtype=dtypes)"
   ]
  },
  {
   "cell_type": "code",
   "execution_count": 27,
   "id": "b4a8ed2a-c668-4b6e-a72e-bcabf30d6e71",
   "metadata": {
    "execution": {
     "iopub.execute_input": "2023-04-14T13:41:43.594806Z",
     "iopub.status.busy": "2023-04-14T13:41:43.594546Z",
     "iopub.status.idle": "2023-04-14T13:41:49.093165Z",
     "shell.execute_reply": "2023-04-14T13:41:49.091862Z",
     "shell.execute_reply.started": "2023-04-14T13:41:43.594783Z"
    },
    "tags": []
   },
   "outputs": [
    {
     "name": "stdout",
     "output_type": "stream",
     "text": [
      "CPU times: user 111 ms, sys: 7.38 ms, total: 118 ms\n",
      "Wall time: 5.41 s\n"
     ]
    },
    {
     "data": {
      "text/html": [
       "<div>\n",
       "<style scoped>\n",
       "    .dataframe tbody tr th:only-of-type {\n",
       "        vertical-align: middle;\n",
       "    }\n",
       "\n",
       "    .dataframe tbody tr th {\n",
       "        vertical-align: top;\n",
       "    }\n",
       "\n",
       "    .dataframe thead th {\n",
       "        text-align: right;\n",
       "    }\n",
       "</style>\n",
       "<table border=\"1\" class=\"dataframe\">\n",
       "  <thead>\n",
       "    <tr style=\"text-align: right;\">\n",
       "      <th></th>\n",
       "      <th>YEAR</th>\n",
       "      <th>QUARTER</th>\n",
       "      <th>MONTH</th>\n",
       "      <th>DAY_OF_MONTH</th>\n",
       "      <th>DAY_OF_WEEK</th>\n",
       "      <th>FL_DATE</th>\n",
       "      <th>OP_UNIQUE_CARRIER</th>\n",
       "      <th>OP_CARRIER_AIRLINE_ID</th>\n",
       "      <th>OP_CARRIER</th>\n",
       "      <th>TAIL_NUM</th>\n",
       "      <th>...</th>\n",
       "      <th>DIV4_WHEELS_OFF</th>\n",
       "      <th>DIV4_TAIL_NUM</th>\n",
       "      <th>DIV5_AIRPORT</th>\n",
       "      <th>DIV5_AIRPORT_ID</th>\n",
       "      <th>DIV5_AIRPORT_SEQ_ID</th>\n",
       "      <th>DIV5_WHEELS_ON</th>\n",
       "      <th>DIV5_TOTAL_GTIME</th>\n",
       "      <th>DIV5_LONGEST_GTIME</th>\n",
       "      <th>DIV5_WHEELS_OFF</th>\n",
       "      <th>DIV5_TAIL_NUM</th>\n",
       "    </tr>\n",
       "  </thead>\n",
       "  <tbody>\n",
       "    <tr>\n",
       "      <th>0</th>\n",
       "      <td>2003</td>\n",
       "      <td>2</td>\n",
       "      <td>4</td>\n",
       "      <td>1</td>\n",
       "      <td>2</td>\n",
       "      <td>4/1/2003 12:00:00 AM</td>\n",
       "      <td>AA</td>\n",
       "      <td>19805</td>\n",
       "      <td>AA</td>\n",
       "      <td>&lt;NA&gt;</td>\n",
       "      <td>...</td>\n",
       "      <td>&lt;NA&gt;</td>\n",
       "      <td>&lt;NA&gt;</td>\n",
       "      <td>&lt;NA&gt;</td>\n",
       "      <td>NaN</td>\n",
       "      <td>NaN</td>\n",
       "      <td>&lt;NA&gt;</td>\n",
       "      <td>NaN</td>\n",
       "      <td>NaN</td>\n",
       "      <td>&lt;NA&gt;</td>\n",
       "      <td>&lt;NA&gt;</td>\n",
       "    </tr>\n",
       "    <tr>\n",
       "      <th>1</th>\n",
       "      <td>2003</td>\n",
       "      <td>2</td>\n",
       "      <td>4</td>\n",
       "      <td>1</td>\n",
       "      <td>2</td>\n",
       "      <td>4/1/2003 12:00:00 AM</td>\n",
       "      <td>AA</td>\n",
       "      <td>19805</td>\n",
       "      <td>AA</td>\n",
       "      <td>&lt;NA&gt;</td>\n",
       "      <td>...</td>\n",
       "      <td>&lt;NA&gt;</td>\n",
       "      <td>&lt;NA&gt;</td>\n",
       "      <td>&lt;NA&gt;</td>\n",
       "      <td>NaN</td>\n",
       "      <td>NaN</td>\n",
       "      <td>&lt;NA&gt;</td>\n",
       "      <td>NaN</td>\n",
       "      <td>NaN</td>\n",
       "      <td>&lt;NA&gt;</td>\n",
       "      <td>&lt;NA&gt;</td>\n",
       "    </tr>\n",
       "    <tr>\n",
       "      <th>2</th>\n",
       "      <td>2003</td>\n",
       "      <td>2</td>\n",
       "      <td>4</td>\n",
       "      <td>1</td>\n",
       "      <td>2</td>\n",
       "      <td>4/1/2003 12:00:00 AM</td>\n",
       "      <td>AA</td>\n",
       "      <td>19805</td>\n",
       "      <td>AA</td>\n",
       "      <td>&lt;NA&gt;</td>\n",
       "      <td>...</td>\n",
       "      <td>&lt;NA&gt;</td>\n",
       "      <td>&lt;NA&gt;</td>\n",
       "      <td>&lt;NA&gt;</td>\n",
       "      <td>NaN</td>\n",
       "      <td>NaN</td>\n",
       "      <td>&lt;NA&gt;</td>\n",
       "      <td>NaN</td>\n",
       "      <td>NaN</td>\n",
       "      <td>&lt;NA&gt;</td>\n",
       "      <td>&lt;NA&gt;</td>\n",
       "    </tr>\n",
       "    <tr>\n",
       "      <th>3</th>\n",
       "      <td>2003</td>\n",
       "      <td>2</td>\n",
       "      <td>4</td>\n",
       "      <td>1</td>\n",
       "      <td>2</td>\n",
       "      <td>4/1/2003 12:00:00 AM</td>\n",
       "      <td>AA</td>\n",
       "      <td>19805</td>\n",
       "      <td>AA</td>\n",
       "      <td>&lt;NA&gt;</td>\n",
       "      <td>...</td>\n",
       "      <td>&lt;NA&gt;</td>\n",
       "      <td>&lt;NA&gt;</td>\n",
       "      <td>&lt;NA&gt;</td>\n",
       "      <td>NaN</td>\n",
       "      <td>NaN</td>\n",
       "      <td>&lt;NA&gt;</td>\n",
       "      <td>NaN</td>\n",
       "      <td>NaN</td>\n",
       "      <td>&lt;NA&gt;</td>\n",
       "      <td>&lt;NA&gt;</td>\n",
       "    </tr>\n",
       "    <tr>\n",
       "      <th>4</th>\n",
       "      <td>2003</td>\n",
       "      <td>2</td>\n",
       "      <td>4</td>\n",
       "      <td>1</td>\n",
       "      <td>2</td>\n",
       "      <td>4/1/2003 12:00:00 AM</td>\n",
       "      <td>AA</td>\n",
       "      <td>19805</td>\n",
       "      <td>AA</td>\n",
       "      <td>&lt;NA&gt;</td>\n",
       "      <td>...</td>\n",
       "      <td>&lt;NA&gt;</td>\n",
       "      <td>&lt;NA&gt;</td>\n",
       "      <td>&lt;NA&gt;</td>\n",
       "      <td>NaN</td>\n",
       "      <td>NaN</td>\n",
       "      <td>&lt;NA&gt;</td>\n",
       "      <td>NaN</td>\n",
       "      <td>NaN</td>\n",
       "      <td>&lt;NA&gt;</td>\n",
       "      <td>&lt;NA&gt;</td>\n",
       "    </tr>\n",
       "  </tbody>\n",
       "</table>\n",
       "<p>5 rows × 109 columns</p>\n",
       "</div>"
      ],
      "text/plain": [
       "   YEAR  QUARTER  MONTH  DAY_OF_MONTH  DAY_OF_WEEK               FL_DATE  \\\n",
       "0  2003        2      4             1            2  4/1/2003 12:00:00 AM   \n",
       "1  2003        2      4             1            2  4/1/2003 12:00:00 AM   \n",
       "2  2003        2      4             1            2  4/1/2003 12:00:00 AM   \n",
       "3  2003        2      4             1            2  4/1/2003 12:00:00 AM   \n",
       "4  2003        2      4             1            2  4/1/2003 12:00:00 AM   \n",
       "\n",
       "  OP_UNIQUE_CARRIER  OP_CARRIER_AIRLINE_ID OP_CARRIER TAIL_NUM  ...  \\\n",
       "0                AA                  19805         AA     <NA>  ...   \n",
       "1                AA                  19805         AA     <NA>  ...   \n",
       "2                AA                  19805         AA     <NA>  ...   \n",
       "3                AA                  19805         AA     <NA>  ...   \n",
       "4                AA                  19805         AA     <NA>  ...   \n",
       "\n",
       "   DIV4_WHEELS_OFF  DIV4_TAIL_NUM  DIV5_AIRPORT  DIV5_AIRPORT_ID  \\\n",
       "0             <NA>           <NA>          <NA>              NaN   \n",
       "1             <NA>           <NA>          <NA>              NaN   \n",
       "2             <NA>           <NA>          <NA>              NaN   \n",
       "3             <NA>           <NA>          <NA>              NaN   \n",
       "4             <NA>           <NA>          <NA>              NaN   \n",
       "\n",
       "  DIV5_AIRPORT_SEQ_ID DIV5_WHEELS_ON DIV5_TOTAL_GTIME  DIV5_LONGEST_GTIME  \\\n",
       "0                 NaN           <NA>              NaN                 NaN   \n",
       "1                 NaN           <NA>              NaN                 NaN   \n",
       "2                 NaN           <NA>              NaN                 NaN   \n",
       "3                 NaN           <NA>              NaN                 NaN   \n",
       "4                 NaN           <NA>              NaN                 NaN   \n",
       "\n",
       "  DIV5_WHEELS_OFF  DIV5_TAIL_NUM  \n",
       "0            <NA>           <NA>  \n",
       "1            <NA>           <NA>  \n",
       "2            <NA>           <NA>  \n",
       "3            <NA>           <NA>  \n",
       "4            <NA>           <NA>  \n",
       "\n",
       "[5 rows x 109 columns]"
      ]
     },
     "execution_count": 27,
     "metadata": {},
     "output_type": "execute_result"
    }
   ],
   "source": [
    "%%time\n",
    "\n",
    "ddf.head()"
   ]
  },
  {
   "cell_type": "markdown",
   "id": "7e731e9d-6f68-4702-af9f-505b45716a44",
   "metadata": {},
   "source": [
    "### Your turn: Compute the number of unique flights taken each year\n",
    "\n",
    "Make sure to time it, and watch the dashboard plots!"
   ]
  },
  {
   "cell_type": "code",
   "execution_count": null,
   "id": "8a4c8426-09a4-4785-b561-12f711bb42a3",
   "metadata": {
    "tags": []
   },
   "outputs": [],
   "source": [
    "# Your code here"
   ]
  },
  {
   "cell_type": "code",
   "execution_count": 30,
   "id": "33897d12-f906-4e00-80de-fd67b551629a",
   "metadata": {
    "execution": {
     "iopub.execute_input": "2023-04-14T13:44:27.501783Z",
     "iopub.status.busy": "2023-04-14T13:44:27.500967Z",
     "iopub.status.idle": "2023-04-14T13:47:08.048314Z",
     "shell.execute_reply": "2023-04-14T13:47:08.046606Z",
     "shell.execute_reply.started": "2023-04-14T13:44:27.501755Z"
    },
    "tags": []
   },
   "outputs": [
    {
     "name": "stdout",
     "output_type": "stream",
     "text": [
      "CPU times: user 253 ms, sys: 21.3 ms, total: 275 ms\n",
      "Wall time: 2min 40s\n"
     ]
    },
    {
     "data": {
      "text/plain": [
       "YEAR\n",
       "2003    6456575\n",
       "2004    7129270\n",
       "2005    7140596\n",
       "2006    7141922\n",
       "2007    7455458\n",
       "2008    7009726\n",
       "2009    6450285\n",
       "2010    6450117\n",
       "2011    5848283\n",
       "2012    6096762\n",
       "2013    6316788\n",
       "2014    5819811\n",
       "2015    4985448\n",
       "2016    5573520\n",
       "2017    5674621\n",
       "2018    5976879\n",
       "2019    7422037\n",
       "2020    4605296\n",
       "2021    5954897\n",
       "2022    6172030\n",
       "Name: OP_UNIQUE_CARRIER, dtype: int64"
      ]
     },
     "execution_count": 30,
     "metadata": {},
     "output_type": "execute_result"
    }
   ],
   "source": [
    "%%time\n",
    "\n",
    "ddf.groupby('YEAR').OP_UNIQUE_CARRIER.count().compute()"
   ]
  },
  {
   "cell_type": "markdown",
   "id": "e085d726-8d91-48c9-8790-fd6ccd056884",
   "metadata": {
    "tags": []
   },
   "source": [
    "## Parquet data format\n",
    "\n",
    "[Apache Parquet](https://parquet.apache.org/https://parquet.apache.org/) is a columnar data format widely used for storing large tabular datasets."
   ]
  },
  {
   "cell_type": "markdown",
   "id": "7f42ff38-a69b-4e94-92da-b2e9494f0242",
   "metadata": {},
   "source": [
    "### Parquet I/O\n",
    "\n",
    "Parquet data is very efficient to store and access (i.e., compression and encoding), and stores metadata like data-types, column names, and ranges per file/partition.\n",
    "\n",
    "In the following cells we read the full parquet dataset, notice how it's faster and that we did not need to explicitly share datatypes."
   ]
  },
  {
   "cell_type": "code",
   "execution_count": 31,
   "id": "3abdc5f0-87d6-4e03-be4f-47fa1e567158",
   "metadata": {
    "execution": {
     "iopub.execute_input": "2023-04-14T14:07:02.070095Z",
     "iopub.status.busy": "2023-04-14T14:07:02.069545Z",
     "iopub.status.idle": "2023-04-14T14:07:03.699357Z",
     "shell.execute_reply": "2023-04-14T14:07:03.698521Z",
     "shell.execute_reply.started": "2023-04-14T14:07:02.070054Z"
    },
    "tags": []
   },
   "outputs": [
    {
     "name": "stdout",
     "output_type": "stream",
     "text": [
      "CPU times: user 266 ms, sys: 16.5 ms, total: 282 ms\n",
      "Wall time: 1.62 s\n"
     ]
    }
   ],
   "source": [
    "%%time\n",
    "\n",
    "ddf_pq = dd.read_parquet(\"gcs://quansight-datasets/airline-ontime-performance/full_dataset.parquet\")"
   ]
  },
  {
   "cell_type": "code",
   "execution_count": 32,
   "id": "488340ba-7e75-4845-abf6-262ca014b9ba",
   "metadata": {
    "execution": {
     "iopub.execute_input": "2023-04-14T14:08:35.965207Z",
     "iopub.status.busy": "2023-04-14T14:08:35.964436Z",
     "iopub.status.idle": "2023-04-14T14:08:37.495990Z",
     "shell.execute_reply": "2023-04-14T14:08:37.494920Z",
     "shell.execute_reply.started": "2023-04-14T14:08:35.965177Z"
    },
    "tags": []
   },
   "outputs": [
    {
     "name": "stdout",
     "output_type": "stream",
     "text": [
      "CPU times: user 75.9 ms, sys: 5.28 ms, total: 81.2 ms\n",
      "Wall time: 1.51 s\n"
     ]
    },
    {
     "data": {
      "text/html": [
       "<div>\n",
       "<style scoped>\n",
       "    .dataframe tbody tr th:only-of-type {\n",
       "        vertical-align: middle;\n",
       "    }\n",
       "\n",
       "    .dataframe tbody tr th {\n",
       "        vertical-align: top;\n",
       "    }\n",
       "\n",
       "    .dataframe thead th {\n",
       "        text-align: right;\n",
       "    }\n",
       "</style>\n",
       "<table border=\"1\" class=\"dataframe\">\n",
       "  <thead>\n",
       "    <tr style=\"text-align: right;\">\n",
       "      <th></th>\n",
       "      <th>YEAR</th>\n",
       "      <th>QUARTER</th>\n",
       "      <th>MONTH</th>\n",
       "      <th>DAY_OF_MONTH</th>\n",
       "      <th>DAY_OF_WEEK</th>\n",
       "      <th>FL_DATE</th>\n",
       "      <th>OP_UNIQUE_CARRIER</th>\n",
       "      <th>OP_CARRIER_AIRLINE_ID</th>\n",
       "      <th>OP_CARRIER</th>\n",
       "      <th>TAIL_NUM</th>\n",
       "      <th>...</th>\n",
       "      <th>DIV4_WHEELS_OFF</th>\n",
       "      <th>DIV4_TAIL_NUM</th>\n",
       "      <th>DIV5_AIRPORT</th>\n",
       "      <th>DIV5_AIRPORT_ID</th>\n",
       "      <th>DIV5_AIRPORT_SEQ_ID</th>\n",
       "      <th>DIV5_WHEELS_ON</th>\n",
       "      <th>DIV5_TOTAL_GTIME</th>\n",
       "      <th>DIV5_LONGEST_GTIME</th>\n",
       "      <th>DIV5_WHEELS_OFF</th>\n",
       "      <th>DIV5_TAIL_NUM</th>\n",
       "    </tr>\n",
       "  </thead>\n",
       "  <tbody>\n",
       "    <tr>\n",
       "      <th>0</th>\n",
       "      <td>2003</td>\n",
       "      <td>2</td>\n",
       "      <td>4</td>\n",
       "      <td>1</td>\n",
       "      <td>2</td>\n",
       "      <td>2003-04-01</td>\n",
       "      <td>AA</td>\n",
       "      <td>19805</td>\n",
       "      <td>AA</td>\n",
       "      <td>&lt;NA&gt;</td>\n",
       "      <td>...</td>\n",
       "      <td>&lt;NA&gt;</td>\n",
       "      <td>&lt;NA&gt;</td>\n",
       "      <td>&lt;NA&gt;</td>\n",
       "      <td>NaN</td>\n",
       "      <td>NaN</td>\n",
       "      <td>&lt;NA&gt;</td>\n",
       "      <td>NaN</td>\n",
       "      <td>NaN</td>\n",
       "      <td>&lt;NA&gt;</td>\n",
       "      <td>&lt;NA&gt;</td>\n",
       "    </tr>\n",
       "    <tr>\n",
       "      <th>1</th>\n",
       "      <td>2003</td>\n",
       "      <td>2</td>\n",
       "      <td>4</td>\n",
       "      <td>1</td>\n",
       "      <td>2</td>\n",
       "      <td>2003-04-01</td>\n",
       "      <td>AA</td>\n",
       "      <td>19805</td>\n",
       "      <td>AA</td>\n",
       "      <td>&lt;NA&gt;</td>\n",
       "      <td>...</td>\n",
       "      <td>&lt;NA&gt;</td>\n",
       "      <td>&lt;NA&gt;</td>\n",
       "      <td>&lt;NA&gt;</td>\n",
       "      <td>NaN</td>\n",
       "      <td>NaN</td>\n",
       "      <td>&lt;NA&gt;</td>\n",
       "      <td>NaN</td>\n",
       "      <td>NaN</td>\n",
       "      <td>&lt;NA&gt;</td>\n",
       "      <td>&lt;NA&gt;</td>\n",
       "    </tr>\n",
       "    <tr>\n",
       "      <th>2</th>\n",
       "      <td>2003</td>\n",
       "      <td>2</td>\n",
       "      <td>4</td>\n",
       "      <td>1</td>\n",
       "      <td>2</td>\n",
       "      <td>2003-04-01</td>\n",
       "      <td>AA</td>\n",
       "      <td>19805</td>\n",
       "      <td>AA</td>\n",
       "      <td>&lt;NA&gt;</td>\n",
       "      <td>...</td>\n",
       "      <td>&lt;NA&gt;</td>\n",
       "      <td>&lt;NA&gt;</td>\n",
       "      <td>&lt;NA&gt;</td>\n",
       "      <td>NaN</td>\n",
       "      <td>NaN</td>\n",
       "      <td>&lt;NA&gt;</td>\n",
       "      <td>NaN</td>\n",
       "      <td>NaN</td>\n",
       "      <td>&lt;NA&gt;</td>\n",
       "      <td>&lt;NA&gt;</td>\n",
       "    </tr>\n",
       "    <tr>\n",
       "      <th>3</th>\n",
       "      <td>2003</td>\n",
       "      <td>2</td>\n",
       "      <td>4</td>\n",
       "      <td>1</td>\n",
       "      <td>2</td>\n",
       "      <td>2003-04-01</td>\n",
       "      <td>AA</td>\n",
       "      <td>19805</td>\n",
       "      <td>AA</td>\n",
       "      <td>&lt;NA&gt;</td>\n",
       "      <td>...</td>\n",
       "      <td>&lt;NA&gt;</td>\n",
       "      <td>&lt;NA&gt;</td>\n",
       "      <td>&lt;NA&gt;</td>\n",
       "      <td>NaN</td>\n",
       "      <td>NaN</td>\n",
       "      <td>&lt;NA&gt;</td>\n",
       "      <td>NaN</td>\n",
       "      <td>NaN</td>\n",
       "      <td>&lt;NA&gt;</td>\n",
       "      <td>&lt;NA&gt;</td>\n",
       "    </tr>\n",
       "    <tr>\n",
       "      <th>4</th>\n",
       "      <td>2003</td>\n",
       "      <td>2</td>\n",
       "      <td>4</td>\n",
       "      <td>1</td>\n",
       "      <td>2</td>\n",
       "      <td>2003-04-01</td>\n",
       "      <td>AA</td>\n",
       "      <td>19805</td>\n",
       "      <td>AA</td>\n",
       "      <td>&lt;NA&gt;</td>\n",
       "      <td>...</td>\n",
       "      <td>&lt;NA&gt;</td>\n",
       "      <td>&lt;NA&gt;</td>\n",
       "      <td>&lt;NA&gt;</td>\n",
       "      <td>NaN</td>\n",
       "      <td>NaN</td>\n",
       "      <td>&lt;NA&gt;</td>\n",
       "      <td>NaN</td>\n",
       "      <td>NaN</td>\n",
       "      <td>&lt;NA&gt;</td>\n",
       "      <td>&lt;NA&gt;</td>\n",
       "    </tr>\n",
       "  </tbody>\n",
       "</table>\n",
       "<p>5 rows × 109 columns</p>\n",
       "</div>"
      ],
      "text/plain": [
       "   YEAR  QUARTER  MONTH  DAY_OF_MONTH  DAY_OF_WEEK    FL_DATE  \\\n",
       "0  2003        2      4             1            2 2003-04-01   \n",
       "1  2003        2      4             1            2 2003-04-01   \n",
       "2  2003        2      4             1            2 2003-04-01   \n",
       "3  2003        2      4             1            2 2003-04-01   \n",
       "4  2003        2      4             1            2 2003-04-01   \n",
       "\n",
       "  OP_UNIQUE_CARRIER  OP_CARRIER_AIRLINE_ID OP_CARRIER TAIL_NUM  ...  \\\n",
       "0                AA                  19805         AA     <NA>  ...   \n",
       "1                AA                  19805         AA     <NA>  ...   \n",
       "2                AA                  19805         AA     <NA>  ...   \n",
       "3                AA                  19805         AA     <NA>  ...   \n",
       "4                AA                  19805         AA     <NA>  ...   \n",
       "\n",
       "   DIV4_WHEELS_OFF  DIV4_TAIL_NUM  DIV5_AIRPORT  DIV5_AIRPORT_ID  \\\n",
       "0             <NA>           <NA>          <NA>              NaN   \n",
       "1             <NA>           <NA>          <NA>              NaN   \n",
       "2             <NA>           <NA>          <NA>              NaN   \n",
       "3             <NA>           <NA>          <NA>              NaN   \n",
       "4             <NA>           <NA>          <NA>              NaN   \n",
       "\n",
       "  DIV5_AIRPORT_SEQ_ID DIV5_WHEELS_ON DIV5_TOTAL_GTIME  DIV5_LONGEST_GTIME  \\\n",
       "0                 NaN           <NA>              NaN                 NaN   \n",
       "1                 NaN           <NA>              NaN                 NaN   \n",
       "2                 NaN           <NA>              NaN                 NaN   \n",
       "3                 NaN           <NA>              NaN                 NaN   \n",
       "4                 NaN           <NA>              NaN                 NaN   \n",
       "\n",
       "  DIV5_WHEELS_OFF  DIV5_TAIL_NUM  \n",
       "0            <NA>           <NA>  \n",
       "1            <NA>           <NA>  \n",
       "2            <NA>           <NA>  \n",
       "3            <NA>           <NA>  \n",
       "4            <NA>           <NA>  \n",
       "\n",
       "[5 rows x 109 columns]"
      ]
     },
     "execution_count": 32,
     "metadata": {},
     "output_type": "execute_result"
    }
   ],
   "source": [
    "%%time\n",
    "\n",
    "ddf_pq.head()"
   ]
  },
  {
   "cell_type": "markdown",
   "id": "2da590b9-8e85-4a1e-99f0-49870abcb38b",
   "metadata": {},
   "source": [
    "### Your turn: Perform same computation as earlier to compute the number of unique flights taken each year\n",
    "\n",
    "Time it again and compare against the previous value!"
   ]
  },
  {
   "cell_type": "code",
   "execution_count": null,
   "id": "3053e46d-ffa9-4186-8556-368dbe99790b",
   "metadata": {},
   "outputs": [],
   "source": [
    "# Your code here"
   ]
  },
  {
   "cell_type": "code",
   "execution_count": null,
   "id": "6ef9f300-5a1c-44a2-9348-57c9cbb7124b",
   "metadata": {
    "tags": []
   },
   "outputs": [],
   "source": [
    "%%time\n",
    "\n",
    "ddf_pq.groupby('YEAR').OP_UNIQUE_CARRIER.count().compute()"
   ]
  },
  {
   "cell_type": "markdown",
   "id": "b450a3d7-68ab-4deb-b782-d60303aa8b7f",
   "metadata": {},
   "source": [
    "### Read specific columns\n",
    "\n",
    "As a column-oriented format, you can decide to read only necessary columns, further improving efficiency:"
   ]
  },
  {
   "cell_type": "code",
   "execution_count": 38,
   "id": "d15919cf-5900-473c-a589-d9dd92f5faac",
   "metadata": {
    "execution": {
     "iopub.execute_input": "2023-04-14T14:23:19.711752Z",
     "iopub.status.busy": "2023-04-14T14:23:19.710848Z",
     "iopub.status.idle": "2023-04-14T14:23:20.240957Z",
     "shell.execute_reply": "2023-04-14T14:23:20.240032Z",
     "shell.execute_reply.started": "2023-04-14T14:23:19.711712Z"
    },
    "tags": []
   },
   "outputs": [
    {
     "name": "stdout",
     "output_type": "stream",
     "text": [
      "CPU times: user 300 ms, sys: 4.5 ms, total: 305 ms\n",
      "Wall time: 524 ms\n"
     ]
    }
   ],
   "source": [
    "%%time\n",
    "\n",
    "ddf_pq_five_cols = dd.read_parquet(\"gcs://quansight-datasets/airline-ontime-performance/full_dataset.parquet\",\n",
    "                                  columns= ['YEAR', 'OP_UNIQUE_CARRIER'])"
   ]
  },
  {
   "cell_type": "code",
   "execution_count": 39,
   "id": "37419742-f821-474e-ae23-044cde1ab662",
   "metadata": {
    "execution": {
     "iopub.execute_input": "2023-04-14T14:23:20.313132Z",
     "iopub.status.busy": "2023-04-14T14:23:20.312288Z",
     "iopub.status.idle": "2023-04-14T14:23:32.866267Z",
     "shell.execute_reply": "2023-04-14T14:23:32.865334Z",
     "shell.execute_reply.started": "2023-04-14T14:23:20.313103Z"
    },
    "tags": []
   },
   "outputs": [
    {
     "name": "stdout",
     "output_type": "stream",
     "text": [
      "CPU times: user 92 ms, sys: 7.38 ms, total: 99.4 ms\n",
      "Wall time: 12.5 s\n"
     ]
    },
    {
     "data": {
      "text/plain": [
       "YEAR\n",
       "2003    6456575\n",
       "2004    7129270\n",
       "2005    7140596\n",
       "2006    7141922\n",
       "2007    7455458\n",
       "2008    7009726\n",
       "2009    6450285\n",
       "2010    6450117\n",
       "2011    5848283\n",
       "2012    6096762\n",
       "2013    6316788\n",
       "2014    5819811\n",
       "2015    4985448\n",
       "2016    5573520\n",
       "2017    5674621\n",
       "2018    5976879\n",
       "2019    7422037\n",
       "2020    4605296\n",
       "2021    5954897\n",
       "2022    6172030\n",
       "Name: OP_UNIQUE_CARRIER, dtype: int64"
      ]
     },
     "execution_count": 39,
     "metadata": {},
     "output_type": "execute_result"
    }
   ],
   "source": [
    "%%time\n",
    "\n",
    "ddf_pq_five_cols.groupby('YEAR').OP_UNIQUE_CARRIER.count().compute()"
   ]
  },
  {
   "cell_type": "markdown",
   "id": "69d689a2-422f-4648-91cc-ba97a4f7ad8d",
   "metadata": {},
   "source": [
    "### Partitioned storage\n",
    "\n",
    "Parquet files can be stored with a partitioning schema that works best for your computation.\n",
    "\n",
    "It's useful to take the time to partition your dataset based on your workflows (partition structure, as well as number of partitions). Dask can partition your DataFrame accordingly when you read the data.\n",
    "\n",
    "Here, we've partitioned the dataset by `YEAR`:"
   ]
  },
  {
   "cell_type": "code",
   "execution_count": 40,
   "id": "09ec3409-b4cd-4f66-a068-1e3f7545b412",
   "metadata": {
    "execution": {
     "iopub.execute_input": "2023-04-14T14:24:22.303091Z",
     "iopub.status.busy": "2023-04-14T14:24:22.302140Z",
     "iopub.status.idle": "2023-04-14T14:24:22.368263Z",
     "shell.execute_reply": "2023-04-14T14:24:22.367222Z",
     "shell.execute_reply.started": "2023-04-14T14:24:22.303058Z"
    },
    "tags": []
   },
   "outputs": [
    {
     "data": {
      "text/plain": [
       "['quansight-datasets/airline-ontime-performance/parquet_by_year/YEAR=2003',\n",
       " 'quansight-datasets/airline-ontime-performance/parquet_by_year/YEAR=2004',\n",
       " 'quansight-datasets/airline-ontime-performance/parquet_by_year/YEAR=2005',\n",
       " 'quansight-datasets/airline-ontime-performance/parquet_by_year/YEAR=2006',\n",
       " 'quansight-datasets/airline-ontime-performance/parquet_by_year/YEAR=2007',\n",
       " 'quansight-datasets/airline-ontime-performance/parquet_by_year/YEAR=2008',\n",
       " 'quansight-datasets/airline-ontime-performance/parquet_by_year/YEAR=2009',\n",
       " 'quansight-datasets/airline-ontime-performance/parquet_by_year/YEAR=2010',\n",
       " 'quansight-datasets/airline-ontime-performance/parquet_by_year/YEAR=2011',\n",
       " 'quansight-datasets/airline-ontime-performance/parquet_by_year/YEAR=2012',\n",
       " 'quansight-datasets/airline-ontime-performance/parquet_by_year/YEAR=2013',\n",
       " 'quansight-datasets/airline-ontime-performance/parquet_by_year/YEAR=2014',\n",
       " 'quansight-datasets/airline-ontime-performance/parquet_by_year/YEAR=2015',\n",
       " 'quansight-datasets/airline-ontime-performance/parquet_by_year/YEAR=2016',\n",
       " 'quansight-datasets/airline-ontime-performance/parquet_by_year/YEAR=2017',\n",
       " 'quansight-datasets/airline-ontime-performance/parquet_by_year/YEAR=2018',\n",
       " 'quansight-datasets/airline-ontime-performance/parquet_by_year/YEAR=2019',\n",
       " 'quansight-datasets/airline-ontime-performance/parquet_by_year/YEAR=2020',\n",
       " 'quansight-datasets/airline-ontime-performance/parquet_by_year/YEAR=2021',\n",
       " 'quansight-datasets/airline-ontime-performance/parquet_by_year/YEAR=2022']"
      ]
     },
     "execution_count": 40,
     "metadata": {},
     "output_type": "execute_result"
    }
   ],
   "source": [
    "fs.ls(\"quansight-datasets/airline-ontime-performance/parquet_by_year\")"
   ]
  },
  {
   "cell_type": "code",
   "execution_count": 41,
   "id": "e6daf3f2-6425-45db-bc0f-055308521bf1",
   "metadata": {
    "execution": {
     "iopub.execute_input": "2023-04-14T14:30:03.236353Z",
     "iopub.status.busy": "2023-04-14T14:30:03.235854Z",
     "iopub.status.idle": "2023-04-14T14:30:03.303766Z",
     "shell.execute_reply": "2023-04-14T14:30:03.302337Z",
     "shell.execute_reply.started": "2023-04-14T14:30:03.236322Z"
    },
    "tags": []
   },
   "outputs": [
    {
     "data": {
      "text/plain": [
       "['quansight-datasets/airline-ontime-performance/parquet_by_year/YEAR=2022/part.200.parquet',\n",
       " 'quansight-datasets/airline-ontime-performance/parquet_by_year/YEAR=2022/part.250.parquet',\n",
       " 'quansight-datasets/airline-ontime-performance/parquet_by_year/YEAR=2022/part.251.parquet',\n",
       " 'quansight-datasets/airline-ontime-performance/parquet_by_year/YEAR=2022/part.252.parquet',\n",
       " 'quansight-datasets/airline-ontime-performance/parquet_by_year/YEAR=2022/part.307.parquet',\n",
       " 'quansight-datasets/airline-ontime-performance/parquet_by_year/YEAR=2022/part.308.parquet',\n",
       " 'quansight-datasets/airline-ontime-performance/parquet_by_year/YEAR=2022/part.309.parquet',\n",
       " 'quansight-datasets/airline-ontime-performance/parquet_by_year/YEAR=2022/part.359.parquet',\n",
       " 'quansight-datasets/airline-ontime-performance/parquet_by_year/YEAR=2022/part.360.parquet',\n",
       " 'quansight-datasets/airline-ontime-performance/parquet_by_year/YEAR=2022/part.361.parquet',\n",
       " 'quansight-datasets/airline-ontime-performance/parquet_by_year/YEAR=2022/part.413.parquet',\n",
       " 'quansight-datasets/airline-ontime-performance/parquet_by_year/YEAR=2022/part.414.parquet',\n",
       " 'quansight-datasets/airline-ontime-performance/parquet_by_year/YEAR=2022/part.415.parquet',\n",
       " 'quansight-datasets/airline-ontime-performance/parquet_by_year/YEAR=2022/part.464.parquet',\n",
       " 'quansight-datasets/airline-ontime-performance/parquet_by_year/YEAR=2022/part.465.parquet',\n",
       " 'quansight-datasets/airline-ontime-performance/parquet_by_year/YEAR=2022/part.466.parquet',\n",
       " 'quansight-datasets/airline-ontime-performance/parquet_by_year/YEAR=2022/part.47.parquet',\n",
       " 'quansight-datasets/airline-ontime-performance/parquet_by_year/YEAR=2022/part.48.parquet',\n",
       " 'quansight-datasets/airline-ontime-performance/parquet_by_year/YEAR=2022/part.49.parquet',\n",
       " 'quansight-datasets/airline-ontime-performance/parquet_by_year/YEAR=2022/part.515.parquet',\n",
       " 'quansight-datasets/airline-ontime-performance/parquet_by_year/YEAR=2022/part.516.parquet',\n",
       " 'quansight-datasets/airline-ontime-performance/parquet_by_year/YEAR=2022/part.517.parquet',\n",
       " 'quansight-datasets/airline-ontime-performance/parquet_by_year/YEAR=2022/part.569.parquet',\n",
       " 'quansight-datasets/airline-ontime-performance/parquet_by_year/YEAR=2022/part.570.parquet',\n",
       " 'quansight-datasets/airline-ontime-performance/parquet_by_year/YEAR=2022/part.571.parquet',\n",
       " 'quansight-datasets/airline-ontime-performance/parquet_by_year/YEAR=2022/part.621.parquet',\n",
       " 'quansight-datasets/airline-ontime-performance/parquet_by_year/YEAR=2022/part.622.parquet',\n",
       " 'quansight-datasets/airline-ontime-performance/parquet_by_year/YEAR=2022/part.623.parquet']"
      ]
     },
     "execution_count": 41,
     "metadata": {},
     "output_type": "execute_result"
    }
   ],
   "source": [
    "fs.ls(\"quansight-datasets/airline-ontime-performance/parquet_by_year/YEAR=2022\")"
   ]
  },
  {
   "cell_type": "markdown",
   "id": "78914cef-8e4f-46c1-acb2-36a6d529fd27",
   "metadata": {},
   "source": [
    "### Row-wise filtering\n",
    "\n",
    "Parquet also stores the ranges of values present in each file and partition, so you can efficiently filter Parquet datasets row-wise while reading the data."
   ]
  },
  {
   "cell_type": "markdown",
   "id": "da698525-b7fb-4e65-952a-73e05818e92d",
   "metadata": {},
   "source": [
    "For example, consider we want to exclude 2020 because of it's unique impact on airline industry:"
   ]
  },
  {
   "cell_type": "code",
   "execution_count": 42,
   "id": "b4a9de38-393a-4530-9b9f-8b55230db146",
   "metadata": {
    "execution": {
     "iopub.execute_input": "2023-04-14T14:31:19.999899Z",
     "iopub.status.busy": "2023-04-14T14:31:19.999538Z",
     "iopub.status.idle": "2023-04-14T14:31:32.402212Z",
     "shell.execute_reply": "2023-04-14T14:31:32.401411Z",
     "shell.execute_reply.started": "2023-04-14T14:31:19.999870Z"
    },
    "tags": []
   },
   "outputs": [],
   "source": [
    "ddf_pq_five_cols = dd.read_parquet(\"gcs://quansight-datasets/airline-ontime-performance/full_dataset.parquet\",\n",
    "                                  columns= ['YEAR', 'OP_UNIQUE_CARRIER'],\n",
    "                                  filters = [[('YEAR', '!=', 2020)]])"
   ]
  },
  {
   "cell_type": "code",
   "execution_count": 44,
   "id": "66da3e05-35c3-491a-9854-94d2a517201e",
   "metadata": {
    "execution": {
     "iopub.execute_input": "2023-04-14T14:31:59.909974Z",
     "iopub.status.busy": "2023-04-14T14:31:59.909082Z",
     "iopub.status.idle": "2023-04-14T14:32:16.583648Z",
     "shell.execute_reply": "2023-04-14T14:32:16.582769Z",
     "shell.execute_reply.started": "2023-04-14T14:31:59.909943Z"
    },
    "tags": []
   },
   "outputs": [
    {
     "data": {
      "text/plain": [
       "YEAR\n",
       "2003    6456575\n",
       "2004    7129270\n",
       "2005    7140596\n",
       "2006    7141922\n",
       "2007    7455458\n",
       "2008    7009726\n",
       "2009    6450285\n",
       "2010    6450117\n",
       "2011    5848283\n",
       "2012    6096762\n",
       "2013    6316788\n",
       "2014    5819811\n",
       "2015    4985448\n",
       "2016    5573520\n",
       "2017    5674621\n",
       "2018    5976879\n",
       "2019    7422037\n",
       "2021    5954897\n",
       "2022    6172030\n",
       "Name: OP_UNIQUE_CARRIER, dtype: int64"
      ]
     },
     "execution_count": 44,
     "metadata": {},
     "output_type": "execute_result"
    }
   ],
   "source": [
    "ddf_pq_five_cols.groupby('YEAR').OP_UNIQUE_CARRIER.count().compute()"
   ]
  },
  {
   "cell_type": "markdown",
   "id": "487c1685-1445-4caf-a636-88cb067b497d",
   "metadata": {},
   "source": [
    "#### Your turn: Groupby month instead of year, and only read+calculate unique flights for Q4 of each year"
   ]
  },
  {
   "cell_type": "code",
   "execution_count": 45,
   "id": "bf620867-a1f0-460a-9948-4d0bd32cfb06",
   "metadata": {
    "execution": {
     "iopub.execute_input": "2023-04-14T14:32:44.479664Z",
     "iopub.status.busy": "2023-04-14T14:32:44.478984Z",
     "iopub.status.idle": "2023-04-14T14:32:44.483147Z",
     "shell.execute_reply": "2023-04-14T14:32:44.482328Z",
     "shell.execute_reply.started": "2023-04-14T14:32:44.479633Z"
    },
    "tags": []
   },
   "outputs": [],
   "source": [
    "# Your code here"
   ]
  },
  {
   "cell_type": "markdown",
   "id": "92c3c8ba-fd31-4fcd-b99e-8182a9236bb9",
   "metadata": {
    "jp-MarkdownHeadingCollapsed": true,
    "tags": []
   },
   "source": [
    "## Convert from CSV to Parquet\n",
    "\n",
    "You can convert CSV files to Parquet in two main ways:\n",
    "\n",
    "- Dask (and pandas) have a `to_parquet()` function, you can also partition the data while converting.\n",
    "- You can use powerful Parquet engines like [`pyarrow`](https://arrow.apache.org/docs/python/csv.htmlhttps://arrow.apache.org/docs/python/csv.html) or `fastparquet` directly (Dask and pandas use these engines internally)\n",
    "\n",
    "\n",
    "\n",
    "```python\n",
    "import dask.dataframe as dd\n",
    "\n",
    "dd.read_csv(\"path_to_csv_files_on_cloud_storage\")\n",
    "dd.to_parquet(\"path_to_cloud_storage_loaction\", partition_by=\"\")\n",
    "```\n",
    "\n",
    "We created the Parquet dataset using Dask, and our code is available in `scripts/csv_to_parquet.ipynb`."
   ]
  },
  {
   "cell_type": "markdown",
   "id": "c1d85bf9-1a08-472d-96fe-24dff1d5b60b",
   "metadata": {},
   "source": [
    "## Notable mentions\n",
    "\n",
    "* If you're working with multi-dimensional arrays, [Zarr](https://zarr.readthedocs.io/en/stable/index.htmlhttps://zarr.readthedocs.io/en/stable/index.html) is an excellent format to store chunked array data (similar to partitioning, but along multiple dimensions).\n",
    "* If you expect your workflows to have SQL-like query operations, storing your data in [Snowflake](https://www.snowflake.com/en/https://www.snowflake.com/en/) can be good option.\n",
    "* [Creating Disk Partitioned Lakes with Dask using partition_on](https://www.coiled.io/blog/dask-disk-partition-onhttps://www.coiled.io/blog/dask-disk-partition-on), a blog post by Coiled, has some valuable best practices."
   ]
  },
  {
   "cell_type": "markdown",
   "id": "af65cc9d-22e3-42e1-a63a-fba819cf2ca6",
   "metadata": {
    "tags": []
   },
   "source": [
    "---\n",
    "## Next\n",
    "\n",
    "Big data analysis with Dask!"
   ]
  },
  {
   "cell_type": "code",
   "execution_count": null,
   "id": "3c414cb7-c0ed-4ea0-8bc6-dbd3701a3916",
   "metadata": {},
   "outputs": [],
   "source": []
  }
 ],
 "metadata": {
  "kernelspec": {
   "display_name": "global-global-pycon2023",
   "language": "python",
   "name": "conda-env-global-global-pycon2023-py"
  },
  "language_info": {
   "codemirror_mode": {
    "name": "ipython",
    "version": 3
   },
   "file_extension": ".py",
   "mimetype": "text/x-python",
   "name": "python",
   "nbconvert_exporter": "python",
   "pygments_lexer": "ipython3",
   "version": "3.10.10"
  }
 },
 "nbformat": 4,
 "nbformat_minor": 5
}
