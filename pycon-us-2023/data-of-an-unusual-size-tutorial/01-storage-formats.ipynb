{
 "cells": [
  {
   "cell_type": "markdown",
   "id": "522f7da5-0bd3-4448-8229-5a0aed110fa4",
   "metadata": {},
   "source": [
    "# Storage formats"
   ]
  },
  {
   "cell_type": "markdown",
   "id": "b488059d-00b1-4c04-82a7-ad4e5887ea71",
   "metadata": {
    "tags": []
   },
   "source": [
    "## Download CSV data (subset) from S3\n",
    "\n",
    "TODO"
   ]
  },
  {
   "cell_type": "markdown",
   "id": "7f42ff38-a69b-4e94-92da-b2e9494f0242",
   "metadata": {},
   "source": [
    "## Download Parquet data (subset) from S3\n",
    "\n",
    "TODO"
   ]
  },
  {
   "cell_type": "markdown",
   "id": "e085d726-8d91-48c9-8790-fd6ccd056884",
   "metadata": {},
   "source": [
    "## Understanding Parquet\n",
    "\n",
    "TODO"
   ]
  },
  {
   "cell_type": "markdown",
   "id": "82733f46-d053-43e5-8167-e6128b7577ea",
   "metadata": {},
   "source": [
    "## Comparing performance\n",
    "\n",
    "TODO"
   ]
  },
  {
   "cell_type": "markdown",
   "id": "92c3c8ba-fd31-4fcd-b99e-8182a9236bb9",
   "metadata": {},
   "source": [
    "## Convert from CSV to Parquet\n",
    "\n",
    "TODO"
   ]
  },
  {
   "cell_type": "markdown",
   "id": "7e49bfa2-d066-46e8-a909-ba49591ee23e",
   "metadata": {},
   "source": [
    "## Exercises\n",
    "\n",
    "TODO"
   ]
  },
  {
   "cell_type": "code",
   "execution_count": null,
   "id": "3c414cb7-c0ed-4ea0-8bc6-dbd3701a3916",
   "metadata": {},
   "outputs": [],
   "source": []
  }
 ],
 "metadata": {
  "kernelspec": {
   "display_name": "Python 3 (ipykernel)",
   "language": "python",
   "name": "python3"
  },
  "language_info": {
   "codemirror_mode": {
    "name": "ipython",
    "version": 3
   },
   "file_extension": ".py",
   "mimetype": "text/x-python",
   "name": "python",
   "nbconvert_exporter": "python",
   "pygments_lexer": "ipython3",
   "version": "3.10.9"
  }
 },
 "nbformat": 4,
 "nbformat_minor": 5
}
