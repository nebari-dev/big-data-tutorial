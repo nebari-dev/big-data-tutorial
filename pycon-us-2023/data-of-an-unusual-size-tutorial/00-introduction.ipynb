{
 "cells": [
  {
   "cell_type": "markdown",
   "id": "5fcccf27-5a2f-4af9-b091-7f759401ceca",
   "metadata": {
    "tags": []
   },
   "source": [
    "<div align=\"center\">\n",
    "    <img src=\"./images/banner.png\" width=\"75%\" />\n",
    "</div>"
   ]
  },
  {
   "cell_type": "markdown",
   "id": "3f98408a-6d87-43ad-b908-886a6f5b3225",
   "metadata": {},
   "source": [
    "# Welcome! 👋\n",
    "\n",
    "TODO: Motivating example; showcase a panel dashboard"
   ]
  },
  {
   "cell_type": "markdown",
   "id": "2b50c70e-01c0-423b-ae22-c5ffdf36a91d",
   "metadata": {},
   "source": [
    "## Instructors 🧑‍🏫\n",
    "\n",
    "### Dharhas Pothina\n",
    "\n",
    "Dharhas Pothina is the CTO at Quansight where he helps clients wrangle their data using the PyData stack. His background includes expertise in computational modeling, big data/high performance computing, visualization, and geospatial analysis. He has been part of the Holoviz (HvPlot) and Dask communities for over 10 years and has given many talks and workshops on distributed computing and big data visualization and actively leads large-scale data science projects at Quansight.\n",
    "\n",
    "### Pavithra Eswaramoorthy\n",
    "\n",
    "Pavithra Eswaramoorthy is a Developer Advocate at Quansight, part of the Bokeh core team, and a contributor to Dask. She also worked with the Dask community extensively at her previous role."
   ]
  },
  {
   "cell_type": "markdown",
   "id": "8023238b-2e4e-4bc7-8862-999fcc37d5ea",
   "metadata": {
    "tags": []
   },
   "source": [
    "## Setup instructions ⚙️\n",
    "\n",
    "1. Go to **`nebari.quansight.dev`** \n",
    "\n",
    "<img src=\"./images/nebari-quansight.png\" width=\"30%\"/>\n",
    "\n",
    "2. Register as a new user, with any email and password:\n",
    "\n",
    "<img src=\"./images/nebari-register.png\" width=\"30%\"/>\n",
    "\n",
    "3. Click on start my server, and select a medium instance\n",
    "\n",
    "<img src=\"./images/start-server.png\" width=\"30%\"/> <img src=\"./images/medium-instance.png\" width=\"30%\"/>\n",
    "\n",
    "4. In the JupyterLab interface, clone the tutorial materials with:\n",
    ">`git clone https://github.com/nebari-dev/presentations`\n",
    "\n",
    "5. Navigate to `01-analyze-with-pandas.ipynb` and follow along!"
   ]
  },
  {
   "cell_type": "markdown",
   "id": "8dd9faaa-f497-4cee-97ab-004b01822d51",
   "metadata": {},
   "source": [
    "## Tutorial outline 📝\n",
    "\n",
    "Time marker: 9:00 am\n",
    "\n",
    "* [00-introduction](./00-introduction.ipynb) [20 mins]\n",
    "* [01-analyze-with-pandas](./01-analyze-with-pandas.ipynb) [15 mins + 5 mins of exercises]\n",
    "* [02-intro-to-hvplot](./02-intro-to-hvplot.ipynb) [15 mins + 5 mins of exercises]\n",
    "\n",
    "Break [10 mins] \n",
    "\n",
    "Time marker:  10:10 am\n",
    "\n",
    "* [03-intro-to-dask](./03-intro-to-dask.ipynb) [15 mins]\n",
    "* [04-storage-formats](./04-storage-formats.ipynb) [15 mins + 5 mins of exercises]\n",
    "* [05-big-data-analysis-with-dask](./05-big-data-analysis-with-dask.ipynb) [20 mins + 5 mins of exercises] \n",
    "\n",
    "Break [10 mins] \n",
    "\n",
    "Time marker: 11:20 am\n",
    "\n",
    "* [06-big-data-visualization](./06-big-data-visualization.ipynb) [20 mins + 5 mins of exercises]\n",
    "* [07-big-data-dashboarding](./07-big-data-dashboarding.ipynb) [20 mins + 5 mins of exercises] \n",
    "\n",
    "Time marker: 12:10 am\n",
    "\n",
    "* [08-collaborative-data-science](./08-collaborative-data-science.ipynb) [10 mins] (optional)\n",
    "* [09-conclusion](./09-conclusion.ipynb) [10 mins]\n",
    "\n",
    "Time marker: 12:30 am\n"
   ]
  },
  {
   "cell_type": "markdown",
   "id": "77d7102b-2c9a-4e17-9a47-5b4cd68282cc",
   "metadata": {},
   "source": [
    "## Exercises 💻\n",
    "\n",
    "There are sections that say: \"💻 Your turn\", these are some questions for you to solve. You can click on the collapsed cells with three dots to view the solution."
   ]
  },
  {
   "cell_type": "markdown",
   "id": "721ec173-cb1a-4b24-891e-0aea12d3d90f",
   "metadata": {},
   "source": [
    "## Support 🙋\n",
    "\n",
    "All of these spaces is covered by the [Nebari](https://github.com/nebari-dev/nebari-docs/blob/main/CODE_OF_CONDUCT.md) and [PyCon](https://us.pycon.org/2023/about/code-of-conduct/) Code of Conducts.\n",
    "\n",
    "### Jitsi chat room\n",
    "\n",
    "The platform has a built-in chat-room where you can ask some quick questions. We suggest keeping it open to ask questions yourself or to help out fellow participants. This chat is also monitored by Pavithra (co-instructor) and Eskild (Software engineer at Quansight).\n",
    "\n",
    "* Click on the Video Chat button in the right sidebar:\n",
    "<img src=\"./images/jitsi-icon.png\" width=\"10%\"/>\n",
    "\n",
    "* Join the PyCon 2023 room:\n",
    "<img src=\"./images/jitsi-room.png\" width=\"40%\"/>\n",
    "\n",
    "* Join the meeting with your mic and camera OFF, we'll only use this for chat. :)\n",
    "\n",
    "### GitHub discussions\n",
    "\n",
    "If you have longer or in-depth questions about the tutorial or the platform, open a [GitHub discussion](https://github.com/orgs/nebari-dev/discussions/categories/q-a) in the Q/A category, and tag `@pavithraes` and `@iameskild`. We'll be monitoring the discussions throughout the tutorial as well.\n",
    "\n",
    "### In-person assistance\n",
    "\n",
    "If you need help, raise your hand or paste a sticky note (if it's available) behind your laptop and we'll come over to assist you!"
   ]
  },
  {
   "cell_type": "markdown",
   "id": "534aff7e-5836-41e3-ba24-075f1fa1d8ee",
   "metadata": {},
   "source": [
    "---\n",
    "\n",
    "## Next →\n",
    "\n",
    "Let's start by [taking a look at our dataset](01-analyze-with-pandas.ipynb)!"
   ]
  }
 ],
 "metadata": {
  "kernelspec": {
   "display_name": "pycon2023-pycon2023-tutorial",
   "language": "python",
   "name": "conda-env-pycon2023-pycon2023-tutorial-py"
  },
  "language_info": {
   "codemirror_mode": {
    "name": "ipython",
    "version": 3
   },
   "file_extension": ".py",
   "mimetype": "text/x-python",
   "name": "python",
   "nbconvert_exporter": "python",
   "pygments_lexer": "ipython3",
   "version": "3.10.10"
  }
 },
 "nbformat": 4,
 "nbformat_minor": 5
}
