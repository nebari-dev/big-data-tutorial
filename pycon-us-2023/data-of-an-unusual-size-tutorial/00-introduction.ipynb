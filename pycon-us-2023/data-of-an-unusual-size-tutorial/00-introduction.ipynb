{
 "cells": [
  {
   "cell_type": "markdown",
   "id": "5fcccf27-5a2f-4af9-b091-7f759401ceca",
   "metadata": {
    "tags": []
   },
   "source": [
    "# Welcome!\n",
    "\n",
    "Thanks for joining us for **Data of an Unusual Size: A practical guide to analysis and interactive visualization of massive datasets**"
   ]
  },
  {
   "cell_type": "markdown",
   "id": "3f98408a-6d87-43ad-b908-886a6f5b3225",
   "metadata": {},
   "source": [
    "## Motivating example\n",
    "\n",
    "By the end of this tutorial, you will be able to:\n",
    "\n",
    "TODO: showcase a dashboard made with Panel?"
   ]
  },
  {
   "cell_type": "markdown",
   "id": "d5061444-8dc8-42cc-a111-568e81da1b93",
   "metadata": {},
   "source": [
    "## Instructors\n",
    "\n",
    "* Dharhas Pothina\n",
    "* TBD\n",
    "\n",
    "If you need help, raise your hand or out up a sticky note behind your laptop and we'll come over."
   ]
  },
  {
   "cell_type": "markdown",
   "id": "8023238b-2e4e-4bc7-8862-999fcc37d5ea",
   "metadata": {},
   "source": [
    "## Setup instructions\n",
    "\n",
    "* Go to `nebari.quansight.dev`\n",
    "* Register as a new user\n",
    "* Click on start my server -> small/medium instance\n",
    "* In the JupyterLab interface, `git clone https://github.com/nebari-dev/presentationshttps://github.com/nebari-dev/presentations`\n",
    "* Navigate to `01-analyze-with-pandas.ipynb01-analyze-with-pandas.ipynb`"
   ]
  },
  {
   "cell_type": "markdown",
   "id": "cd83aac0-b8e9-4814-b205-56dfcfb93768",
   "metadata": {},
   "source": [
    "## Tutorial overview\n",
    "\n",
    "TODO"
   ]
  },
  {
   "cell_type": "code",
   "execution_count": null,
   "id": "a3e61f17-300a-4d5f-b04f-2e0936c3aec1",
   "metadata": {},
   "outputs": [],
   "source": []
  },
  {
   "cell_type": "code",
   "execution_count": null,
   "id": "21d8c36d-38e3-41c5-9309-979a229c1647",
   "metadata": {},
   "outputs": [],
   "source": []
  },
  {
   "cell_type": "code",
   "execution_count": null,
   "id": "66e818b2-00e0-4f19-b82a-60f72c5312fe",
   "metadata": {},
   "outputs": [],
   "source": []
  }
 ],
 "metadata": {
  "kernelspec": {
   "display_name": "Python 3 (ipykernel)",
   "language": "python",
   "name": "python3"
  },
  "language_info": {
   "codemirror_mode": {
    "name": "ipython",
    "version": 3
   },
   "file_extension": ".py",
   "mimetype": "text/x-python",
   "name": "python",
   "nbconvert_exporter": "python",
   "pygments_lexer": "ipython3",
   "version": "3.10.9"
  }
 },
 "nbformat": 4,
 "nbformat_minor": 5
}
