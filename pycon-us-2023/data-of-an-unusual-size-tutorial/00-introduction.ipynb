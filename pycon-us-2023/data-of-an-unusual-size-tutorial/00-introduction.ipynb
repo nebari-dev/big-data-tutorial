{
 "cells": [
  {
   "cell_type": "markdown",
   "id": "59589cfc-ca5a-40e4-81f3-b2f71f1ed70f",
   "metadata": {},
   "source": [
    "# Welcome!"
   ]
  },
  {
   "cell_type": "markdown",
   "id": "41d7f5bc-3ebe-4c9e-b8d7-233fe67b7e7f",
   "metadata": {},
   "source": [
    "## Motivating example\n",
    "\n",
    "TODO"
   ]
  },
  {
   "cell_type": "markdown",
   "id": "2eba7244-2056-4d40-a454-692c24720da1",
   "metadata": {
    "tags": []
   },
   "source": [
    "## Setup instructions\n",
    "\n",
    "TODO"
   ]
  },
  {
   "cell_type": "markdown",
   "id": "9f2de459-52b2-4b18-849a-91a3e5300e33",
   "metadata": {},
   "source": [
    "## Tutorial overview\n",
    "\n",
    "TODO"
   ]
  },
  {
   "cell_type": "code",
   "execution_count": null,
   "id": "c742aaf0-fee8-46d5-89b1-46d469342d1a",
   "metadata": {},
   "outputs": [],
   "source": []
  }
 ],
 "metadata": {
  "kernelspec": {
   "display_name": "Python 3 (ipykernel)",
   "language": "python",
   "name": "python3"
  },
  "language_info": {
   "codemirror_mode": {
    "name": "ipython",
    "version": 3
   },
   "file_extension": ".py",
   "mimetype": "text/x-python",
   "name": "python",
   "nbconvert_exporter": "python",
   "pygments_lexer": "ipython3",
   "version": "3.10.9"
  }
 },
 "nbformat": 4,
 "nbformat_minor": 5
}
