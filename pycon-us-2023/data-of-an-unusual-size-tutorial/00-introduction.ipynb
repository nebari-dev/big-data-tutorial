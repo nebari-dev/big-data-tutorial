{
 "cells": [
  {
   "cell_type": "markdown",
   "id": "5fcccf27-5a2f-4af9-b091-7f759401ceca",
   "metadata": {
    "tags": []
   },
   "source": [
    "<div align=\"center\">\n",
    "    <img src=\"./images/banner.png\" width=\"75%\" />\n",
    "</div>"
   ]
  },
  {
   "cell_type": "markdown",
   "id": "3f98408a-6d87-43ad-b908-886a6f5b3225",
   "metadata": {},
   "source": [
    "# Welcome!\n",
    "\n",
    "TODO: Motivating example; showcase a panel dashboard"
   ]
  },
  {
   "cell_type": "markdown",
   "id": "d5061444-8dc8-42cc-a111-568e81da1b93",
   "metadata": {},
   "source": [
    "## Instructors\n",
    "\n",
    "* Dharhas Pothina - CTO at Quansight and Holoviz Steering Council member.\n",
    "* TBD\n",
    "\n",
    "If you need help, raise your hand or put up a sticky note behind your laptop and we'll come over."
   ]
  },
  {
   "cell_type": "markdown",
   "id": "8023238b-2e4e-4bc7-8862-999fcc37d5ea",
   "metadata": {
    "jp-MarkdownHeadingCollapsed": true,
    "tags": []
   },
   "source": [
    "## Setup instructions\n",
    "\n",
    "1. Go to **`nebari.quansight.dev`** \n",
    "\n",
    "<img src=\"./images/nebari-quansight.png\" width=\"30%\"/>\n",
    "\n",
    "2. Register as a new user, with any email and password:\n",
    "\n",
    "<img src=\"./images/nebari-register.png\" width=\"30%\"/>\n",
    "\n",
    "3. Click on start my server, and select a medium instance\n",
    "\n",
    "<img src=\"./images/start-server.png\" width=\"30%\"/> <img src=\"./images/medium-instance.png\" width=\"30%\"/>\n",
    "\n",
    "4. In the JupyterLab interface, clone the tutorial materials with:\n",
    ">`git clone https://github.com/nebari-dev/presentations`\n",
    "\n",
    "5. Navigate to `01-analyze-with-pandas.ipynb` and follow along!"
   ]
  },
  {
   "cell_type": "markdown",
   "id": "534aff7e-5836-41e3-ba24-075f1fa1d8ee",
   "metadata": {},
   "source": [
    "---\n",
    "\n",
    "## Next\n",
    "\n",
    "Let's start by [taking a look at our dataset](01-analyze-with-pandas.ipynb)!"
   ]
  },
  {
   "cell_type": "code",
   "execution_count": null,
   "id": "3939ffd9-cc4d-4c0c-b025-6a7897d64202",
   "metadata": {},
   "outputs": [],
   "source": []
  }
 ],
 "metadata": {
  "kernelspec": {
   "display_name": "Python 3 (ipykernel)",
   "language": "python",
   "name": "python3"
  },
  "language_info": {
   "codemirror_mode": {
    "name": "ipython",
    "version": 3
   },
   "file_extension": ".py",
   "mimetype": "text/x-python",
   "name": "python",
   "nbconvert_exporter": "python",
   "pygments_lexer": "ipython3",
   "version": "3.10.9"
  }
 },
 "nbformat": 4,
 "nbformat_minor": 5
}
