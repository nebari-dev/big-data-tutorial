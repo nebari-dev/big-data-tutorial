{
 "cells": [
  {
   "cell_type": "markdown",
   "id": "f5052283-51f3-4291-ba7f-70facbb564d9",
   "metadata": {
    "tags": []
   },
   "source": [
    "# Analyze a susbset\n",
    "Big data analyses always start with a manageable subset of the data, this allows you to:\n",
    "* Download the dataset locally if needed,\n",
    "* Explore it in depth, and\n",
    "* Experiment with the computations you wish to do.\n",
    "\n",
    "Once you have your computations ready, you can focus on scaling up!\n"
   ]
  },
  {
   "cell_type": "markdown",
   "id": "ebe4f6a7",
   "metadata": {},
   "source": [
    "\n",
    "## Introduce dataset: Airline on-time performance data\n",
    "\n",
    "In this tutorial, we will analyze **the [\"airline on-time performance\" dataset](https://www.transtats.bts.gov/Fields.asp?gnoyr_VQ=FGJhttps://www.transtats.bts.gov/Fields.asp?gnoyr_VQ=FGJ) -- a collection of flight records maintained by the U.S. Department of Transportation's Bureau of Transportation Statistics (BTS)**.\n",
    "\n",
    "This dataset provides information about the on-time performance of domestic flights operated by large air carriers in the United States, including flight delays, cancellations, and diversions. It covers flights operated by 23 major airlines and the records from 1987-present day.\n",
    "\n",
    "We will work with data from 2003-2022, which is ~70 GB is size on disk.\n"
   ]
  },
  {
   "cell_type": "markdown",
   "id": "d70b3412",
   "metadata": {},
   "source": [
    "## Read a subset with pandas\n"
   ]
  },
  {
   "cell_type": "markdown",
   "id": "dbc3a6fa-e1fe-4aa1-be7f-3ee92225d56c",
   "metadata": {},
   "source": [
    "Read data for 1 year, 2022."
   ]
  },
  {
   "cell_type": "code",
   "execution_count": 8,
   "id": "b7aa86f8-a42b-49fb-9e1d-f49c2779e984",
   "metadata": {
    "execution": {
     "iopub.execute_input": "2023-04-06T19:47:34.748666Z",
     "iopub.status.busy": "2023-04-06T19:47:34.748254Z",
     "iopub.status.idle": "2023-04-06T19:47:37.152669Z",
     "shell.execute_reply": "2023-04-06T19:47:37.151499Z",
     "shell.execute_reply.started": "2023-04-06T19:47:34.748626Z"
    },
    "tags": []
   },
   "outputs": [],
   "source": [
    "import json\n",
    "import gcsfs\n",
    "\n",
    "import pandas as pd"
   ]
  },
  {
   "cell_type": "markdown",
   "id": "17e48bd6-d99f-4047-b06c-86127c6ee3e5",
   "metadata": {},
   "source": [
    "We'll look at cloud storage in the next notebook."
   ]
  },
  {
   "cell_type": "code",
   "execution_count": 9,
   "id": "c926a08b-2a7a-484d-8fdd-3f2645813531",
   "metadata": {
    "execution": {
     "iopub.execute_input": "2023-04-06T19:47:39.959762Z",
     "iopub.status.busy": "2023-04-06T19:47:39.958990Z",
     "iopub.status.idle": "2023-04-06T19:47:40.021848Z",
     "shell.execute_reply": "2023-04-06T19:47:40.020335Z",
     "shell.execute_reply.started": "2023-04-06T19:47:39.959720Z"
    },
    "tags": []
   },
   "outputs": [],
   "source": [
    "token = json.load(open(\"scripts/credentials.json\"))\n",
    "fs = gcsfs.GCSFileSystem(token=token)\n",
    "storage_options={\"token\": token}"
   ]
  },
  {
   "cell_type": "code",
   "execution_count": 10,
   "id": "4367776c-5231-4cb3-95cf-e28746113279",
   "metadata": {
    "execution": {
     "iopub.execute_input": "2023-04-06T19:47:40.272399Z",
     "iopub.status.busy": "2023-04-06T19:47:40.271252Z",
     "iopub.status.idle": "2023-04-06T19:47:40.498625Z",
     "shell.execute_reply": "2023-04-06T19:47:40.496658Z",
     "shell.execute_reply.started": "2023-04-06T19:47:40.272357Z"
    },
    "tags": []
   },
   "outputs": [],
   "source": [
    "files = [f\"gcs://{f}\" for f in fs.glob(\"quansight-datasets/airline-ontime-performance/csv/*2022.csv\")]"
   ]
  },
  {
   "cell_type": "code",
   "execution_count": 11,
   "id": "8b796689-6a9e-476f-b8fb-7da8109bcb53",
   "metadata": {
    "execution": {
     "iopub.execute_input": "2023-04-06T19:47:40.732581Z",
     "iopub.status.busy": "2023-04-06T19:47:40.731415Z",
     "iopub.status.idle": "2023-04-06T19:47:40.738948Z",
     "shell.execute_reply": "2023-04-06T19:47:40.737829Z",
     "shell.execute_reply.started": "2023-04-06T19:47:40.732540Z"
    },
    "tags": []
   },
   "outputs": [],
   "source": [
    "with open('scripts/dtypes.json', 'r') as f:\n",
    "    dtypes = json.load(f)"
   ]
  },
  {
   "cell_type": "markdown",
   "id": "823191fb-6dc6-450a-ad1d-3848aab1d74d",
   "metadata": {},
   "source": [
    "As the following cells execute, go to https://www.transtats.bts.gov/Fields.asp?gnoyr_VQ=FGJ to see what this dataset contains."
   ]
  },
  {
   "cell_type": "code",
   "execution_count": 12,
   "id": "d05e9c77-e83f-47ba-812a-a3248745c674",
   "metadata": {
    "execution": {
     "iopub.execute_input": "2023-04-06T19:47:43.101821Z",
     "iopub.status.busy": "2023-04-06T19:47:43.100987Z",
     "iopub.status.idle": "2023-04-06T19:49:57.427731Z",
     "shell.execute_reply": "2023-04-06T19:49:57.426427Z",
     "shell.execute_reply.started": "2023-04-06T19:47:43.101784Z"
    },
    "tags": []
   },
   "outputs": [],
   "source": [
    "# this cell will take ~2.5 minutes to execute on a small/medium machine profiles\n",
    "\n",
    "df_list = []\n",
    "\n",
    "for file in files:\n",
    "    df_temp = pd.read_csv(file, dtype=dtypes, storage_options=storage_options)\n",
    "    df_list.append(df_temp)"
   ]
  },
  {
   "cell_type": "code",
   "execution_count": 13,
   "id": "2e0418e2-e3a2-4fb8-bf4d-e4a49c753731",
   "metadata": {
    "execution": {
     "iopub.execute_input": "2023-04-06T19:49:57.430268Z",
     "iopub.status.busy": "2023-04-06T19:49:57.429757Z",
     "iopub.status.idle": "2023-04-06T19:50:10.654282Z",
     "shell.execute_reply": "2023-04-06T19:50:10.653087Z",
     "shell.execute_reply.started": "2023-04-06T19:49:57.430237Z"
    },
    "tags": []
   },
   "outputs": [],
   "source": [
    "df = pd.concat(df_list)"
   ]
  },
  {
   "cell_type": "markdown",
   "id": "919b495e-dda7-49b6-a5c3-b27ed5f81801",
   "metadata": {},
   "source": [
    "## Explore the dataset"
   ]
  },
  {
   "cell_type": "code",
   "execution_count": 14,
   "id": "7e436f37-60f7-4ecb-b03c-c979e419f909",
   "metadata": {
    "execution": {
     "iopub.execute_input": "2023-04-06T19:50:32.807762Z",
     "iopub.status.busy": "2023-04-06T19:50:32.807360Z",
     "iopub.status.idle": "2023-04-06T19:50:32.844561Z",
     "shell.execute_reply": "2023-04-06T19:50:32.843238Z",
     "shell.execute_reply.started": "2023-04-06T19:50:32.807731Z"
    },
    "tags": []
   },
   "outputs": [
    {
     "data": {
      "text/html": [
       "<div>\n",
       "<style scoped>\n",
       "    .dataframe tbody tr th:only-of-type {\n",
       "        vertical-align: middle;\n",
       "    }\n",
       "\n",
       "    .dataframe tbody tr th {\n",
       "        vertical-align: top;\n",
       "    }\n",
       "\n",
       "    .dataframe thead th {\n",
       "        text-align: right;\n",
       "    }\n",
       "</style>\n",
       "<table border=\"1\" class=\"dataframe\">\n",
       "  <thead>\n",
       "    <tr style=\"text-align: right;\">\n",
       "      <th></th>\n",
       "      <th>YEAR</th>\n",
       "      <th>QUARTER</th>\n",
       "      <th>MONTH</th>\n",
       "      <th>DAY_OF_MONTH</th>\n",
       "      <th>DAY_OF_WEEK</th>\n",
       "      <th>FL_DATE</th>\n",
       "      <th>OP_UNIQUE_CARRIER</th>\n",
       "      <th>OP_CARRIER_AIRLINE_ID</th>\n",
       "      <th>OP_CARRIER</th>\n",
       "      <th>TAIL_NUM</th>\n",
       "      <th>...</th>\n",
       "      <th>DIV4_WHEELS_OFF</th>\n",
       "      <th>DIV4_TAIL_NUM</th>\n",
       "      <th>DIV5_AIRPORT</th>\n",
       "      <th>DIV5_AIRPORT_ID</th>\n",
       "      <th>DIV5_AIRPORT_SEQ_ID</th>\n",
       "      <th>DIV5_WHEELS_ON</th>\n",
       "      <th>DIV5_TOTAL_GTIME</th>\n",
       "      <th>DIV5_LONGEST_GTIME</th>\n",
       "      <th>DIV5_WHEELS_OFF</th>\n",
       "      <th>DIV5_TAIL_NUM</th>\n",
       "    </tr>\n",
       "  </thead>\n",
       "  <tbody>\n",
       "    <tr>\n",
       "      <th>0</th>\n",
       "      <td>2022</td>\n",
       "      <td>2</td>\n",
       "      <td>4</td>\n",
       "      <td>1</td>\n",
       "      <td>5</td>\n",
       "      <td>4/1/2022 12:00:00 AM</td>\n",
       "      <td>9E</td>\n",
       "      <td>20363</td>\n",
       "      <td>9E</td>\n",
       "      <td>N132EV</td>\n",
       "      <td>...</td>\n",
       "      <td>&lt;NA&gt;</td>\n",
       "      <td>&lt;NA&gt;</td>\n",
       "      <td>&lt;NA&gt;</td>\n",
       "      <td>NaN</td>\n",
       "      <td>NaN</td>\n",
       "      <td>&lt;NA&gt;</td>\n",
       "      <td>NaN</td>\n",
       "      <td>NaN</td>\n",
       "      <td>&lt;NA&gt;</td>\n",
       "      <td>&lt;NA&gt;</td>\n",
       "    </tr>\n",
       "    <tr>\n",
       "      <th>1</th>\n",
       "      <td>2022</td>\n",
       "      <td>2</td>\n",
       "      <td>4</td>\n",
       "      <td>1</td>\n",
       "      <td>5</td>\n",
       "      <td>4/1/2022 12:00:00 AM</td>\n",
       "      <td>9E</td>\n",
       "      <td>20363</td>\n",
       "      <td>9E</td>\n",
       "      <td>N133EV</td>\n",
       "      <td>...</td>\n",
       "      <td>&lt;NA&gt;</td>\n",
       "      <td>&lt;NA&gt;</td>\n",
       "      <td>&lt;NA&gt;</td>\n",
       "      <td>NaN</td>\n",
       "      <td>NaN</td>\n",
       "      <td>&lt;NA&gt;</td>\n",
       "      <td>NaN</td>\n",
       "      <td>NaN</td>\n",
       "      <td>&lt;NA&gt;</td>\n",
       "      <td>&lt;NA&gt;</td>\n",
       "    </tr>\n",
       "    <tr>\n",
       "      <th>2</th>\n",
       "      <td>2022</td>\n",
       "      <td>2</td>\n",
       "      <td>4</td>\n",
       "      <td>1</td>\n",
       "      <td>5</td>\n",
       "      <td>4/1/2022 12:00:00 AM</td>\n",
       "      <td>9E</td>\n",
       "      <td>20363</td>\n",
       "      <td>9E</td>\n",
       "      <td>N133EV</td>\n",
       "      <td>...</td>\n",
       "      <td>&lt;NA&gt;</td>\n",
       "      <td>&lt;NA&gt;</td>\n",
       "      <td>&lt;NA&gt;</td>\n",
       "      <td>NaN</td>\n",
       "      <td>NaN</td>\n",
       "      <td>&lt;NA&gt;</td>\n",
       "      <td>NaN</td>\n",
       "      <td>NaN</td>\n",
       "      <td>&lt;NA&gt;</td>\n",
       "      <td>&lt;NA&gt;</td>\n",
       "    </tr>\n",
       "    <tr>\n",
       "      <th>3</th>\n",
       "      <td>2022</td>\n",
       "      <td>2</td>\n",
       "      <td>4</td>\n",
       "      <td>1</td>\n",
       "      <td>5</td>\n",
       "      <td>4/1/2022 12:00:00 AM</td>\n",
       "      <td>9E</td>\n",
       "      <td>20363</td>\n",
       "      <td>9E</td>\n",
       "      <td>N133EV</td>\n",
       "      <td>...</td>\n",
       "      <td>&lt;NA&gt;</td>\n",
       "      <td>&lt;NA&gt;</td>\n",
       "      <td>&lt;NA&gt;</td>\n",
       "      <td>NaN</td>\n",
       "      <td>NaN</td>\n",
       "      <td>&lt;NA&gt;</td>\n",
       "      <td>NaN</td>\n",
       "      <td>NaN</td>\n",
       "      <td>&lt;NA&gt;</td>\n",
       "      <td>&lt;NA&gt;</td>\n",
       "    </tr>\n",
       "    <tr>\n",
       "      <th>4</th>\n",
       "      <td>2022</td>\n",
       "      <td>2</td>\n",
       "      <td>4</td>\n",
       "      <td>1</td>\n",
       "      <td>5</td>\n",
       "      <td>4/1/2022 12:00:00 AM</td>\n",
       "      <td>9E</td>\n",
       "      <td>20363</td>\n",
       "      <td>9E</td>\n",
       "      <td>N133EV</td>\n",
       "      <td>...</td>\n",
       "      <td>&lt;NA&gt;</td>\n",
       "      <td>&lt;NA&gt;</td>\n",
       "      <td>&lt;NA&gt;</td>\n",
       "      <td>NaN</td>\n",
       "      <td>NaN</td>\n",
       "      <td>&lt;NA&gt;</td>\n",
       "      <td>NaN</td>\n",
       "      <td>NaN</td>\n",
       "      <td>&lt;NA&gt;</td>\n",
       "      <td>&lt;NA&gt;</td>\n",
       "    </tr>\n",
       "  </tbody>\n",
       "</table>\n",
       "<p>5 rows × 109 columns</p>\n",
       "</div>"
      ],
      "text/plain": [
       "   YEAR  QUARTER  MONTH  DAY_OF_MONTH  DAY_OF_WEEK               FL_DATE  \\\n",
       "0  2022        2      4             1            5  4/1/2022 12:00:00 AM   \n",
       "1  2022        2      4             1            5  4/1/2022 12:00:00 AM   \n",
       "2  2022        2      4             1            5  4/1/2022 12:00:00 AM   \n",
       "3  2022        2      4             1            5  4/1/2022 12:00:00 AM   \n",
       "4  2022        2      4             1            5  4/1/2022 12:00:00 AM   \n",
       "\n",
       "  OP_UNIQUE_CARRIER  OP_CARRIER_AIRLINE_ID OP_CARRIER TAIL_NUM  ...  \\\n",
       "0                9E                  20363         9E   N132EV  ...   \n",
       "1                9E                  20363         9E   N133EV  ...   \n",
       "2                9E                  20363         9E   N133EV  ...   \n",
       "3                9E                  20363         9E   N133EV  ...   \n",
       "4                9E                  20363         9E   N133EV  ...   \n",
       "\n",
       "   DIV4_WHEELS_OFF  DIV4_TAIL_NUM  DIV5_AIRPORT  DIV5_AIRPORT_ID  \\\n",
       "0             <NA>           <NA>          <NA>              NaN   \n",
       "1             <NA>           <NA>          <NA>              NaN   \n",
       "2             <NA>           <NA>          <NA>              NaN   \n",
       "3             <NA>           <NA>          <NA>              NaN   \n",
       "4             <NA>           <NA>          <NA>              NaN   \n",
       "\n",
       "  DIV5_AIRPORT_SEQ_ID DIV5_WHEELS_ON DIV5_TOTAL_GTIME  DIV5_LONGEST_GTIME  \\\n",
       "0                 NaN           <NA>              NaN                 NaN   \n",
       "1                 NaN           <NA>              NaN                 NaN   \n",
       "2                 NaN           <NA>              NaN                 NaN   \n",
       "3                 NaN           <NA>              NaN                 NaN   \n",
       "4                 NaN           <NA>              NaN                 NaN   \n",
       "\n",
       "  DIV5_WHEELS_OFF  DIV5_TAIL_NUM  \n",
       "0            <NA>           <NA>  \n",
       "1            <NA>           <NA>  \n",
       "2            <NA>           <NA>  \n",
       "3            <NA>           <NA>  \n",
       "4            <NA>           <NA>  \n",
       "\n",
       "[5 rows x 109 columns]"
      ]
     },
     "execution_count": 14,
     "metadata": {},
     "output_type": "execute_result"
    }
   ],
   "source": [
    "df.head()"
   ]
  },
  {
   "cell_type": "code",
   "execution_count": 17,
   "id": "9c5358f6-15c4-4e22-9b33-85130fec26e3",
   "metadata": {
    "execution": {
     "iopub.execute_input": "2023-04-06T19:57:30.570105Z",
     "iopub.status.busy": "2023-04-06T19:57:30.569726Z",
     "iopub.status.idle": "2023-04-06T19:57:30.575303Z",
     "shell.execute_reply": "2023-04-06T19:57:30.574062Z",
     "shell.execute_reply.started": "2023-04-06T19:57:30.570077Z"
    },
    "tags": []
   },
   "outputs": [],
   "source": [
    "# df.describe() -- kernel restarts on medium profile"
   ]
  },
  {
   "cell_type": "markdown",
   "id": "6dcac683-ec9f-483f-bab9-2ea99327e54e",
   "metadata": {
    "jp-MarkdownHeadingCollapsed": true,
    "tags": []
   },
   "source": [
    "### Maximum and average delay in departure?"
   ]
  },
  {
   "cell_type": "markdown",
   "id": "5f884484-9154-4621-8585-1fec2a9155fb",
   "metadata": {},
   "source": [
    "### Which airport/airline has the most flight departure and arrival delays?"
   ]
  },
  {
   "cell_type": "markdown",
   "id": "1084c35c-d4aa-47a6-8cf8-678d8502173f",
   "metadata": {},
   "source": [
    "### Busiest time of the day/year?\n",
    "\n",
    "(Can also plot later)"
   ]
  },
  {
   "cell_type": "markdown",
   "id": "d220a37f-d1ba-49f2-96df-5e787ae9cb61",
   "metadata": {},
   "source": [
    "### Total flight cancellations?\n",
    "\n",
    "(Can plot which month has the most cancellations, then across all years)"
   ]
  },
  {
   "cell_type": "markdown",
   "id": "577bf301-80f4-497a-851e-f16bf077976f",
   "metadata": {},
   "source": [
    "### Which type of cancellation is the most frequent: CarrierDelay, WeatherDelay, NASDelay, SecurityDelay,or LateAircraftDelay?"
   ]
  },
  {
   "cell_type": "markdown",
   "id": "ae5a6d94-96c4-488a-8f16-e948ecf8af9f",
   "metadata": {},
   "source": [
    "### Total time people spent in the air in 2022 in the US? \n",
    "\n",
    "Maybe calculate approx. carbon emissions?"
   ]
  },
  {
   "cell_type": "markdown",
   "id": "eed1c896-0785-4c6f-90a3-5f1ce77fc3f9",
   "metadata": {},
   "source": [
    "---\n",
    "\n",
    "## Next\n",
    "\n",
    "Let's chat briefly about [storage formats](02-storage-formats.ipynb)!"
   ]
  },
  {
   "cell_type": "code",
   "execution_count": null,
   "id": "f0f7dde1-5b3b-444c-855b-f2c1eb5a78d1",
   "metadata": {},
   "outputs": [],
   "source": []
  }
 ],
 "metadata": {
  "kernelspec": {
   "display_name": "Python 3 (ipykernel)",
   "language": "python",
   "name": "python3"
  },
  "language_info": {
   "codemirror_mode": {
    "name": "ipython",
    "version": 3
   },
   "file_extension": ".py",
   "mimetype": "text/x-python",
   "name": "python",
   "nbconvert_exporter": "python",
   "pygments_lexer": "ipython3",
   "version": "3.10.9"
  }
 },
 "nbformat": 4,
 "nbformat_minor": 5
}
