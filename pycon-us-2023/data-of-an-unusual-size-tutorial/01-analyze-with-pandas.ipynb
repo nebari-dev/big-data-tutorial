{
 "cells": [
  {
   "attachments": {},
   "cell_type": "markdown",
   "id": "f5052283-51f3-4291-ba7f-70facbb564d9",
   "metadata": {},
   "source": [
    "# Analyze a susbset\n",
    "Big data analyses always start with a manageable subset of the data, this allows you to:\n",
    "* Download the dataset locally,\n",
    "* Explore it in depth, and\n",
    "* Experiment with the computations you wish to do.\n",
    "\n",
    "Once you have your computations ready, you can focus on scaling up!\n"
   ]
  },
  {
   "attachments": {},
   "cell_type": "markdown",
   "id": "ebe4f6a7",
   "metadata": {},
   "source": [
    "\n",
    "## Introduce dataset: Airline on-time performance data\n",
    "\n",
    "In this tutorial, you will analyze **the [\"airline on-time performance\" dataset](https://www.transtats.bts.gov/Tables.asp?QO_VQ=EFD&QO_anzr=Nv4yv0r%FDb0-gvzr%FDcr4s14zn0pr%FDQn6n&QO_fu146_anzr=b0-gvzrhttps://www.transtats.bts.gov/Tables.asp?QO_VQ=EFD&QO_anzr=Nv4yv0r%FDb0-gvzr%FDcr4s14zn0pr%FDQn6n&QO_fu146_anzr=b0-gvzrhttps://www.transtats.bts.gov/Tables.asp?QO_VQ=EFD&QO_anzr=Nv4yv0r%FDb0-gvzr%FDcr4s14zn0pr%FDQn6n&QO_fu146_anzr=b0-gvzrhttps://www.transtats.bts.gov/Tables.asp?QO_VQ=EFD&QO_anzr=Nv4yv0r%FDb0-gvzr%FDcr4s14zn0pr%FDQn6n&QO_fu146_anzr=b0-gvzr) -- a collection of flight records maintained by the U.S. Department of Transportation's Bureau of Transportation Statistics (BTS)**.\n",
    "\n",
    "This dataset provides information on the on-time performance of domestic flights operated by large air carriers in the United States, including flight delays, cancellations, and diversions. It covers flights operated by 23 major airlines and the records from 1987-present day.\n",
    "\n",
    "You will work with data from 2003-2022, which is ~XX GB is size on disk.\n"
   ]
  },
  {
   "attachments": {},
   "cell_type": "markdown",
   "id": "d70b3412",
   "metadata": {},
   "source": [
    "## Read a subset with pandas\n"
   ]
  }
 ],
 "metadata": {
  "kernelspec": {
   "display_name": "Python 3 (ipykernel)",
   "language": "python",
   "name": "python3"
  },
  "language_info": {
   "codemirror_mode": {
    "name": "ipython",
    "version": 3
   },
   "file_extension": ".py",
   "mimetype": "text/x-python",
   "name": "python",
   "nbconvert_exporter": "python",
   "pygments_lexer": "ipython3",
   "version": "3.10.9"
  }
 },
 "nbformat": 4,
 "nbformat_minor": 5
}
