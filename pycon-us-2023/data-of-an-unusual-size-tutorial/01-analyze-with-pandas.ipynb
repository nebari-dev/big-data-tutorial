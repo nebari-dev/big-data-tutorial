{
 "cells": [
  {
   "cell_type": "markdown",
   "id": "f5052283-51f3-4291-ba7f-70facbb564d9",
   "metadata": {
    "tags": []
   },
   "source": [
    "# Analyze a subset with pandas\n",
    "\n",
    "---\n",
    "\n",
    "Big data analysis always start with a manageable subset of the data, this allows you to:\n",
    "\n",
    "* Explore it with familiar tools like NumPy and pandas, and\n",
    "* Experiment with various computations you wish to do faster.\n",
    "\n",
    "After you have your computations ready, you can focus on scaling up!"
   ]
  },
  {
   "cell_type": "markdown",
   "id": "ebe4f6a7",
   "metadata": {},
   "source": [
    "\n",
    "## Introduce dataset: Airline on-time performance data\n",
    "\n",
    "In this tutorial, we will analyze **the [\"airline on-time performance\" dataset](https://www.transtats.bts.gov/Fields.asp?gnoyr_VQ=FGJhttps://www.transtats.bts.gov/Fields.asp?gnoyr_VQ=FGJ) -- a collection of flight records maintained by the U.S. Department of Transportation's Bureau of Transportation Statistics (BTS)**.\n",
    "\n",
    "This dataset provides information about the on-time performance of domestic flights operated by large air carriers in the United States, including flight delays, cancellations, and diversions. It covers flights operated by 23 major airlines and the records from 1987-present day.\n",
    "\n",
    "We will work with data from 2003-2022, which is ~70 GB in size on disk.\n"
   ]
  },
  {
   "cell_type": "markdown",
   "id": "d70b3412",
   "metadata": {},
   "source": [
    "## Read a subset with pandas"
   ]
  },
  {
   "cell_type": "markdown",
   "id": "dbc3a6fa-e1fe-4aa1-be7f-3ee92225d56c",
   "metadata": {},
   "source": [
    "Let's start by reading data for one year, 2022.\n",
    "\n",
    "The data is stored as one CSV file per month of each year:\n",
    "\n",
    "<img src=\"./images/csv-files.png\">"
   ]
  },
  {
   "cell_type": "markdown",
   "id": "17e48bd6-d99f-4047-b06c-86127c6ee3e5",
   "metadata": {
    "tags": []
   },
   "source": [
    "The following cell prepares has some preliminary credential needed, we'll take a closer look at cloud storage in a future notebook."
   ]
  },
  {
   "cell_type": "code",
   "execution_count": 1,
   "id": "b7aa86f8-a42b-49fb-9e1d-f49c2779e984",
   "metadata": {
    "execution": {
     "iopub.execute_input": "2023-04-08T12:39:08.528349Z",
     "iopub.status.busy": "2023-04-08T12:39:08.527682Z",
     "iopub.status.idle": "2023-04-08T12:39:10.973997Z",
     "shell.execute_reply": "2023-04-08T12:39:10.972893Z",
     "shell.execute_reply.started": "2023-04-08T12:39:08.528308Z"
    },
    "tags": []
   },
   "outputs": [],
   "source": [
    "import json\n",
    "import gcsfs\n",
    "\n",
    "token = json.load(open(\"prep/credentials.json\"))\n",
    "fs = gcsfs.GCSFileSystem(token=token)\n",
    "\n",
    "files = [f\"gcs://{f}\" for f in fs.glob(\"quansight-datasets/airline-ontime-performance/csv/*2022.csv\")]"
   ]
  },
  {
   "cell_type": "markdown",
   "id": "7566197d-183f-4072-95f8-460f37f8f904",
   "metadata": {},
   "source": [
    "You can read only one file at a time in a pandas DataDrame, so we'll each 12 files for each month and concatenate them:"
   ]
  },
  {
   "cell_type": "code",
   "execution_count": 2,
   "id": "016048c6-69c2-4ab4-a0ad-87e226a4c9ba",
   "metadata": {},
   "outputs": [],
   "source": [
    "import pandas as pd"
   ]
  },
  {
   "cell_type": "code",
   "execution_count": 3,
   "id": "8b796689-6a9e-476f-b8fb-7da8109bcb53",
   "metadata": {
    "execution": {
     "iopub.execute_input": "2023-04-08T12:39:59.378769Z",
     "iopub.status.busy": "2023-04-08T12:39:59.377536Z",
     "iopub.status.idle": "2023-04-08T12:39:59.384031Z",
     "shell.execute_reply": "2023-04-08T12:39:59.382784Z",
     "shell.execute_reply.started": "2023-04-08T12:39:59.378728Z"
    },
    "tags": []
   },
   "outputs": [],
   "source": [
    "with open('prep/dtypes.json', 'r') as f:\n",
    "    dtypes = json.load(f)"
   ]
  },
  {
   "cell_type": "code",
   "execution_count": 4,
   "id": "d05e9c77-e83f-47ba-812a-a3248745c674",
   "metadata": {
    "execution": {
     "iopub.execute_input": "2023-04-08T12:40:18.589992Z",
     "iopub.status.busy": "2023-04-08T12:40:18.588934Z",
     "iopub.status.idle": "2023-04-08T12:42:41.151402Z",
     "shell.execute_reply": "2023-04-08T12:42:41.150091Z",
     "shell.execute_reply.started": "2023-04-08T12:40:18.589956Z"
    },
    "tags": []
   },
   "outputs": [],
   "source": [
    "# this cell will take ~2.5 minutes to execute on a small/medium machine profile\n",
    "\n",
    "df_list = []\n",
    "\n",
    "for file in files:\n",
    "    df_temp = pd.read_csv(file,\n",
    "                          dtype=dtypes,\n",
    "                          storage_options={\"token\": token}) # We'll cover storage_options in a future chapter\n",
    "    df_list.append(df_temp)"
   ]
  },
  {
   "cell_type": "code",
   "execution_count": 5,
   "id": "2e0418e2-e3a2-4fb8-bf4d-e4a49c753731",
   "metadata": {
    "execution": {
     "iopub.execute_input": "2023-04-08T12:42:41.153669Z",
     "iopub.status.busy": "2023-04-08T12:42:41.153339Z",
     "iopub.status.idle": "2023-04-08T12:43:02.432810Z",
     "shell.execute_reply": "2023-04-08T12:43:02.431751Z",
     "shell.execute_reply.started": "2023-04-08T12:42:41.153642Z"
    },
    "tags": []
   },
   "outputs": [],
   "source": [
    "df = pd.concat(df_list)"
   ]
  },
  {
   "cell_type": "markdown",
   "id": "919b495e-dda7-49b6-a5c3-b27ed5f81801",
   "metadata": {},
   "source": [
    "## Explore the dataset"
   ]
  },
  {
   "cell_type": "markdown",
   "id": "73fa1406-9222-4d4c-90e8-fb4f5e00aefc",
   "metadata": {},
   "source": [
    "While the previous cells execute, let's [learn more about the dataset](https://www.transtats.bts.gov/Fields.asp?gnoyr_VQ=FGJ).\n",
    "\n",
    "Go to the link and take a look at the information available."
   ]
  },
  {
   "cell_type": "code",
   "execution_count": 6,
   "id": "7e436f37-60f7-4ecb-b03c-c979e419f909",
   "metadata": {
    "execution": {
     "iopub.execute_input": "2023-04-08T12:43:02.434604Z",
     "iopub.status.busy": "2023-04-08T12:43:02.434253Z",
     "iopub.status.idle": "2023-04-08T12:43:02.476569Z",
     "shell.execute_reply": "2023-04-08T12:43:02.474984Z",
     "shell.execute_reply.started": "2023-04-08T12:43:02.434575Z"
    },
    "tags": []
   },
   "outputs": [
    {
     "data": {
      "text/html": [
       "<div>\n",
       "<style scoped>\n",
       "    .dataframe tbody tr th:only-of-type {\n",
       "        vertical-align: middle;\n",
       "    }\n",
       "\n",
       "    .dataframe tbody tr th {\n",
       "        vertical-align: top;\n",
       "    }\n",
       "\n",
       "    .dataframe thead th {\n",
       "        text-align: right;\n",
       "    }\n",
       "</style>\n",
       "<table border=\"1\" class=\"dataframe\">\n",
       "  <thead>\n",
       "    <tr style=\"text-align: right;\">\n",
       "      <th></th>\n",
       "      <th>YEAR</th>\n",
       "      <th>QUARTER</th>\n",
       "      <th>MONTH</th>\n",
       "      <th>DAY_OF_MONTH</th>\n",
       "      <th>DAY_OF_WEEK</th>\n",
       "      <th>FL_DATE</th>\n",
       "      <th>OP_UNIQUE_CARRIER</th>\n",
       "      <th>OP_CARRIER_AIRLINE_ID</th>\n",
       "      <th>OP_CARRIER</th>\n",
       "      <th>TAIL_NUM</th>\n",
       "      <th>...</th>\n",
       "      <th>DIV4_WHEELS_OFF</th>\n",
       "      <th>DIV4_TAIL_NUM</th>\n",
       "      <th>DIV5_AIRPORT</th>\n",
       "      <th>DIV5_AIRPORT_ID</th>\n",
       "      <th>DIV5_AIRPORT_SEQ_ID</th>\n",
       "      <th>DIV5_WHEELS_ON</th>\n",
       "      <th>DIV5_TOTAL_GTIME</th>\n",
       "      <th>DIV5_LONGEST_GTIME</th>\n",
       "      <th>DIV5_WHEELS_OFF</th>\n",
       "      <th>DIV5_TAIL_NUM</th>\n",
       "    </tr>\n",
       "  </thead>\n",
       "  <tbody>\n",
       "    <tr>\n",
       "      <th>0</th>\n",
       "      <td>2022</td>\n",
       "      <td>2</td>\n",
       "      <td>4</td>\n",
       "      <td>1</td>\n",
       "      <td>5</td>\n",
       "      <td>4/1/2022 12:00:00 AM</td>\n",
       "      <td>9E</td>\n",
       "      <td>20363</td>\n",
       "      <td>9E</td>\n",
       "      <td>N132EV</td>\n",
       "      <td>...</td>\n",
       "      <td>&lt;NA&gt;</td>\n",
       "      <td>&lt;NA&gt;</td>\n",
       "      <td>&lt;NA&gt;</td>\n",
       "      <td>NaN</td>\n",
       "      <td>NaN</td>\n",
       "      <td>&lt;NA&gt;</td>\n",
       "      <td>NaN</td>\n",
       "      <td>NaN</td>\n",
       "      <td>&lt;NA&gt;</td>\n",
       "      <td>&lt;NA&gt;</td>\n",
       "    </tr>\n",
       "    <tr>\n",
       "      <th>1</th>\n",
       "      <td>2022</td>\n",
       "      <td>2</td>\n",
       "      <td>4</td>\n",
       "      <td>1</td>\n",
       "      <td>5</td>\n",
       "      <td>4/1/2022 12:00:00 AM</td>\n",
       "      <td>9E</td>\n",
       "      <td>20363</td>\n",
       "      <td>9E</td>\n",
       "      <td>N133EV</td>\n",
       "      <td>...</td>\n",
       "      <td>&lt;NA&gt;</td>\n",
       "      <td>&lt;NA&gt;</td>\n",
       "      <td>&lt;NA&gt;</td>\n",
       "      <td>NaN</td>\n",
       "      <td>NaN</td>\n",
       "      <td>&lt;NA&gt;</td>\n",
       "      <td>NaN</td>\n",
       "      <td>NaN</td>\n",
       "      <td>&lt;NA&gt;</td>\n",
       "      <td>&lt;NA&gt;</td>\n",
       "    </tr>\n",
       "    <tr>\n",
       "      <th>2</th>\n",
       "      <td>2022</td>\n",
       "      <td>2</td>\n",
       "      <td>4</td>\n",
       "      <td>1</td>\n",
       "      <td>5</td>\n",
       "      <td>4/1/2022 12:00:00 AM</td>\n",
       "      <td>9E</td>\n",
       "      <td>20363</td>\n",
       "      <td>9E</td>\n",
       "      <td>N133EV</td>\n",
       "      <td>...</td>\n",
       "      <td>&lt;NA&gt;</td>\n",
       "      <td>&lt;NA&gt;</td>\n",
       "      <td>&lt;NA&gt;</td>\n",
       "      <td>NaN</td>\n",
       "      <td>NaN</td>\n",
       "      <td>&lt;NA&gt;</td>\n",
       "      <td>NaN</td>\n",
       "      <td>NaN</td>\n",
       "      <td>&lt;NA&gt;</td>\n",
       "      <td>&lt;NA&gt;</td>\n",
       "    </tr>\n",
       "    <tr>\n",
       "      <th>3</th>\n",
       "      <td>2022</td>\n",
       "      <td>2</td>\n",
       "      <td>4</td>\n",
       "      <td>1</td>\n",
       "      <td>5</td>\n",
       "      <td>4/1/2022 12:00:00 AM</td>\n",
       "      <td>9E</td>\n",
       "      <td>20363</td>\n",
       "      <td>9E</td>\n",
       "      <td>N133EV</td>\n",
       "      <td>...</td>\n",
       "      <td>&lt;NA&gt;</td>\n",
       "      <td>&lt;NA&gt;</td>\n",
       "      <td>&lt;NA&gt;</td>\n",
       "      <td>NaN</td>\n",
       "      <td>NaN</td>\n",
       "      <td>&lt;NA&gt;</td>\n",
       "      <td>NaN</td>\n",
       "      <td>NaN</td>\n",
       "      <td>&lt;NA&gt;</td>\n",
       "      <td>&lt;NA&gt;</td>\n",
       "    </tr>\n",
       "    <tr>\n",
       "      <th>4</th>\n",
       "      <td>2022</td>\n",
       "      <td>2</td>\n",
       "      <td>4</td>\n",
       "      <td>1</td>\n",
       "      <td>5</td>\n",
       "      <td>4/1/2022 12:00:00 AM</td>\n",
       "      <td>9E</td>\n",
       "      <td>20363</td>\n",
       "      <td>9E</td>\n",
       "      <td>N133EV</td>\n",
       "      <td>...</td>\n",
       "      <td>&lt;NA&gt;</td>\n",
       "      <td>&lt;NA&gt;</td>\n",
       "      <td>&lt;NA&gt;</td>\n",
       "      <td>NaN</td>\n",
       "      <td>NaN</td>\n",
       "      <td>&lt;NA&gt;</td>\n",
       "      <td>NaN</td>\n",
       "      <td>NaN</td>\n",
       "      <td>&lt;NA&gt;</td>\n",
       "      <td>&lt;NA&gt;</td>\n",
       "    </tr>\n",
       "  </tbody>\n",
       "</table>\n",
       "<p>5 rows × 109 columns</p>\n",
       "</div>"
      ],
      "text/plain": [
       "   YEAR  QUARTER  MONTH  DAY_OF_MONTH  DAY_OF_WEEK               FL_DATE  \\\n",
       "0  2022        2      4             1            5  4/1/2022 12:00:00 AM   \n",
       "1  2022        2      4             1            5  4/1/2022 12:00:00 AM   \n",
       "2  2022        2      4             1            5  4/1/2022 12:00:00 AM   \n",
       "3  2022        2      4             1            5  4/1/2022 12:00:00 AM   \n",
       "4  2022        2      4             1            5  4/1/2022 12:00:00 AM   \n",
       "\n",
       "  OP_UNIQUE_CARRIER  OP_CARRIER_AIRLINE_ID OP_CARRIER TAIL_NUM  ...  \\\n",
       "0                9E                  20363         9E   N132EV  ...   \n",
       "1                9E                  20363         9E   N133EV  ...   \n",
       "2                9E                  20363         9E   N133EV  ...   \n",
       "3                9E                  20363         9E   N133EV  ...   \n",
       "4                9E                  20363         9E   N133EV  ...   \n",
       "\n",
       "   DIV4_WHEELS_OFF  DIV4_TAIL_NUM  DIV5_AIRPORT  DIV5_AIRPORT_ID  \\\n",
       "0             <NA>           <NA>          <NA>              NaN   \n",
       "1             <NA>           <NA>          <NA>              NaN   \n",
       "2             <NA>           <NA>          <NA>              NaN   \n",
       "3             <NA>           <NA>          <NA>              NaN   \n",
       "4             <NA>           <NA>          <NA>              NaN   \n",
       "\n",
       "  DIV5_AIRPORT_SEQ_ID DIV5_WHEELS_ON DIV5_TOTAL_GTIME  DIV5_LONGEST_GTIME  \\\n",
       "0                 NaN           <NA>              NaN                 NaN   \n",
       "1                 NaN           <NA>              NaN                 NaN   \n",
       "2                 NaN           <NA>              NaN                 NaN   \n",
       "3                 NaN           <NA>              NaN                 NaN   \n",
       "4                 NaN           <NA>              NaN                 NaN   \n",
       "\n",
       "  DIV5_WHEELS_OFF  DIV5_TAIL_NUM  \n",
       "0            <NA>           <NA>  \n",
       "1            <NA>           <NA>  \n",
       "2            <NA>           <NA>  \n",
       "3            <NA>           <NA>  \n",
       "4            <NA>           <NA>  \n",
       "\n",
       "[5 rows x 109 columns]"
      ]
     },
     "execution_count": 6,
     "metadata": {},
     "output_type": "execute_result"
    }
   ],
   "source": [
    "df.head()"
   ]
  },
  {
   "cell_type": "markdown",
   "id": "91149162-3324-4c63-9cda-6e034e41484b",
   "metadata": {},
   "source": [
    "Let's also list some column names for quicker access later, and note that the column names are capitalized in our dataset."
   ]
  },
  {
   "cell_type": "code",
   "execution_count": 31,
   "id": "d94c98ac-b131-4b87-9f3d-daee56d58464",
   "metadata": {
    "execution": {
     "iopub.execute_input": "2023-04-08T12:43:02.488019Z",
     "iopub.status.busy": "2023-04-08T12:43:02.487550Z",
     "iopub.status.idle": "2023-04-08T12:43:02.504878Z",
     "shell.execute_reply": "2023-04-08T12:43:02.503582Z",
     "shell.execute_reply.started": "2023-04-08T12:43:02.487980Z"
    }
   },
   "outputs": [
    {
     "data": {
      "text/plain": [
       "Index(['YEAR', 'QUARTER', 'MONTH', 'DAY_OF_MONTH', 'DAY_OF_WEEK', 'FL_DATE',\n",
       "       'OP_UNIQUE_CARRIER', 'OP_CARRIER_AIRLINE_ID', 'OP_CARRIER', 'TAIL_NUM',\n",
       "       'OP_CARRIER_FL_NUM', 'ORIGIN_AIRPORT_ID', 'ORIGIN_AIRPORT_SEQ_ID',\n",
       "       'ORIGIN_CITY_MARKET_ID', 'ORIGIN', 'ORIGIN_CITY_NAME',\n",
       "       'ORIGIN_STATE_ABR', 'ORIGIN_STATE_FIPS', 'ORIGIN_STATE_NM',\n",
       "       'ORIGIN_WAC', 'DEST_AIRPORT_ID', 'DEST_AIRPORT_SEQ_ID',\n",
       "       'DEST_CITY_MARKET_ID', 'DEST', 'DEST_CITY_NAME', 'DEST_STATE_ABR',\n",
       "       'DEST_STATE_FIPS', 'DEST_STATE_NM', 'DEST_WAC', 'CRS_DEP_TIME',\n",
       "       'DEP_TIME', 'DEP_DELAY', 'DEP_DELAY_NEW', 'DEP_DEL15',\n",
       "       'DEP_DELAY_GROUP', 'DEP_TIME_BLK', 'TAXI_OUT', 'WHEELS_OFF',\n",
       "       'WHEELS_ON', 'TAXI_IN', 'CRS_ARR_TIME', 'ARR_TIME', 'ARR_DELAY',\n",
       "       'ARR_DELAY_NEW', 'ARR_DEL15', 'ARR_DELAY_GROUP', 'ARR_TIME_BLK',\n",
       "       'CANCELLED', 'CANCELLATION_CODE', 'DIVERTED', 'CRS_ELAPSED_TIME',\n",
       "       'ACTUAL_ELAPSED_TIME', 'AIR_TIME', 'FLIGHTS', 'DISTANCE',\n",
       "       'DISTANCE_GROUP', 'CARRIER_DELAY', 'WEATHER_DELAY', 'NAS_DELAY',\n",
       "       'SECURITY_DELAY', 'LATE_AIRCRAFT_DELAY'],\n",
       "      dtype='object')"
      ]
     },
     "execution_count": 31,
     "metadata": {},
     "output_type": "execute_result"
    }
   ],
   "source": [
    "df.columns[:61]"
   ]
  },
  {
   "cell_type": "markdown",
   "id": "1ccc97a9-45b5-4dee-8133-4d055b95ed7f",
   "metadata": {},
   "source": [
    "Now let's perform some quick computations to get a better understanding of the dataset."
   ]
  },
  {
   "cell_type": "markdown",
   "id": "ae5a6d94-96c4-488a-8f16-e948ecf8af9f",
   "metadata": {},
   "source": [
    "### What is the total time people spent on a flight in 2022?"
   ]
  },
  {
   "cell_type": "code",
   "execution_count": 8,
   "id": "804e4b78-02b0-43bb-b97a-e40c865c37e9",
   "metadata": {},
   "outputs": [
    {
     "name": "stdout",
     "output_type": "stream",
     "text": [
      "People spent a total of 823399905.0 minutes on a domestic flight, in 2022 in the USA; \n",
      "which is ~1588.35 years in aggregate.\n"
     ]
    }
   ],
   "source": [
    "time_in_flight = df[\"ACTUAL_ELAPSED_TIME\"].sum()\n",
    "\n",
    "print(f\"People spent a total of {time_in_flight} minutes on a domestic flight, in 2022 in the USA; \\nwhich is ~{round(time_in_flight / (60*24*30*12), 2)} years in aggregate.\")"
   ]
  },
  {
   "cell_type": "markdown",
   "id": "6dcac683-ec9f-483f-bab9-2ea99327e54e",
   "metadata": {
    "tags": []
   },
   "source": [
    "### Your turn: What are the maximum and average delays in flight departures?"
   ]
  },
  {
   "cell_type": "code",
   "execution_count": null,
   "id": "13c5a629-a693-43d6-a3ba-45127215b3eb",
   "metadata": {},
   "outputs": [],
   "source": [
    "# Your code here."
   ]
  },
  {
   "cell_type": "code",
   "execution_count": 10,
   "id": "c6177e76-fbd5-4862-a5e2-60991046ea5b",
   "metadata": {
    "jupyter": {
     "source_hidden": true
    },
    "tags": []
   },
   "outputs": [],
   "source": [
    "# Answer:\n",
    "\n",
    "max_dep_delay = df[\"DEP_DELAY\"].max()\n",
    "print(f\"The maximum departure delay in departure is {max_dep_delay} minutes, or ~{max_dep_delay // 60} hours.\")\n",
    "\n",
    "mean_dep_delay = df[\"DEP_DELAY\"].mean()\n",
    "print(f\"The average departure delay in departure is {round(mean_dep_delay, 2)} minutes.\")"
   ]
  },
  {
   "cell_type": "markdown",
   "id": "5f884484-9154-4621-8585-1fec2a9155fb",
   "metadata": {},
   "source": [
    "### Which airport/airline has the most flight departure and arrival delays?"
   ]
  },
  {
   "cell_type": "markdown",
   "id": "82d70c61-6e67-4b04-b8f5-80e835cf68ef",
   "metadata": {},
   "source": [
    "**Airport:**"
   ]
  },
  {
   "cell_type": "code",
   "execution_count": 11,
   "id": "6723f623-2a8b-4b18-bb64-fa509bc27dd5",
   "metadata": {
    "execution": {
     "iopub.execute_input": "2023-04-08T12:43:02.793041Z",
     "iopub.status.busy": "2023-04-08T12:43:02.792723Z",
     "iopub.status.idle": "2023-04-08T12:43:03.935185Z",
     "shell.execute_reply": "2023-04-08T12:43:03.934060Z",
     "shell.execute_reply.started": "2023-04-08T12:43:02.793014Z"
    }
   },
   "outputs": [
    {
     "data": {
      "text/plain": [
       "'ATL'"
      ]
     },
     "execution_count": 11,
     "metadata": {},
     "output_type": "execute_result"
    }
   ],
   "source": [
    "df.groupby(\"ORIGIN\")[\"DEP_DELAY\"].count().idxmax()"
   ]
  },
  {
   "cell_type": "code",
   "execution_count": 12,
   "id": "fb28958f-307a-46ce-b6fd-dfc7010ec1f2",
   "metadata": {
    "execution": {
     "iopub.execute_input": "2023-04-08T12:43:03.937004Z",
     "iopub.status.busy": "2023-04-08T12:43:03.936552Z",
     "iopub.status.idle": "2023-04-08T12:43:04.747367Z",
     "shell.execute_reply": "2023-04-08T12:43:04.746016Z",
     "shell.execute_reply.started": "2023-04-08T12:43:03.936976Z"
    }
   },
   "outputs": [
    {
     "data": {
      "text/plain": [
       "'ATL'"
      ]
     },
     "execution_count": 12,
     "metadata": {},
     "output_type": "execute_result"
    }
   ],
   "source": [
    "df.groupby(\"ORIGIN\")[\"ARR_DELAY\"].count().idxmax()"
   ]
  },
  {
   "cell_type": "markdown",
   "id": "008d4ef5-a0e8-4e94-91fe-f08548c6a337",
   "metadata": {},
   "source": [
    "That's the code for Hartsfield-Jackson Atlanta International Airport, interesting!"
   ]
  },
  {
   "cell_type": "markdown",
   "id": "e15c485e-e2f8-424b-bfe2-06f8f135c21e",
   "metadata": {
    "tags": []
   },
   "source": [
    "**Airline:**"
   ]
  },
  {
   "cell_type": "code",
   "execution_count": 13,
   "id": "acea16c2-da2e-4510-b669-5935f829e7eb",
   "metadata": {
    "execution": {
     "iopub.execute_input": "2023-04-08T12:43:04.749092Z",
     "iopub.status.busy": "2023-04-08T12:43:04.748774Z",
     "iopub.status.idle": "2023-04-08T12:43:05.527791Z",
     "shell.execute_reply": "2023-04-08T12:43:05.526644Z",
     "shell.execute_reply.started": "2023-04-08T12:43:04.749068Z"
    }
   },
   "outputs": [
    {
     "data": {
      "text/plain": [
       "'WN'"
      ]
     },
     "execution_count": 13,
     "metadata": {},
     "output_type": "execute_result"
    }
   ],
   "source": [
    "df.groupby(\"OP_CARRIER\")[\"DEP_DELAY\"].count().idxmax()"
   ]
  },
  {
   "cell_type": "code",
   "execution_count": 14,
   "id": "20e8d625-9567-43cd-93e5-72dab3d4b4d6",
   "metadata": {
    "execution": {
     "iopub.execute_input": "2023-04-08T12:43:05.529255Z",
     "iopub.status.busy": "2023-04-08T12:43:05.528965Z",
     "iopub.status.idle": "2023-04-08T12:43:06.295021Z",
     "shell.execute_reply": "2023-04-08T12:43:06.293945Z",
     "shell.execute_reply.started": "2023-04-08T12:43:05.529231Z"
    }
   },
   "outputs": [
    {
     "data": {
      "text/plain": [
       "'WN'"
      ]
     },
     "execution_count": 14,
     "metadata": {},
     "output_type": "execute_result"
    }
   ],
   "source": [
    "df.groupby(\"OP_CARRIER\")[\"ARR_DELAY\"].count().idxmax()"
   ]
  },
  {
   "cell_type": "markdown",
   "id": "fdfe9b06-7bc0-438e-9871-848df3786cfe",
   "metadata": {},
   "source": [
    "'WN' is the code for Southwest Airlines."
   ]
  },
  {
   "cell_type": "markdown",
   "id": "a5cb0519-6631-44d6-be72-901717053024",
   "metadata": {},
   "source": [
    "### Your turn: Which type of delay contributes most to the overall departure delay for each month?\n",
    "\n",
    "If it's Carrier Delay for a particular month, which carrier is the most responsible for it?"
   ]
  },
  {
   "cell_type": "code",
   "execution_count": null,
   "id": "35649714-032f-4d43-a0a2-c210323099be",
   "metadata": {},
   "outputs": [],
   "source": [
    "# Your code here."
   ]
  },
  {
   "cell_type": "code",
   "execution_count": null,
   "id": "5daff761-f0bc-4151-b570-fc688324d186",
   "metadata": {
    "jupyter": {
     "source_hidden": true
    },
    "tags": []
   },
   "outputs": [],
   "source": [
    "# Answer:\n",
    "\n",
    "df.groupby(\"MONTH\") \\\n",
    "['CARRIER_DELAY', 'WEATHER_DELAY', 'NAS_DELAY', 'SECURITY_DELAY', 'LATE_AIRCRAFT_DELAY'] \\\n",
    ".sum() \\\n",
    ".idxmax(axis=1)"
   ]
  },
  {
   "cell_type": "markdown",
   "id": "d220a37f-d1ba-49f2-96df-5e787ae9cb61",
   "metadata": {
    "tags": []
   },
   "source": [
    "### Get all \"DISTANCE\" values in kilometers instead of miles"
   ]
  },
  {
   "cell_type": "code",
   "execution_count": 64,
   "id": "5c262a93-6d90-4ef0-a7b5-e2a01b375c4f",
   "metadata": {},
   "outputs": [
    {
     "data": {
      "text/plain": [
       "0          800.290910\n",
       "1         1121.240911\n",
       "2         4289.059098\n",
       "3         1396.340912\n",
       "4         2346.686368\n",
       "             ...     \n",
       "557489    4218.200007\n",
       "557490    4218.200007\n",
       "557491    1617.254548\n",
       "557492     737.768183\n",
       "557493    1100.400002\n",
       "Name: DISTANCE, Length: 6172030, dtype: float64"
      ]
     },
     "execution_count": 64,
     "metadata": {},
     "output_type": "execute_result"
    }
   ],
   "source": [
    "df.DISTANCE.apply(lambda x: x*1.609344)"
   ]
  },
  {
   "cell_type": "markdown",
   "id": "07f38d1b-a77f-4d87-9b59-1b461c2b230b",
   "metadata": {},
   "source": [
    "## Need for scale: Try to read the entire dataset in pandas"
   ]
  },
  {
   "cell_type": "code",
   "execution_count": 20,
   "id": "5e04589e-c25e-46af-953a-c1f68891c55c",
   "metadata": {
    "execution": {
     "iopub.execute_input": "2023-04-08T12:43:06.379728Z",
     "iopub.status.busy": "2023-04-08T12:43:06.379300Z",
     "iopub.status.idle": "2023-04-08T12:43:06.474509Z",
     "shell.execute_reply": "2023-04-08T12:43:06.473374Z",
     "shell.execute_reply.started": "2023-04-08T12:43:06.379688Z"
    },
    "tags": []
   },
   "outputs": [],
   "source": [
    "files = [f\"gcs://{f}\" for f in fs.glob(\"quansight-datasets/airline-ontime-performance/csv/*.csv\")]"
   ]
  },
  {
   "cell_type": "code",
   "execution_count": 22,
   "id": "6f69b86c-9837-44dc-9a19-90b205eaccfb",
   "metadata": {
    "execution": {
     "iopub.execute_input": "2023-04-08T12:43:23.796675Z",
     "iopub.status.busy": "2023-04-08T12:43:23.795876Z",
     "iopub.status.idle": "2023-04-08T12:43:23.802682Z",
     "shell.execute_reply": "2023-04-08T12:43:23.801052Z",
     "shell.execute_reply.started": "2023-04-08T12:43:23.796641Z"
    },
    "tags": []
   },
   "outputs": [],
   "source": [
    "with open('prep/dtypes.json', 'r') as f:\n",
    "    dtypes = json.load(f)"
   ]
  },
  {
   "cell_type": "code",
   "execution_count": null,
   "id": "3c76a891-b535-412f-a74c-e2640b3f5f8f",
   "metadata": {
    "execution": {
     "iopub.execute_input": "2023-04-08T12:43:29.755372Z",
     "iopub.status.busy": "2023-04-08T12:43:29.754951Z"
    },
    "tags": []
   },
   "outputs": [],
   "source": [
    "# kernel restarts!\n",
    "\n",
    "df_list = []\n",
    "\n",
    "for file in files:\n",
    "    df_temp = pd.read_csv(file, dtype=dtypes, storage_options=storage_options)\n",
    "    df_list.append(df_temp)"
   ]
  },
  {
   "cell_type": "code",
   "execution_count": null,
   "id": "7ec6d25b-fae3-4eb2-8f5f-c2c71e4393bd",
   "metadata": {},
   "outputs": [],
   "source": []
  },
  {
   "cell_type": "markdown",
   "id": "eed1c896-0785-4c6f-90a3-5f1ce77fc3f9",
   "metadata": {
    "tags": []
   },
   "source": [
    "---\n",
    "\n",
    "## Next\n",
    "\n",
    "Let's chat briefly about [storage formats](02-storage-formats.ipynb)!"
   ]
  },
  {
   "cell_type": "code",
   "execution_count": null,
   "id": "f0f7dde1-5b3b-444c-855b-f2c1eb5a78d1",
   "metadata": {},
   "outputs": [],
   "source": []
  }
 ],
 "metadata": {
  "kernelspec": {
   "display_name": "global-global-pycon2023",
   "language": "python",
   "name": "conda-env-global-global-pycon2023-py"
  },
  "language_info": {
   "codemirror_mode": {
    "name": "ipython",
    "version": 3
   },
   "file_extension": ".py",
   "mimetype": "text/x-python",
   "name": "python",
   "nbconvert_exporter": "python",
   "pygments_lexer": "ipython3",
   "version": "3.10.10"
  }
 },
 "nbformat": 4,
 "nbformat_minor": 5
}
