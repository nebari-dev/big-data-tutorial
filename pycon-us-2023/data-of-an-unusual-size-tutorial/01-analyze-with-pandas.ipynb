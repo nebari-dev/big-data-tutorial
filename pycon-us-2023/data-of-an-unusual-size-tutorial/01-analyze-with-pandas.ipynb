{
 "cells": [
  {
   "cell_type": "markdown",
   "id": "f5052283-51f3-4291-ba7f-70facbb564d9",
   "metadata": {
    "tags": []
   },
   "source": [
    "# Analyze a subset of data\n",
    "\n",
    "Big data analysis always start with a manageable subset of the data, this allows you to:\n",
    "\n",
    "* Download the dataset locally if needed,\n",
    "* Explore it in depth, and\n",
    "* Experiment with the computations you wish to do.\n",
    "\n",
    "Once you have your computations ready, you can focus on scaling up!\n"
   ]
  },
  {
   "cell_type": "markdown",
   "id": "ebe4f6a7",
   "metadata": {},
   "source": [
    "\n",
    "## Introduce dataset: Airline on-time performance data\n",
    "\n",
    "In this tutorial, we will analyze **the [\"airline on-time performance\" dataset](https://www.transtats.bts.gov/Fields.asp?gnoyr_VQ=FGJhttps://www.transtats.bts.gov/Fields.asp?gnoyr_VQ=FGJ) -- a collection of flight records maintained by the U.S. Department of Transportation's Bureau of Transportation Statistics (BTS)**.\n",
    "\n",
    "This dataset provides information about the on-time performance of domestic flights operated by large air carriers in the United States, including flight delays, cancellations, and diversions. It covers flights operated by 23 major airlines and the records from 1987-present day.\n",
    "\n",
    "We will work with data from 2003-2022, which is ~70 GB is size on disk.\n"
   ]
  },
  {
   "cell_type": "markdown",
   "id": "d70b3412",
   "metadata": {},
   "source": [
    "## Read a subset with pandas"
   ]
  },
  {
   "cell_type": "markdown",
   "id": "dbc3a6fa-e1fe-4aa1-be7f-3ee92225d56c",
   "metadata": {},
   "source": [
    "Read data for 1 year, 2022."
   ]
  },
  {
   "cell_type": "code",
   "execution_count": 1,
   "id": "b7aa86f8-a42b-49fb-9e1d-f49c2779e984",
   "metadata": {
    "tags": []
   },
   "outputs": [],
   "source": [
    "import json\n",
    "import gcsfs\n",
    "\n",
    "import pandas as pd"
   ]
  },
  {
   "cell_type": "markdown",
   "id": "17e48bd6-d99f-4047-b06c-86127c6ee3e5",
   "metadata": {},
   "source": [
    "We'll look at cloud storage in the next notebook."
   ]
  },
  {
   "cell_type": "code",
   "execution_count": 2,
   "id": "c926a08b-2a7a-484d-8fdd-3f2645813531",
   "metadata": {
    "tags": []
   },
   "outputs": [],
   "source": [
    "token = json.load(open(\"scripts/credentials.json\"))\n",
    "fs = gcsfs.GCSFileSystem(token=token)\n",
    "storage_options={\"token\": token}"
   ]
  },
  {
   "cell_type": "code",
   "execution_count": 3,
   "id": "4367776c-5231-4cb3-95cf-e28746113279",
   "metadata": {
    "tags": []
   },
   "outputs": [],
   "source": [
    "files = [f\"gcs://{f}\" for f in fs.glob(\"quansight-datasets/airline-ontime-performance/csv/*2022.csv\")]"
   ]
  },
  {
   "cell_type": "code",
   "execution_count": 4,
   "id": "8b796689-6a9e-476f-b8fb-7da8109bcb53",
   "metadata": {
    "tags": []
   },
   "outputs": [],
   "source": [
    "with open('scripts/dtypes.json', 'r') as f:\n",
    "    dtypes = json.load(f)"
   ]
  },
  {
   "cell_type": "code",
   "execution_count": 5,
   "id": "d05e9c77-e83f-47ba-812a-a3248745c674",
   "metadata": {
    "tags": []
   },
   "outputs": [],
   "source": [
    "# this cell will take ~2.5 minutes to execute on a small/medium machine profile\n",
    "\n",
    "df_list = []\n",
    "\n",
    "for file in files:\n",
    "    df_temp = pd.read_csv(file, dtype=dtypes, storage_options=storage_options)\n",
    "    df_list.append(df_temp)"
   ]
  },
  {
   "cell_type": "code",
   "execution_count": 6,
   "id": "2e0418e2-e3a2-4fb8-bf4d-e4a49c753731",
   "metadata": {
    "tags": []
   },
   "outputs": [],
   "source": [
    "df = pd.concat(df_list)"
   ]
  },
  {
   "cell_type": "markdown",
   "id": "73fa1406-9222-4d4c-90e8-fb4f5e00aefc",
   "metadata": {},
   "source": [
    "As the above cells execute, [learn more about the dataset](https://www.transtats.bts.gov/Fields.asp?gnoyr_VQ=FGJ)."
   ]
  },
  {
   "cell_type": "markdown",
   "id": "919b495e-dda7-49b6-a5c3-b27ed5f81801",
   "metadata": {},
   "source": [
    "## Explore the dataset"
   ]
  },
  {
   "cell_type": "code",
   "execution_count": 7,
   "id": "7e436f37-60f7-4ecb-b03c-c979e419f909",
   "metadata": {
    "tags": []
   },
   "outputs": [
    {
     "data": {
      "text/html": [
       "<div>\n",
       "<style scoped>\n",
       "    .dataframe tbody tr th:only-of-type {\n",
       "        vertical-align: middle;\n",
       "    }\n",
       "\n",
       "    .dataframe tbody tr th {\n",
       "        vertical-align: top;\n",
       "    }\n",
       "\n",
       "    .dataframe thead th {\n",
       "        text-align: right;\n",
       "    }\n",
       "</style>\n",
       "<table border=\"1\" class=\"dataframe\">\n",
       "  <thead>\n",
       "    <tr style=\"text-align: right;\">\n",
       "      <th></th>\n",
       "      <th>YEAR</th>\n",
       "      <th>QUARTER</th>\n",
       "      <th>MONTH</th>\n",
       "      <th>DAY_OF_MONTH</th>\n",
       "      <th>DAY_OF_WEEK</th>\n",
       "      <th>FL_DATE</th>\n",
       "      <th>OP_UNIQUE_CARRIER</th>\n",
       "      <th>OP_CARRIER_AIRLINE_ID</th>\n",
       "      <th>OP_CARRIER</th>\n",
       "      <th>TAIL_NUM</th>\n",
       "      <th>...</th>\n",
       "      <th>DIV4_WHEELS_OFF</th>\n",
       "      <th>DIV4_TAIL_NUM</th>\n",
       "      <th>DIV5_AIRPORT</th>\n",
       "      <th>DIV5_AIRPORT_ID</th>\n",
       "      <th>DIV5_AIRPORT_SEQ_ID</th>\n",
       "      <th>DIV5_WHEELS_ON</th>\n",
       "      <th>DIV5_TOTAL_GTIME</th>\n",
       "      <th>DIV5_LONGEST_GTIME</th>\n",
       "      <th>DIV5_WHEELS_OFF</th>\n",
       "      <th>DIV5_TAIL_NUM</th>\n",
       "    </tr>\n",
       "  </thead>\n",
       "  <tbody>\n",
       "    <tr>\n",
       "      <th>0</th>\n",
       "      <td>2022</td>\n",
       "      <td>2</td>\n",
       "      <td>4</td>\n",
       "      <td>1</td>\n",
       "      <td>5</td>\n",
       "      <td>4/1/2022 12:00:00 AM</td>\n",
       "      <td>9E</td>\n",
       "      <td>20363</td>\n",
       "      <td>9E</td>\n",
       "      <td>N132EV</td>\n",
       "      <td>...</td>\n",
       "      <td>&lt;NA&gt;</td>\n",
       "      <td>&lt;NA&gt;</td>\n",
       "      <td>&lt;NA&gt;</td>\n",
       "      <td>NaN</td>\n",
       "      <td>NaN</td>\n",
       "      <td>&lt;NA&gt;</td>\n",
       "      <td>NaN</td>\n",
       "      <td>NaN</td>\n",
       "      <td>&lt;NA&gt;</td>\n",
       "      <td>&lt;NA&gt;</td>\n",
       "    </tr>\n",
       "    <tr>\n",
       "      <th>1</th>\n",
       "      <td>2022</td>\n",
       "      <td>2</td>\n",
       "      <td>4</td>\n",
       "      <td>1</td>\n",
       "      <td>5</td>\n",
       "      <td>4/1/2022 12:00:00 AM</td>\n",
       "      <td>9E</td>\n",
       "      <td>20363</td>\n",
       "      <td>9E</td>\n",
       "      <td>N133EV</td>\n",
       "      <td>...</td>\n",
       "      <td>&lt;NA&gt;</td>\n",
       "      <td>&lt;NA&gt;</td>\n",
       "      <td>&lt;NA&gt;</td>\n",
       "      <td>NaN</td>\n",
       "      <td>NaN</td>\n",
       "      <td>&lt;NA&gt;</td>\n",
       "      <td>NaN</td>\n",
       "      <td>NaN</td>\n",
       "      <td>&lt;NA&gt;</td>\n",
       "      <td>&lt;NA&gt;</td>\n",
       "    </tr>\n",
       "    <tr>\n",
       "      <th>2</th>\n",
       "      <td>2022</td>\n",
       "      <td>2</td>\n",
       "      <td>4</td>\n",
       "      <td>1</td>\n",
       "      <td>5</td>\n",
       "      <td>4/1/2022 12:00:00 AM</td>\n",
       "      <td>9E</td>\n",
       "      <td>20363</td>\n",
       "      <td>9E</td>\n",
       "      <td>N133EV</td>\n",
       "      <td>...</td>\n",
       "      <td>&lt;NA&gt;</td>\n",
       "      <td>&lt;NA&gt;</td>\n",
       "      <td>&lt;NA&gt;</td>\n",
       "      <td>NaN</td>\n",
       "      <td>NaN</td>\n",
       "      <td>&lt;NA&gt;</td>\n",
       "      <td>NaN</td>\n",
       "      <td>NaN</td>\n",
       "      <td>&lt;NA&gt;</td>\n",
       "      <td>&lt;NA&gt;</td>\n",
       "    </tr>\n",
       "    <tr>\n",
       "      <th>3</th>\n",
       "      <td>2022</td>\n",
       "      <td>2</td>\n",
       "      <td>4</td>\n",
       "      <td>1</td>\n",
       "      <td>5</td>\n",
       "      <td>4/1/2022 12:00:00 AM</td>\n",
       "      <td>9E</td>\n",
       "      <td>20363</td>\n",
       "      <td>9E</td>\n",
       "      <td>N133EV</td>\n",
       "      <td>...</td>\n",
       "      <td>&lt;NA&gt;</td>\n",
       "      <td>&lt;NA&gt;</td>\n",
       "      <td>&lt;NA&gt;</td>\n",
       "      <td>NaN</td>\n",
       "      <td>NaN</td>\n",
       "      <td>&lt;NA&gt;</td>\n",
       "      <td>NaN</td>\n",
       "      <td>NaN</td>\n",
       "      <td>&lt;NA&gt;</td>\n",
       "      <td>&lt;NA&gt;</td>\n",
       "    </tr>\n",
       "    <tr>\n",
       "      <th>4</th>\n",
       "      <td>2022</td>\n",
       "      <td>2</td>\n",
       "      <td>4</td>\n",
       "      <td>1</td>\n",
       "      <td>5</td>\n",
       "      <td>4/1/2022 12:00:00 AM</td>\n",
       "      <td>9E</td>\n",
       "      <td>20363</td>\n",
       "      <td>9E</td>\n",
       "      <td>N133EV</td>\n",
       "      <td>...</td>\n",
       "      <td>&lt;NA&gt;</td>\n",
       "      <td>&lt;NA&gt;</td>\n",
       "      <td>&lt;NA&gt;</td>\n",
       "      <td>NaN</td>\n",
       "      <td>NaN</td>\n",
       "      <td>&lt;NA&gt;</td>\n",
       "      <td>NaN</td>\n",
       "      <td>NaN</td>\n",
       "      <td>&lt;NA&gt;</td>\n",
       "      <td>&lt;NA&gt;</td>\n",
       "    </tr>\n",
       "  </tbody>\n",
       "</table>\n",
       "<p>5 rows × 109 columns</p>\n",
       "</div>"
      ],
      "text/plain": [
       "   YEAR  QUARTER  MONTH  DAY_OF_MONTH  DAY_OF_WEEK               FL_DATE  \\\n",
       "0  2022        2      4             1            5  4/1/2022 12:00:00 AM   \n",
       "1  2022        2      4             1            5  4/1/2022 12:00:00 AM   \n",
       "2  2022        2      4             1            5  4/1/2022 12:00:00 AM   \n",
       "3  2022        2      4             1            5  4/1/2022 12:00:00 AM   \n",
       "4  2022        2      4             1            5  4/1/2022 12:00:00 AM   \n",
       "\n",
       "  OP_UNIQUE_CARRIER  OP_CARRIER_AIRLINE_ID OP_CARRIER TAIL_NUM  ...  \\\n",
       "0                9E                  20363         9E   N132EV  ...   \n",
       "1                9E                  20363         9E   N133EV  ...   \n",
       "2                9E                  20363         9E   N133EV  ...   \n",
       "3                9E                  20363         9E   N133EV  ...   \n",
       "4                9E                  20363         9E   N133EV  ...   \n",
       "\n",
       "   DIV4_WHEELS_OFF  DIV4_TAIL_NUM  DIV5_AIRPORT  DIV5_AIRPORT_ID  \\\n",
       "0             <NA>           <NA>          <NA>              NaN   \n",
       "1             <NA>           <NA>          <NA>              NaN   \n",
       "2             <NA>           <NA>          <NA>              NaN   \n",
       "3             <NA>           <NA>          <NA>              NaN   \n",
       "4             <NA>           <NA>          <NA>              NaN   \n",
       "\n",
       "  DIV5_AIRPORT_SEQ_ID DIV5_WHEELS_ON DIV5_TOTAL_GTIME  DIV5_LONGEST_GTIME  \\\n",
       "0                 NaN           <NA>              NaN                 NaN   \n",
       "1                 NaN           <NA>              NaN                 NaN   \n",
       "2                 NaN           <NA>              NaN                 NaN   \n",
       "3                 NaN           <NA>              NaN                 NaN   \n",
       "4                 NaN           <NA>              NaN                 NaN   \n",
       "\n",
       "  DIV5_WHEELS_OFF  DIV5_TAIL_NUM  \n",
       "0            <NA>           <NA>  \n",
       "1            <NA>           <NA>  \n",
       "2            <NA>           <NA>  \n",
       "3            <NA>           <NA>  \n",
       "4            <NA>           <NA>  \n",
       "\n",
       "[5 rows x 109 columns]"
      ]
     },
     "execution_count": 7,
     "metadata": {},
     "output_type": "execute_result"
    }
   ],
   "source": [
    "df.head()"
   ]
  },
  {
   "cell_type": "code",
   "execution_count": 1,
   "id": "9c5358f6-15c4-4e22-9b33-85130fec26e3",
   "metadata": {
    "tags": []
   },
   "outputs": [],
   "source": [
    "# df.describe() -- kernel restarts even with a medium profile"
   ]
  },
  {
   "cell_type": "code",
   "execution_count": 9,
   "id": "d94c98ac-b131-4b87-9f3d-daee56d58464",
   "metadata": {},
   "outputs": [
    {
     "data": {
      "text/plain": [
       "Index(['YEAR', 'QUARTER', 'MONTH', 'DAY_OF_MONTH', 'DAY_OF_WEEK', 'FL_DATE',\n",
       "       'OP_UNIQUE_CARRIER', 'OP_CARRIER_AIRLINE_ID', 'OP_CARRIER', 'TAIL_NUM',\n",
       "       'OP_CARRIER_FL_NUM', 'ORIGIN_AIRPORT_ID', 'ORIGIN_AIRPORT_SEQ_ID',\n",
       "       'ORIGIN_CITY_MARKET_ID', 'ORIGIN', 'ORIGIN_CITY_NAME',\n",
       "       'ORIGIN_STATE_ABR', 'ORIGIN_STATE_FIPS', 'ORIGIN_STATE_NM',\n",
       "       'ORIGIN_WAC', 'DEST_AIRPORT_ID', 'DEST_AIRPORT_SEQ_ID',\n",
       "       'DEST_CITY_MARKET_ID', 'DEST', 'DEST_CITY_NAME', 'DEST_STATE_ABR',\n",
       "       'DEST_STATE_FIPS', 'DEST_STATE_NM', 'DEST_WAC', 'CRS_DEP_TIME',\n",
       "       'DEP_TIME', 'DEP_DELAY', 'DEP_DELAY_NEW', 'DEP_DEL15',\n",
       "       'DEP_DELAY_GROUP', 'DEP_TIME_BLK', 'TAXI_OUT', 'WHEELS_OFF',\n",
       "       'WHEELS_ON', 'TAXI_IN', 'CRS_ARR_TIME', 'ARR_TIME', 'ARR_DELAY',\n",
       "       'ARR_DELAY_NEW', 'ARR_DEL15', 'ARR_DELAY_GROUP', 'ARR_TIME_BLK',\n",
       "       'CANCELLED', 'CANCELLATION_CODE', 'DIVERTED', 'CRS_ELAPSED_TIME',\n",
       "       'ACTUAL_ELAPSED_TIME', 'AIR_TIME', 'FLIGHTS', 'DISTANCE',\n",
       "       'DISTANCE_GROUP', 'CARRIER_DELAY', 'WEATHER_DELAY', 'NAS_DELAY',\n",
       "       'SECURITY_DELAY'],\n",
       "      dtype='object')"
      ]
     },
     "execution_count": 9,
     "metadata": {},
     "output_type": "execute_result"
    }
   ],
   "source": [
    "df.columns[:60]"
   ]
  },
  {
   "cell_type": "markdown",
   "id": "6dcac683-ec9f-483f-bab9-2ea99327e54e",
   "metadata": {
    "tags": []
   },
   "source": [
    "### Maximum and average delay in departure?"
   ]
  },
  {
   "cell_type": "code",
   "execution_count": 14,
   "id": "e831c16e-2657-44e2-8013-f4df0a6638c8",
   "metadata": {},
   "outputs": [
    {
     "name": "stdout",
     "output_type": "stream",
     "text": [
      "The maximum departure delay in departure is 3433.0 minutes, or ~57.0 hours.\n"
     ]
    }
   ],
   "source": [
    "max_dep_delay = df[\"DEP_DELAY\"].max()\n",
    "\n",
    "print(f\"The maximum departure delay in departure is {max_dep_delay} minutes, or ~{max_dep_delay // 60} hours.\")"
   ]
  },
  {
   "cell_type": "code",
   "execution_count": 15,
   "id": "7fd87f9a-e949-417b-8b86-5b0fcb1520b6",
   "metadata": {},
   "outputs": [
    {
     "name": "stdout",
     "output_type": "stream",
     "text": [
      "The average departure delay in departure is 12.09 minutes.\n"
     ]
    }
   ],
   "source": [
    "mean_dep_delay = df[\"DEP_DELAY\"].mean()\n",
    "\n",
    "print(f\"The average departure delay in departure is {round(mean_dep_delay, 2)} minutes.\")"
   ]
  },
  {
   "cell_type": "markdown",
   "id": "5f884484-9154-4621-8585-1fec2a9155fb",
   "metadata": {},
   "source": [
    "### Which airport/airline has the most flight departure and arrival delays?"
   ]
  },
  {
   "cell_type": "markdown",
   "id": "82d70c61-6e67-4b04-b8f5-80e835cf68ef",
   "metadata": {},
   "source": [
    "**Airport:**"
   ]
  },
  {
   "cell_type": "code",
   "execution_count": 16,
   "id": "6723f623-2a8b-4b18-bb64-fa509bc27dd5",
   "metadata": {},
   "outputs": [
    {
     "data": {
      "text/plain": [
       "'ATL'"
      ]
     },
     "execution_count": 16,
     "metadata": {},
     "output_type": "execute_result"
    }
   ],
   "source": [
    "df.groupby(\"ORIGIN\")[\"DEP_DELAY\"].count().idxmax()"
   ]
  },
  {
   "cell_type": "code",
   "execution_count": 17,
   "id": "fb28958f-307a-46ce-b6fd-dfc7010ec1f2",
   "metadata": {},
   "outputs": [
    {
     "data": {
      "text/plain": [
       "'ATL'"
      ]
     },
     "execution_count": 17,
     "metadata": {},
     "output_type": "execute_result"
    }
   ],
   "source": [
    "df.groupby(\"ORIGIN\")[\"ARR_DELAY\"].count().idxmax()"
   ]
  },
  {
   "cell_type": "markdown",
   "id": "008d4ef5-a0e8-4e94-91fe-f08548c6a337",
   "metadata": {},
   "source": [
    "That's the code for Hartsfield-Jackson Atlanta International Airport, interesting. :)"
   ]
  },
  {
   "cell_type": "markdown",
   "id": "e15c485e-e2f8-424b-bfe2-06f8f135c21e",
   "metadata": {
    "tags": []
   },
   "source": [
    "**Airline:**"
   ]
  },
  {
   "cell_type": "code",
   "execution_count": 18,
   "id": "acea16c2-da2e-4510-b669-5935f829e7eb",
   "metadata": {},
   "outputs": [
    {
     "data": {
      "text/plain": [
       "'WN'"
      ]
     },
     "execution_count": 18,
     "metadata": {},
     "output_type": "execute_result"
    }
   ],
   "source": [
    "df.groupby(\"OP_CARRIER\")[\"DEP_DELAY\"].count().idxmax()"
   ]
  },
  {
   "cell_type": "code",
   "execution_count": 19,
   "id": "20e8d625-9567-43cd-93e5-72dab3d4b4d6",
   "metadata": {},
   "outputs": [
    {
     "data": {
      "text/plain": [
       "'WN'"
      ]
     },
     "execution_count": 19,
     "metadata": {},
     "output_type": "execute_result"
    }
   ],
   "source": [
    "df.groupby(\"OP_CARRIER\")[\"ARR_DELAY\"].count().idxmax()"
   ]
  },
  {
   "cell_type": "markdown",
   "id": "fdfe9b06-7bc0-438e-9871-848df3786cfe",
   "metadata": {},
   "source": [
    "'WN' is the code for Southwest Airlines."
   ]
  },
  {
   "cell_type": "markdown",
   "id": "1084c35c-d4aa-47a6-8cf8-678d8502173f",
   "metadata": {
    "tags": []
   },
   "source": [
    "### Your turn: Busiest day/month?"
   ]
  },
  {
   "cell_type": "code",
   "execution_count": 20,
   "id": "30c75b52-bb04-4840-83ee-579567469686",
   "metadata": {},
   "outputs": [],
   "source": [
    "# Your code here."
   ]
  },
  {
   "cell_type": "markdown",
   "id": "d220a37f-d1ba-49f2-96df-5e787ae9cb61",
   "metadata": {},
   "source": [
    "### Your turn: Total flight cancellations?"
   ]
  },
  {
   "cell_type": "code",
   "execution_count": 21,
   "id": "5c262a93-6d90-4ef0-a7b5-e2a01b375c4f",
   "metadata": {},
   "outputs": [],
   "source": [
    "# Your code here."
   ]
  },
  {
   "cell_type": "markdown",
   "id": "ae5a6d94-96c4-488a-8f16-e948ecf8af9f",
   "metadata": {},
   "source": [
    "### Total time people spent on a flight in 2022?"
   ]
  },
  {
   "cell_type": "code",
   "execution_count": 22,
   "id": "804e4b78-02b0-43bb-b97a-e40c865c37e9",
   "metadata": {},
   "outputs": [
    {
     "name": "stdout",
     "output_type": "stream",
     "text": [
      "People spent a total of 823399905.0 minutes on a domestic flight, in 2022 in the USA; \n",
      "which is ~1588.35 years in aggregate.\n"
     ]
    }
   ],
   "source": [
    "time_in_flight = df[\"ACTUAL_ELAPSED_TIME\"].sum()\n",
    "\n",
    "print(f\"People spent a total of {time_in_flight} minutes on a domestic flight, in 2022 in the USA; \\nwhich is ~{round(time_in_flight / (60*24*30*12), 2)} years in aggregate.\")"
   ]
  },
  {
   "cell_type": "markdown",
   "id": "eed1c896-0785-4c6f-90a3-5f1ce77fc3f9",
   "metadata": {
    "tags": []
   },
   "source": [
    "---\n",
    "\n",
    "## Next\n",
    "\n",
    "Let's chat briefly about [storage formats](02-storage-formats.ipynb)!"
   ]
  },
  {
   "cell_type": "code",
   "execution_count": null,
   "id": "f0f7dde1-5b3b-444c-855b-f2c1eb5a78d1",
   "metadata": {},
   "outputs": [],
   "source": []
  }
 ],
 "metadata": {
  "kernelspec": {
   "display_name": "Python 3 (ipykernel)",
   "language": "python",
   "name": "python3"
  },
  "language_info": {
   "codemirror_mode": {
    "name": "ipython",
    "version": 3
   },
   "file_extension": ".py",
   "mimetype": "text/x-python",
   "name": "python",
   "nbconvert_exporter": "python",
   "pygments_lexer": "ipython3",
   "version": "3.10.9"
  }
 },
 "nbformat": 4,
 "nbformat_minor": 5
}
