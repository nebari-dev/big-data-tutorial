{
 "cells": [
  {
   "cell_type": "markdown",
   "id": "c2135257-9158-4aec-b0b6-6eb57c5953f1",
   "metadata": {},
   "source": [
    "# Big data analysis with Dask\n",
    "\n",
    "---"
   ]
  },
  {
   "cell_type": "code",
   "execution_count": null,
   "id": "3b447172-e0c8-4f93-a735-8fc89e60f75d",
   "metadata": {},
   "outputs": [],
   "source": [
    "import dask_gateway\n",
    "\n",
    "gateway = dask_gateway.Gateway()"
   ]
  },
  {
   "cell_type": "code",
   "execution_count": null,
   "id": "96a2ed8c-7c08-4550-9665-16b2dd7efc3f",
   "metadata": {},
   "outputs": [],
   "source": [
    "options = gateway.cluster_options(use_local_defaults=False)\n",
    "options"
   ]
  },
  {
   "cell_type": "code",
   "execution_count": null,
   "id": "9f1d860f-08b2-46ce-93cc-1c1721f6faab",
   "metadata": {},
   "outputs": [],
   "source": [
    "cluster = gateway.new_cluster(options)\n",
    "cluster"
   ]
  },
  {
   "cell_type": "code",
   "execution_count": null,
   "id": "3ed61efc-36c3-44b5-aa09-454bdf728402",
   "metadata": {},
   "outputs": [],
   "source": [
    "client = cluster.get_client()\n",
    "client"
   ]
  },
  {
   "cell_type": "code",
   "execution_count": null,
   "id": "25928a70-f28a-4e28-a219-3becc96aa677",
   "metadata": {},
   "outputs": [],
   "source": [
    "### Longest flight (distance) across the dataset\n",
    "\n",
    "ddf[\"DISTANCE\"].max()\n",
    "\n",
    "ddf[\"DISTANCE\"].max().compute()"
   ]
  },
  {
   "cell_type": "markdown",
   "id": "3389bcdd-2de2-429e-9fad-af7a57d630e6",
   "metadata": {},
   "source": [
    "### Specify `dtypes`\n",
    "\n",
    "Dask infers the dtypes using the first row, because it's \"lazy\" and does not read the entire dataset.\n",
    "\n",
    "Best practice: explicit dtypes"
   ]
  },
  {
   "cell_type": "code",
   "execution_count": null,
   "id": "3835c492-0d14-4620-a316-502d578c654e",
   "metadata": {},
   "outputs": [],
   "source": [
    "import json\n",
    "\n",
    "with open('prep/dtypes.json', 'r') as f:\n",
    "    dtypes = json.load(f)"
   ]
  },
  {
   "cell_type": "code",
   "execution_count": null,
   "id": "0014cdc1-ef37-4cee-8b05-b155c2649098",
   "metadata": {},
   "outputs": [],
   "source": [
    "ddf = dd.read_csv(\"gcs://quansight-datasets/airline-ontime-performance/csv/*\", dtype=dtypes)\n",
    "\n",
    "ddf.head()"
   ]
  },
  {
   "cell_type": "markdown",
   "id": "19812b11-ed94-456f-aec9-9590e64a20d7",
   "metadata": {
    "jp-MarkdownHeadingCollapsed": true,
    "tags": []
   },
   "source": [
    "## Minimize shuffling\n",
    "\n",
    "This \"partition\" based workflow makes certain types of operations very expensive, for example: computing median will take much more longer than computing mean.\n",
    "\n",
    "```python\n",
    "avg = ddf.mean()\n",
    "\n",
    "avg.visualize(engine=\"cytoscape\")\n",
    "\n",
    "med = ddf.median_approximate()\n",
    "\n",
    "# med.visualize(engine=\"cytoscape\")\n",
    "```\n",
    "\n",
    "Operations like median, sort, set_index, etc., require dataset-wide interactions, making them very un-parallelizable. So, we try to minimize such operations with large datsets."
   ]
  },
  {
   "cell_type": "markdown",
   "id": "836c1b7b-0865-4302-b462-944ec835cde6",
   "metadata": {},
   "source": [
    "## Partitioning effectively"
   ]
  },
  {
   "cell_type": "markdown",
   "id": "9c1743bc-fd8a-412f-ad46-756b772a9e84",
   "metadata": {},
   "source": [
    "## Data locality"
   ]
  },
  {
   "cell_type": "markdown",
   "id": "bb2b2f19-24ca-4603-81c5-1551603c6ce0",
   "metadata": {},
   "source": [
    "## Persist\n",
    "\n"
   ]
  },
  {
   "cell_type": "markdown",
   "id": "08cf868f-9f79-4166-a503-4c0a94fdcdcb",
   "metadata": {},
   "source": [
    "## `meta` keyword"
   ]
  },
  {
   "cell_type": "markdown",
   "id": "a51d14b4-51ba-494d-94d8-d4525eaca663",
   "metadata": {},
   "source": [
    "## Diagnostics with dashboard"
   ]
  },
  {
   "cell_type": "code",
   "execution_count": null,
   "id": "d85b7122-6825-4b98-91d3-e0d00ac95e94",
   "metadata": {},
   "outputs": [],
   "source": []
  }
 ],
 "metadata": {
  "kernelspec": {
   "display_name": "Python 3 (ipykernel)",
   "language": "python",
   "name": "python3"
  },
  "language_info": {
   "codemirror_mode": {
    "name": "ipython",
    "version": 3
   },
   "file_extension": ".py",
   "mimetype": "text/x-python",
   "name": "python",
   "nbconvert_exporter": "python",
   "pygments_lexer": "ipython3",
   "version": "3.10.9"
  }
 },
 "nbformat": 4,
 "nbformat_minor": 5
}
