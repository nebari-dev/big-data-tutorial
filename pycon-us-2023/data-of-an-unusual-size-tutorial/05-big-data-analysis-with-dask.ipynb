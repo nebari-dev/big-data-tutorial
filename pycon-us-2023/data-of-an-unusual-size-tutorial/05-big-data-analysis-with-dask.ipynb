{
 "cells": [
  {
   "cell_type": "markdown",
   "id": "c2135257-9158-4aec-b0b6-6eb57c5953f1",
   "metadata": {},
   "source": [
    "# Big data analysis with Dask\n",
    "\n",
    "---"
   ]
  },
  {
   "cell_type": "markdown",
   "id": "94a53a63-dbaf-434d-9576-f9da87fc6f21",
   "metadata": {},
   "source": [
    "## Connect to your Dask Cluster\n",
    "\n",
    "Instead of starting a new cluster each time, you can view and connect to existing clusters!"
   ]
  },
  {
   "cell_type": "code",
   "execution_count": null,
   "id": "11a49a5c-ac03-48c4-9d76-ac0bc7166a7e",
   "metadata": {
    "tags": []
   },
   "outputs": [],
   "source": [
    "import dask_gateway"
   ]
  },
  {
   "cell_type": "code",
   "execution_count": null,
   "id": "890d9ef2-f2e0-471a-bf89-1641bc85cb66",
   "metadata": {
    "tags": []
   },
   "outputs": [],
   "source": [
    "gateway = dask_gateway.Gateway()"
   ]
  },
  {
   "cell_type": "markdown",
   "id": "c1c98878-e275-4911-a995-784bc2ea2559",
   "metadata": {},
   "source": [
    "List your previous created clusters:"
   ]
  },
  {
   "cell_type": "code",
   "execution_count": null,
   "id": "8ab83533-cfb2-42ae-a7f3-6f6002328878",
   "metadata": {
    "tags": []
   },
   "outputs": [],
   "source": [
    "gateway.list_clusters()"
   ]
  },
  {
   "cell_type": "markdown",
   "id": "e7ca2ad8-eef2-427f-9acc-afab2cd978d3",
   "metadata": {},
   "source": [
    "Connect to the cluster you want, with the previously selected options preserved:"
   ]
  },
  {
   "cell_type": "code",
   "execution_count": null,
   "id": "2ed7d195-c914-41d4-9bf7-0e54f44fcd74",
   "metadata": {
    "tags": []
   },
   "outputs": [],
   "source": [
    "cluster = gateway.connect(name=\"dev.695708ff76d74a959afc916f1d613960\")"
   ]
  },
  {
   "cell_type": "code",
   "execution_count": null,
   "id": "15e58a24-f643-4d09-9009-ce0ade72d759",
   "metadata": {
    "tags": []
   },
   "outputs": [],
   "source": [
    "cluster"
   ]
  },
  {
   "cell_type": "markdown",
   "id": "30a7e4a1-978f-4022-9a9f-34527c731f5d",
   "metadata": {},
   "source": [
    "Finally, connect a client to the cluster -- so that you can access it from this specific IPython notebook."
   ]
  },
  {
   "cell_type": "code",
   "execution_count": null,
   "id": "7adcf291-e28a-4db1-9092-94af7b53bd09",
   "metadata": {
    "tags": []
   },
   "outputs": [],
   "source": [
    "client = cluster.get_client()\n",
    "client"
   ]
  },
  {
   "cell_type": "markdown",
   "id": "022927fe-4f22-4c93-958e-a77b721d8916",
   "metadata": {},
   "source": [
    "Open the Dashboard plots: Cluster Map, Progress, Task Stream, and Workers Memory."
   ]
  },
  {
   "cell_type": "markdown",
   "id": "e753cc99-b245-4919-9057-64f701c97790",
   "metadata": {},
   "source": [
    "## Read the full dataset\n",
    "\n",
    "We'll work with the Parquet datasets moving forward!"
   ]
  },
  {
   "cell_type": "code",
   "execution_count": null,
   "id": "2389300b-27be-4005-9a7d-cb2617d469eb",
   "metadata": {
    "tags": []
   },
   "outputs": [],
   "source": [
    "import dask.dataframe as dd"
   ]
  },
  {
   "cell_type": "code",
   "execution_count": null,
   "id": "a3def880-250e-40f8-afb8-4ea640033785",
   "metadata": {
    "tags": []
   },
   "outputs": [],
   "source": [
    "ddf = dd.read_parquet(\"gcs://quansight-datasets/airline-ontime-performance/full_dataset.parquet\")"
   ]
  },
  {
   "cell_type": "code",
   "execution_count": null,
   "id": "b97dd370-aff3-47ef-b4db-5492ce3ce588",
   "metadata": {
    "tags": []
   },
   "outputs": [],
   "source": [
    "ddf.head()"
   ]
  },
  {
   "cell_type": "markdown",
   "id": "94d115e4-806c-4bd6-9e33-f7ad0c5d3929",
   "metadata": {},
   "source": [
    "## Shuffling computations"
   ]
  },
  {
   "cell_type": "markdown",
   "id": "e851218d-b5b0-4457-8a0c-4abb992ef1be",
   "metadata": {
    "tags": []
   },
   "source": [
    "### Your turn: Calculate the mean and median across the entire dataset.\n",
    "\n",
    "Make sure to visualize and time your computations!"
   ]
  },
  {
   "cell_type": "code",
   "execution_count": null,
   "id": "7c4cda58-9ac5-444e-92f0-34bdd5a119e6",
   "metadata": {
    "tags": []
   },
   "outputs": [],
   "source": [
    "# Your code here"
   ]
  },
  {
   "cell_type": "code",
   "execution_count": null,
   "id": "68c07175-4a4a-42d0-b3dc-05320986c503",
   "metadata": {
    "tags": []
   },
   "outputs": [],
   "source": [
    "avg = ddf.mean()"
   ]
  },
  {
   "cell_type": "code",
   "execution_count": null,
   "id": "77fefd57-0ef5-4346-9035-712d63e191be",
   "metadata": {
    "tags": []
   },
   "outputs": [],
   "source": [
    "avg.visualize(engine=\"cytoscape\")"
   ]
  },
  {
   "cell_type": "code",
   "execution_count": null,
   "id": "6a9771eb-ceba-4d39-bf89-350967ffff65",
   "metadata": {
    "tags": []
   },
   "outputs": [],
   "source": [
    "%%time\n",
    "\n",
    "avg.compute()"
   ]
  },
  {
   "cell_type": "code",
   "execution_count": null,
   "id": "cb2b2f80-0dc1-40cd-b290-f82399b75832",
   "metadata": {
    "tags": []
   },
   "outputs": [],
   "source": [
    "med = ddf.median_approximate()"
   ]
  },
  {
   "cell_type": "code",
   "execution_count": null,
   "id": "e14f3b93-9221-4c7f-b671-66d90fe6e4f7",
   "metadata": {
    "tags": []
   },
   "outputs": [],
   "source": [
    "med.visualize(engine=\"cytoscape\")"
   ]
  },
  {
   "cell_type": "code",
   "execution_count": null,
   "id": "e42101b4-fd0e-4449-8c52-ffaf79cccb13",
   "metadata": {
    "tags": []
   },
   "outputs": [],
   "source": [
    "%%time\n",
    "\n",
    "med.compute()"
   ]
  },
  {
   "cell_type": "markdown",
   "id": "c74f311b-a12f-48a4-a3f0-5c5f7cc21829",
   "metadata": {
    "jp-MarkdownHeadingCollapsed": true,
    "tags": []
   },
   "source": [
    "**Notice the difference in performance and the corresponding task streams?**\n",
    "\n",
    "Computing median will take much more longer than computing mean, because the \"partition\" based workflow in Dask makes certain types of operations very expensive.\n",
    "\n",
    "Operations like median, sort, set_index, etc., require dataset-wide interactions, called \"shuffling\", making them very difficult to parallelize. So, we try to minimize such operations with large datsets."
   ]
  },
  {
   "cell_type": "markdown",
   "id": "43b64e5b-9b1e-4ae3-a55c-8e1d8b911ca7",
   "metadata": {},
   "source": [
    "Compare the task streams, and see how many \"red\" bars the median compute has vs mean. Red is a universal colour in the Dask dashboard, and it always indicated networking costs when there is data transfer between workers. If you hover on the red bars, you'll see they start with `transfer-` or equivalent."
   ]
  },
  {
   "cell_type": "markdown",
   "id": "9931f9d8-963e-4a4c-b68e-5b294cc847a2",
   "metadata": {},
   "source": [
    "It's a good practice to always **minimize shuffling in distributed computations**."
   ]
  },
  {
   "cell_type": "markdown",
   "id": "4a86bc19-bd3f-4750-ad81-f2babb59003f",
   "metadata": {},
   "source": [
    "### Calculate and plot the number of canceled flights each day\n",
    "\n",
    "Note that this will take 5+ minutes to compute."
   ]
  },
  {
   "cell_type": "code",
   "execution_count": null,
   "id": "bb1c2543-9678-4773-8527-2e1e40ed2521",
   "metadata": {
    "tags": []
   },
   "outputs": [],
   "source": [
    "import hvplot\n",
    "import hvplot.dask"
   ]
  },
  {
   "cell_type": "code",
   "execution_count": null,
   "id": "9c045dee-8572-4b7d-a8bf-416c33295773",
   "metadata": {
    "tags": []
   },
   "outputs": [],
   "source": [
    "hvplot.extension('bokeh')"
   ]
  },
  {
   "cell_type": "code",
   "execution_count": null,
   "id": "7e7865e6-1b62-4e23-847c-c0b0497b9d33",
   "metadata": {
    "tags": []
   },
   "outputs": [],
   "source": [
    "%%time\n",
    "\n",
    "ddf.groupby(\"FL_DATE\")[\"CANCELLED\"].count().hvplot() "
   ]
  },
  {
   "cell_type": "markdown",
   "id": "e6ce83d2-d678-442c-9060-01a132d4e141",
   "metadata": {},
   "source": [
    "This takes:\n",
    "\n",
    "1. so long to compute, \n",
    "2. the plot lines look out of place,\n",
    "3. there is so much interaction in the task stream\n",
    "\n",
    "because there's an internal \"sort\" operation being done.\n",
    "\n",
    "These implicit sorts are quite common, and this is why exploratory plots and the Dask dashboard are so useful!"
   ]
  },
  {
   "cell_type": "markdown",
   "id": "f6a5b0a6-9d08-4b09-8bdb-e5223e8a55f6",
   "metadata": {},
   "source": [
    "If you see these, it's a good practice to sort your dataset once and then store+use the sorted dataset for your workflows."
   ]
  },
  {
   "cell_type": "markdown",
   "id": "88620aed-92a4-4035-86cd-e32cc1617926",
   "metadata": {},
   "source": [
    "## Read the sorted dataset\n",
    "\n",
    "We have sorted and stored the dataset in the same GCP bucket :)"
   ]
  },
  {
   "cell_type": "code",
   "execution_count": null,
   "id": "06bfc12b-ee1f-4e85-907f-620d2150d2ee",
   "metadata": {
    "tags": []
   },
   "outputs": [],
   "source": [
    "ddf = dd.read_parquet(\"gcs://quansight-datasets/airline-ontime-performance/sorted/parquet_by_year\")"
   ]
  },
  {
   "cell_type": "markdown",
   "id": "b9c23025-104d-40d4-892f-05755594832f",
   "metadata": {},
   "source": [
    "### Your turn: Run the previous computation on the sorted dataset and compare performance"
   ]
  },
  {
   "cell_type": "code",
   "execution_count": null,
   "id": "cd5c44dd-4c4f-402e-bc52-8975e6027c51",
   "metadata": {},
   "outputs": [],
   "source": [
    "# Your code here"
   ]
  },
  {
   "cell_type": "code",
   "execution_count": null,
   "id": "29bd3063-fb49-42f4-b6ca-59bb92803566",
   "metadata": {
    "tags": []
   },
   "outputs": [],
   "source": [
    "%%time\n",
    "\n",
    "ddf.groupby(\"FL_DATE\")[\"CANCELLED\"].count().hvplot() "
   ]
  },
  {
   "cell_type": "markdown",
   "id": "bb2b2f19-24ca-4603-81c5-1551603c6ce0",
   "metadata": {},
   "source": [
    "## Persisting data and intermediate\n",
    "\n",
    "A \"compute\" Dask computation to a pandas output, this is not required in cases where:\n",
    "\n",
    "- Your client machine (where the output will be displayed) doesn't have enough resources\n",
    "- You have more computations to do with the data or intermediate results, and keeping them on the workers will optimize your overall workflow\n",
    "\n",
    "**Data locality**: TODO"
   ]
  },
  {
   "cell_type": "markdown",
   "id": "9a223f63-3989-4bd9-91b8-c304d17168c7",
   "metadata": {},
   "source": [
    "Open the \"Task Graph\" plots!"
   ]
  },
  {
   "cell_type": "markdown",
   "id": "ba2c6647-e174-493e-b1c0-11bfb3297505",
   "metadata": {
    "tags": []
   },
   "source": [
    "### Your turn: Compute and plot the number of departure and arrival delays per day (without persisting)\n",
    "\n",
    "This is partially similar to the previous workflow where you need to groupby `FL_DATE`. Make sure to record how long this takes!"
   ]
  },
  {
   "cell_type": "code",
   "execution_count": null,
   "id": "5cafb392-7a59-4c8b-9e66-b257a8de0bcd",
   "metadata": {},
   "outputs": [],
   "source": [
    "# Your code here"
   ]
  },
  {
   "cell_type": "markdown",
   "id": "676c9958-1912-44fb-9fde-e3ea3089eb0c",
   "metadata": {},
   "source": [
    "### With persisting:"
   ]
  },
  {
   "cell_type": "code",
   "execution_count": null,
   "id": "2076ed4a-c78b-4a76-b438-48c8d50af5ab",
   "metadata": {},
   "outputs": [],
   "source": [
    "ddf_fld = ddf.groupby(\"FL_DATE\").persist()"
   ]
  },
  {
   "cell_type": "code",
   "execution_count": null,
   "id": "b3f1c0f1-62a9-43a3-8cc1-66485f072845",
   "metadata": {},
   "outputs": [],
   "source": [
    "%%time\n",
    "\n",
    "ddf_fld[\"DEP_DELAY\"].count().hvplot()"
   ]
  },
  {
   "cell_type": "code",
   "execution_count": null,
   "id": "1fcd121e-e15c-4e61-92b8-bc54b93b76f9",
   "metadata": {},
   "outputs": [],
   "source": [
    "%%time\n",
    "\n",
    "ddf_fld[\"ARR_DELAY\"].count().hvplot()"
   ]
  },
  {
   "cell_type": "markdown",
   "id": "836c1b7b-0865-4302-b462-944ec835cde6",
   "metadata": {
    "tags": []
   },
   "source": [
    "## Partitioning effectively"
   ]
  },
  {
   "cell_type": "markdown",
   "id": "b8bca518-ad57-4c2d-9039-25db737e8b62",
   "metadata": {},
   "source": [
    "Our dataset currently has 641 partitions:"
   ]
  },
  {
   "cell_type": "code",
   "execution_count": null,
   "id": "802dcb35-ddc7-4a10-9368-f9f081c380d0",
   "metadata": {
    "tags": []
   },
   "outputs": [],
   "source": [
    "ddf.npartitions"
   ]
  },
  {
   "cell_type": "markdown",
   "id": "ac46a374-b561-4083-8d12-6096bb3ec93d",
   "metadata": {},
   "source": [
    "You can change the number of partitions with: `ddf.repartition(npartitions=xx)`"
   ]
  },
  {
   "cell_type": "markdown",
   "id": "3abb7963-8bf1-4a51-83a1-cb5c2c74c9f2",
   "metadata": {
    "tags": []
   },
   "source": [
    "### Your turn: Compute the total flights taken each year, comparing the performance with current partitions, ~300 partitions, and ~100 partitions."
   ]
  },
  {
   "cell_type": "code",
   "execution_count": null,
   "id": "94b4b862-f454-4770-abcf-94842876eda8",
   "metadata": {},
   "outputs": [],
   "source": [
    "# Your code here"
   ]
  },
  {
   "cell_type": "code",
   "execution_count": null,
   "id": "a1ee0f45-fd84-4d15-9791-4eb20da201c0",
   "metadata": {},
   "outputs": [],
   "source": [
    "ddf_300 = ddf.repartition(npartitions=300)"
   ]
  },
  {
   "cell_type": "code",
   "execution_count": null,
   "id": "f78aa4b5-0ec9-4b2b-9490-210c4e7abecb",
   "metadata": {},
   "outputs": [],
   "source": [
    "%%time\n",
    "\n",
    "ddf_300"
   ]
  },
  {
   "cell_type": "code",
   "execution_count": null,
   "id": "d3c628d9-45b5-489c-b332-84be9b2fce6e",
   "metadata": {},
   "outputs": [],
   "source": [
    "ddf_100 = ddf.repartition(npartitions=100)"
   ]
  },
  {
   "cell_type": "markdown",
   "id": "7774e405-fcc9-4e3d-a8c5-50de2c8fee3b",
   "metadata": {},
   "source": [
    "When you store your data, ensure you have the optimal number of partitions based on your dataset, your computation, number of workers, and worker resources."
   ]
  },
  {
   "cell_type": "markdown",
   "id": "36bdb6e9-e39b-439a-94fd-6f10a23c037d",
   "metadata": {
    "tags": []
   },
   "source": [
    "## `meta` keyword"
   ]
  },
  {
   "cell_type": "markdown",
   "id": "4410e5a8-9325-403c-94a4-7fa6a9fb0dd4",
   "metadata": {},
   "source": [
    "### Your turn: Get all \"DISTANCE\" values in kilometers instead of miles\n",
    "\n",
    "Note, this is similar to our pandas operation"
   ]
  },
  {
   "cell_type": "code",
   "execution_count": null,
   "id": "b32cb6a1-282a-447a-8f1d-44a99151d84f",
   "metadata": {},
   "outputs": [],
   "source": [
    "# Your code here"
   ]
  },
  {
   "cell_type": "code",
   "execution_count": null,
   "id": "26a26629-a2c8-4362-9e7b-67182e5de37a",
   "metadata": {
    "jupyter": {
     "source_hidden": true
    },
    "tags": []
   },
   "outputs": [],
   "source": [
    "ddf.DISTANCE.apply(lambda x: x*1.609344).compute()"
   ]
  },
  {
   "cell_type": "markdown",
   "id": "9e075f5d-974e-4d0d-93d7-88fa8d25978e",
   "metadata": {},
   "source": [
    "`meta` is how Dask understands what the output looks like!"
   ]
  },
  {
   "cell_type": "markdown",
   "id": "5ab22164-d236-4a5c-9d25-44abd22fe53b",
   "metadata": {},
   "source": [
    "### Specify `meta`:\n",
    "\n",
    "It's a good practice to always specify `meta` explicitly!\n",
    "\n",
    "Further reading: [Understanding Dask’s meta keyword argument](https://blog.dask.org/2022/08/09/understanding-meta-keyword-argument)"
   ]
  },
  {
   "cell_type": "code",
   "execution_count": null,
   "id": "34d349a6-350a-4e17-8b14-c7869512a6fb",
   "metadata": {
    "tags": []
   },
   "outputs": [],
   "source": [
    "import pandas as pd"
   ]
  },
  {
   "cell_type": "code",
   "execution_count": null,
   "id": "1ba67839-aff3-4a3c-8223-df8d3c7f71b8",
   "metadata": {
    "tags": []
   },
   "outputs": [],
   "source": [
    "ddf.DISTANCE.apply(lambda x: x*1.609344, meta=pd.Series(dtype=\"float64\")).compute()"
   ]
  },
  {
   "cell_type": "code",
   "execution_count": null,
   "id": "a0424b79-98e4-4237-96ed-e5dca1b31cbb",
   "metadata": {
    "tags": []
   },
   "outputs": [],
   "source": [
    "# cluster.shutdown()\n",
    "# client.close()"
   ]
  },
  {
   "cell_type": "markdown",
   "id": "c07e5c4f-f9ce-4d17-822f-e98c62bf837d",
   "metadata": {},
   "source": [
    "---\n",
    "\n",
    "## Next\n",
    "\n",
    "Big data visualizations!"
   ]
  },
  {
   "cell_type": "code",
   "execution_count": null,
   "id": "ec60508c-8e3a-4c5b-b5d0-13d753d2dd8a",
   "metadata": {},
   "outputs": [],
   "source": []
  }
 ],
 "metadata": {
  "kernelspec": {
   "display_name": "global-global-pycon2023",
   "language": "python",
   "name": "conda-env-global-global-pycon2023-py"
  },
  "language_info": {
   "codemirror_mode": {
    "name": "ipython",
    "version": 3
   },
   "file_extension": ".py",
   "mimetype": "text/x-python",
   "name": "python",
   "nbconvert_exporter": "python",
   "pygments_lexer": "ipython3",
   "version": "3.10.10"
  }
 },
 "nbformat": 4,
 "nbformat_minor": 5
}
