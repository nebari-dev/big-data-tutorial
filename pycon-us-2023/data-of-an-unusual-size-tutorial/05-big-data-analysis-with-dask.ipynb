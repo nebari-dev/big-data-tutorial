{
 "cells": [
  {
   "cell_type": "markdown",
   "id": "c2135257-9158-4aec-b0b6-6eb57c5953f1",
   "metadata": {},
   "source": [
    "# Big data analysis with Dask"
   ]
  },
  {
   "cell_type": "code",
   "execution_count": null,
   "id": "40469374-c90a-4c86-aadf-9a08ba676047",
   "metadata": {},
   "outputs": [],
   "source": [
    "import json\n",
    "import gcsfs"
   ]
  },
  {
   "cell_type": "code",
   "execution_count": null,
   "id": "1a64661e-a01a-4077-b74b-d38259ba9af6",
   "metadata": {},
   "outputs": [],
   "source": [
    "token = json.load(open(\"prep/credentials.json\"))\n",
    "fs = gcsfs.GCSFileSystem(token=token)\n",
    "storage_options={\"token\": token}"
   ]
  },
  {
   "cell_type": "code",
   "execution_count": null,
   "id": "3b447172-e0c8-4f93-a735-8fc89e60f75d",
   "metadata": {},
   "outputs": [],
   "source": [
    "import dask_gateway\n",
    "\n",
    "gateway = dask_gateway.Gateway()"
   ]
  },
  {
   "cell_type": "code",
   "execution_count": null,
   "id": "96a2ed8c-7c08-4550-9665-16b2dd7efc3f",
   "metadata": {},
   "outputs": [],
   "source": [
    "options = gateway.cluster_options(use_local_defaults=False)\n",
    "options"
   ]
  },
  {
   "cell_type": "code",
   "execution_count": null,
   "id": "9f1d860f-08b2-46ce-93cc-1c1721f6faab",
   "metadata": {},
   "outputs": [],
   "source": [
    "cluster = gateway.new_cluster(options)\n",
    "cluster"
   ]
  },
  {
   "cell_type": "code",
   "execution_count": null,
   "id": "3ed61efc-36c3-44b5-aa09-454bdf728402",
   "metadata": {},
   "outputs": [],
   "source": [
    "client = cluster.get_client()\n",
    "client"
   ]
  },
  {
   "cell_type": "markdown",
   "id": "836c1b7b-0865-4302-b462-944ec835cde6",
   "metadata": {},
   "source": [
    "## Partitions"
   ]
  },
  {
   "cell_type": "markdown",
   "id": "8be7a049-48e3-4516-968c-61c1082948f1",
   "metadata": {},
   "source": [
    "* map_partitions\n"
   ]
  },
  {
   "cell_type": "markdown",
   "id": "9c1743bc-fd8a-412f-ad46-756b772a9e84",
   "metadata": {},
   "source": [
    "## Data locality"
   ]
  },
  {
   "cell_type": "markdown",
   "id": "a8c34f5f-40a5-45c0-8da6-94a8b8837bdf",
   "metadata": {},
   "source": [
    "## Task graph"
   ]
  },
  {
   "cell_type": "markdown",
   "id": "bb2b2f19-24ca-4603-81c5-1551603c6ce0",
   "metadata": {},
   "source": [
    "## Persist\n",
    "\n"
   ]
  },
  {
   "cell_type": "markdown",
   "id": "08cf868f-9f79-4166-a503-4c0a94fdcdcb",
   "metadata": {},
   "source": [
    "## Meta"
   ]
  },
  {
   "cell_type": "markdown",
   "id": "a51d14b4-51ba-494d-94d8-d4525eaca663",
   "metadata": {},
   "source": [
    "## Diagnostics with dashboard"
   ]
  },
  {
   "cell_type": "markdown",
   "id": "84ed5c10-d600-4707-833d-a7d60c56cf06",
   "metadata": {},
   "source": [
    "## Shuffling\n",
    "\n",
    "- set-index"
   ]
  },
  {
   "cell_type": "code",
   "execution_count": null,
   "id": "efe3a4f6-10ad-403b-aca8-6fb0fd514438",
   "metadata": {},
   "outputs": [],
   "source": []
  },
  {
   "cell_type": "code",
   "execution_count": null,
   "id": "9b788b46-80b1-41cc-af6a-c4caff81eee7",
   "metadata": {},
   "outputs": [],
   "source": []
  },
  {
   "cell_type": "code",
   "execution_count": null,
   "id": "cc28a741-02d9-46ff-a595-0f5a2351b44a",
   "metadata": {},
   "outputs": [],
   "source": []
  },
  {
   "cell_type": "code",
   "execution_count": null,
   "id": "d85b7122-6825-4b98-91d3-e0d00ac95e94",
   "metadata": {},
   "outputs": [],
   "source": []
  }
 ],
 "metadata": {
  "kernelspec": {
   "display_name": "global-global-pycon2023",
   "language": "python",
   "name": "conda-env-global-global-pycon2023-py"
  },
  "language_info": {
   "codemirror_mode": {
    "name": "ipython",
    "version": 3
   },
   "file_extension": ".py",
   "mimetype": "text/x-python",
   "name": "python",
   "nbconvert_exporter": "python",
   "pygments_lexer": "ipython3",
   "version": "3.10.10"
  }
 },
 "nbformat": 4,
 "nbformat_minor": 5
}
