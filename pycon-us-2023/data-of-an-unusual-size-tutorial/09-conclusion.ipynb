{
 "cells": [
  {
   "cell_type": "markdown",
   "id": "05786a80-83d3-466a-9190-648eb76d9c73",
   "metadata": {},
   "source": [
    "# Final thoughts"
   ]
  },
  {
   "cell_type": "markdown",
   "id": "6fad21be-960a-44e5-9b13-aacba470c663",
   "metadata": {},
   "source": [
    "## Broader big data ecosystem\n",
    "\n",
    "TODO"
   ]
  },
  {
   "cell_type": "markdown",
   "id": "7a3914cf-b425-4c3f-9a09-cae49d0830cc",
   "metadata": {},
   "source": [
    "## Resources to learn more\n",
    "\n",
    "TODO"
   ]
  },
  {
   "cell_type": "markdown",
   "id": "c36c0162-4f45-4672-a432-905d075f8639",
   "metadata": {},
   "source": [
    "## Questions and support\n",
    "\n",
    "TODO"
   ]
  }
 ],
 "metadata": {
  "kernelspec": {
   "display_name": "Python 3 (ipykernel)",
   "language": "python",
   "name": "python3"
  },
  "language_info": {
   "codemirror_mode": {
    "name": "ipython",
    "version": 3
   },
   "file_extension": ".py",
   "mimetype": "text/x-python",
   "name": "python",
   "nbconvert_exporter": "python",
   "pygments_lexer": "ipython3",
   "version": "3.10.10"
  }
 },
 "nbformat": 4,
 "nbformat_minor": 5
}
