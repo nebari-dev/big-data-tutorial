{
 "cells": [
  {
   "cell_type": "markdown",
   "id": "9988a010-b1d5-44e4-9eea-bf6e4466b4a7",
   "metadata": {},
   "source": [
    "# Big Data Dashboarding\n",
    "---\n",
    "\n",
    "In this notebook we are going to put our visualizations together into a dashboard\n",
    "\n",
    "We will also introduce a new tool from the HoloViz suite:\n",
    "\n",
    "<img src=\"images/panel_logo.png\" width=\"100\">\n",
    "\n",
    "Panel is a high-level app and dashboarding solution for Python"
   ]
  },
  {
   "cell_type": "markdown",
   "id": "4f23406d-8642-4da0-ac18-bf6211a15f2b",
   "metadata": {},
   "source": [
    "## Lets reconnect to our Dask Cluster and load our dataset "
   ]
  },
  {
   "cell_type": "code",
   "execution_count": null,
   "id": "73bc78b7-5878-4d16-be17-5c552409059c",
   "metadata": {
    "tags": []
   },
   "outputs": [],
   "source": [
    "import param\n",
    "import panel as pn\n",
    "\n",
    "pn.extension()"
   ]
  },
  {
   "cell_type": "code",
   "execution_count": null,
   "id": "d1de4c21-2d5f-4047-a0c7-2808de8f92b8",
   "metadata": {
    "tags": []
   },
   "outputs": [],
   "source": [
    "import dask_gateway\n",
    "import dask.dataframe as dd\n",
    "gateway = dask_gateway.Gateway()"
   ]
  },
  {
   "cell_type": "code",
   "execution_count": null,
   "id": "abfc8e92-fac4-426d-8bd4-7b1e333d5dce",
   "metadata": {
    "tags": []
   },
   "outputs": [],
   "source": [
    "class LaunchDaskCluster(param.Parameterized):\n",
    "\n",
    "    workers = pn.widgets.IntRangeSlider(name='Number of Workers', start=1, end=10, value=(1, 5), step=1)\n",
    "    \n",
    "    launch_dask = pn.widgets.Button(name='Launch Dask')\n",
    "    dask_status = pn.widgets.StaticText(name='Dask Status', value='Not Connected')\n",
    "    cluster = None\n",
    "    client = None\n",
    "    ready = param.Boolean(default=False, precedence=-1)\n",
    "\n",
    "    def output(self):\n",
    "        return self.client\n",
    "\n",
    "    @launch_dask.on_click\n",
    "    def dask_launcher(self):\n",
    "        if len(running_clusters := gateway.list_clusters())>0:\n",
    "            #self.dask_status.value = \"Found existing dask cluster, connecting and rescaling\"\n",
    "            self.cluster = gateway.connect(running_clusters[0].name)\n",
    "            self.cluster.adapt(self.min_workers, self.max_workers)\n",
    "        else:\n",
    "            #self.dask_status.value = \"Launching new dask cluster\"\n",
    "            self.cluster = gateway.new_cluster(conda_environment=\"pycon2023/pycon2023-tutorial\", profile=\"Medium Worker\")\n",
    "            self.cluster.adapt(self.workers.value[0], self.workers.value[1])\n",
    "        self.client = self.cluster.get_client()\n",
    "        #self.dask_status.value = \"Waiting for at least 1 worker\"\n",
    "        #client.wait_for_workers(1)\n",
    "        #self.dask_status.value = \"Cluster Ready\"\n",
    "        self.ready.value = True\n",
    "\n",
    "    def panel(self):\n",
    "        return pn.Column(\n",
    "            self.workers, \n",
    "            self.launch_dask,\n",
    "            self.dask_status,\n",
    "        )\n",
    "\n",
    "stage1 = LaunchDaskCluster()\n",
    "stage1.panel()"
   ]
  },
  {
   "cell_type": "code",
   "execution_count": null,
   "id": "6f3eae75-0829-4bca-bebc-6d49c8ba0050",
   "metadata": {
    "tags": []
   },
   "outputs": [],
   "source": [
    "class Dashboard(param.Parameterized):\n",
    "    years = pn.widgets.IntRangeSlider(name='Years', start=2003, end=2022, value=(2018, 2022), step=1)\n",
    "    flights = []\n",
    "    \n",
    "    @depends(years)\n",
    "    def read_data(self):\n",
    "        self.flights = \n",
    "    "
   ]
  },
  {
   "cell_type": "code",
   "execution_count": null,
   "id": "edfe9f99-0b84-4a82-9d3a-142206c03c5b",
   "metadata": {},
   "outputs": [],
   "source": [
    "# from kim\n",
    "class LaunchDaskCluster(param.Parameterized):\n",
    "\n",
    "    workers = pn.widgets.IntRangeSlider(name='Number of Workers', start=1, end=10, value=(1, 5), step=1)\n",
    "    \n",
    "    launch_dask = pn.widgets.Button(name='Launch Dask')\n",
    "    dask_status = pn.widgets.StaticText(name='Dask Status', value='Not Connected')\n",
    "    cluster = None\n",
    "    client = None\n",
    "    ready = param.Boolean(default=False, precedence=-1)\n",
    "    \n",
    "    def __init__(self, **params):\n",
    "        super().__init__(**params)\n",
    "        self.launch_dask.on_click(self.dask_launcher)\n",
    "\n",
    "    def output(self):\n",
    "        return self.client\n",
    "\n",
    "    # @launch_dask.on_click\n",
    "    \n",
    "    def dask_launcher(self, event=None):\n",
    "        if len(running_clusters := gateway.list_clusters())>0:\n",
    "            #self.dask_status.value = \"Found existing dask cluster, connecting and rescaling\"\n",
    "            self.cluster = gateway.connect(running_clusters[0].name)\n",
    "            self.cluster.adapt(self.workers.value[0], self.workers.value[1])\n",
    "        else:\n",
    "            #self.dask_status.value = \"Launching new dask cluster\"\n",
    "            self.cluster = gateway.new_cluster(conda_environment=\"pycon2023/pycon2023-tutorial\", profile=\"Medium Worker\")\n",
    "            self.cluster.adapt(self.workers.value[0], self.workers.value[1])\n",
    "        self.client = self.cluster.get_client()\n",
    "        #self.dask_status.value = \"Waiting for at least 1 worker\"\n",
    "        #client.wait_for_workers(1)\n",
    "        #self.dask_status.value = \"Cluster Ready\"\n",
    "        self.ready = True\n",
    "\n",
    "    def panel(self):\n",
    "        return pn.Column(\n",
    "            self.workers, \n",
    "            self.launch_dask,\n",
    "            self.dask_status,\n",
    "        )"
   ]
  }
 ],
 "metadata": {
  "kernelspec": {
   "display_name": "pycon2023-pycon2023-tutorial",
   "language": "python",
   "name": "conda-env-pycon2023-pycon2023-tutorial-py"
  },
  "language_info": {
   "codemirror_mode": {
    "name": "ipython",
    "version": 3
   },
   "file_extension": ".py",
   "mimetype": "text/x-python",
   "name": "python",
   "nbconvert_exporter": "python",
   "pygments_lexer": "ipython3",
   "version": "3.10.10"
  }
 },
 "nbformat": 4,
 "nbformat_minor": 5
}
