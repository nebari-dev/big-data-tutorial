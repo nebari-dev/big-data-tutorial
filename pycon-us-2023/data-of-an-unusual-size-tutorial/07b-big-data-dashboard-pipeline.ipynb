{
 "cells": [
  {
   "cell_type": "markdown",
   "id": "9988a010-b1d5-44e4-9eea-bf6e4466b4a7",
   "metadata": {},
   "source": [
    "# Big Data Dashboarding\n",
    "---\n",
    "\n",
    "In this notebook we are going to put our visualizations together into a dashboard\n",
    "\n",
    "We will also introduce a new tool from the HoloViz suite:\n",
    "\n",
    "<img src=\"images/panel_logo.png\" width=\"100\">\n",
    "\n",
    "Panel is a high-level app and dashboarding solution for Python"
   ]
  },
  {
   "cell_type": "markdown",
   "id": "4f23406d-8642-4da0-ac18-bf6211a15f2b",
   "metadata": {},
   "source": [
    "## Lets reconnect to our Dask Cluster and load our dataset "
   ]
  },
  {
   "cell_type": "code",
   "execution_count": null,
   "id": "73bc78b7-5878-4d16-be17-5c552409059c",
   "metadata": {
    "tags": []
   },
   "outputs": [],
   "source": [
    "import param\n",
    "import panel as pn\n",
    "\n",
    "pn.extension()"
   ]
  },
  {
   "cell_type": "code",
   "execution_count": null,
   "id": "d1de4c21-2d5f-4047-a0c7-2808de8f92b8",
   "metadata": {
    "tags": []
   },
   "outputs": [],
   "source": [
    "import dask_gateway\n",
    "import dask.dataframe as dd\n",
    "import pandas as pd\n",
    "\n",
    "import hvplot.dask\n",
    "import hvplot.pandas\n",
    "gateway = dask_gateway.Gateway()"
   ]
  },
  {
   "cell_type": "code",
   "execution_count": null,
   "id": "abfc8e92-fac4-426d-8bd4-7b1e333d5dce",
   "metadata": {
    "tags": []
   },
   "outputs": [],
   "source": [
    "class LaunchDaskCluster(param.Parameterized):\n",
    "\n",
    "    workers = pn.widgets.IntRangeSlider(name='Number of Workers', start=1, end=10, value=(1, 5), step=1)\n",
    "    \n",
    "    launch_dask = pn.widgets.Button(name='Launch Dask')\n",
    "    dask_status = pn.widgets.StaticText(name='Dask Status', value='Not Connected')\n",
    "    cluster = None\n",
    "    client = None\n",
    "    ready = param.Boolean(default=False, precedence=-1)\n",
    "    \n",
    "    def __init__(self, **params):\n",
    "        super().__init__(**params)\n",
    "        self.launch_dask.on_click(self.dask_launcher)\n",
    "    \n",
    "    @param.output(param.String)\n",
    "    def output(self):\n",
    "        return self.cluster.name\n",
    "\n",
    "    def dask_launcher(self, event):\n",
    "        if len(running_clusters := gateway.list_clusters())>0:\n",
    "            self.dask_status.value = \"Found existing dask cluster, connecting and rescaling\"\n",
    "            self.cluster = gateway.connect(running_clusters[0].name)\n",
    "            self.cluster.adapt(self.workers.value[0], self.workers.value[1])\n",
    "        else:\n",
    "            self.dask_status.value = \"Launching new dask cluster\"\n",
    "            self.cluster = gateway.new_cluster(conda_environment=\"pycon2023/pycon2023-tutorial\", profile=\"Medium Worker\")\n",
    "            self.cluster.adapt(self.workers.value[0], self.workers.value[1])\n",
    "        \n",
    "        self.client = self.cluster.get_client()\n",
    "        self.dask_status.value = \"Waiting for at least 1 worker\"\n",
    "        self.client.wait_for_workers(1)\n",
    "        self.dask_status.value = f\"Cluster Ready - {self.client.dashboard_link}\"\n",
    "        #self.ready.constant = True\n",
    "\n",
    "    def panel(self):\n",
    "        return pn.Column(\n",
    "            self.workers, \n",
    "            self.launch_dask,\n",
    "            self.dask_status,\n",
    "        )\n",
    "\n",
    "stage1 = LaunchDaskCluster()\n",
    "stage1.panel()"
   ]
  },
  {
   "cell_type": "code",
   "execution_count": null,
   "id": "6f3eae75-0829-4bca-bebc-6d49c8ba0050",
   "metadata": {
    "tags": []
   },
   "outputs": [],
   "source": [
    "class Dashboard(param.Parameterized):\n",
    "    \n",
    "    years = pn.widgets.IntRangeSlider(name='Years', start=2003, end=2022, value=(2018, 2022), step=1)\n",
    "    method = pn.widgets.RadioButtonGroup(name='Method', options=['min', 'mean', 'max'])\n",
    "    field = pn.widgets.RadioButtonGroup(name='Delay Type', options=['DEP_DELAY', 'ARR_DELAY'])\n",
    "    groupby = pn.widgets.RadioButtonGroup(name='GroupBy', options=['YEAR', 'MONTH', 'DAY_OF_MONTH', 'OP_CARRIER'], value='MONTH')\n",
    "    cluster_name = param.String()\n",
    "    \n",
    "    url = \"gcs://quansight-datasets/airline-ontime-performance/sorted/full_dataset.parquet\"\n",
    "    columns = [\n",
    "        'YEAR', 'MONTH', 'DAY_OF_MONTH', 'DAY_OF_WEEK', 'FL_DATE', 'OP_CARRIER', \n",
    "        'TAIL_NUM', 'OP_CARRIER_FL_NUM', 'ORIGIN', 'DEST', 'CRS_DEP_TIME', \n",
    "        'DEP_TIME', 'DEP_DELAY', 'ARR_TIME', 'ARR_DELAY', 'CANCELLED', \n",
    "        'CANCELLATION_CODE', 'DIVERTED', 'AIR_TIME', 'FLIGHTS', 'DISTANCE',\n",
    "        'CARRIER_DELAY', 'WEATHER_DELAY', 'NAS_DELAY', 'SECURITY_DELAY', \n",
    "        'LATE_AIRCRAFT_DELAY', 'DIV_ARR_DELAY'\n",
    "    ]\n",
    "    flights = dd.read_parquet(url, columns=columns)\n",
    "    grouped_data = None\n",
    "        \n",
    "    @param.depends('cluster_name')\n",
    "    def dask_dashboard(self):\n",
    "        self.cluster = gateway.connect(self.cluster_name)\n",
    "        self.client = self.cluster.get_client()\n",
    "        return pn.pane.HTML(f\"\"\"\n",
    "        <iframe width=\"800\" height=\"800\" src=\"{self.client.dashboard_link}\"\n",
    "        frameborder=\"0\" scrolling=\"no\" marginheight=\"0\" marginwidth=\"0\"></iframe>\n",
    "        \"\"\")\n",
    "    \n",
    "    @param.depends('groupby', 'method', 'field', watch=True)        \n",
    "    def recompute(self):\n",
    "        self.grouped_data = (\n",
    "            self.flights[\n",
    "                    (self.flights['YEAR'] >= self.years.value[0]) &\n",
    "                    (self.flights['YEAR'] <= self.years.value[1])\n",
    "                ]\n",
    "                .groupby(self.groupby.value)[self.field.value]\n",
    "                .agg(how=self.method.value)\n",
    "        )\n",
    "        \n",
    "    @param.depends('grouped_data')\n",
    "    def plot_data(self):\n",
    "        if self.grouped_data:\n",
    "            self.grouped_data.hvplot()\n",
    "\n",
    "    def panel(self):\n",
    "        return pn.Column(\n",
    "            self.years,\n",
    "            pn.Row(self.groupby, self.field, self.method),\n",
    "            self.plot_data,\n",
    "            pn.layout.Divider(),\n",
    "            self.dask_dashboard,\n",
    "        )\n",
    "    "
   ]
  },
  {
   "cell_type": "code",
   "execution_count": null,
   "id": "02c3c59d-c0a1-4027-85b9-831969de8b46",
   "metadata": {
    "tags": []
   },
   "outputs": [],
   "source": [
    "stage2 = Dashboard(cluster_name=\"dev.419198172076424b887157c779def1a3\")\n",
    "stage2.panel()"
   ]
  },
  {
   "cell_type": "code",
   "execution_count": null,
   "id": "f9bae548-2a2a-4110-87b2-19f8af410e66",
   "metadata": {
    "tags": []
   },
   "outputs": [],
   "source": [
    "pn.pane.HTML(f\"\"\"\n",
    "        <iframe width=\"800\" height=\"800\" src=\"{stage1.client.dashboard_link}\"\n",
    "        frameborder=\"0\" scrolling=\"no\" marginheight=\"0\" marginwidth=\"0\"></iframe>\n",
    "        \"\"\")"
   ]
  },
  {
   "cell_type": "code",
   "execution_count": null,
   "id": "d6048758-1307-41ce-a41f-8449d472b5b5",
   "metadata": {
    "tags": []
   },
   "outputs": [],
   "source": [
    "gateway.list_clusters()"
   ]
  },
  {
   "cell_type": "code",
   "execution_count": null,
   "id": "13764684-3dc9-4643-b79b-28e45ad048e1",
   "metadata": {},
   "outputs": [],
   "source": []
  }
 ],
 "metadata": {
  "kernelspec": {
   "display_name": "pycon2023-pycon2023-tutorial",
   "language": "python",
   "name": "conda-env-pycon2023-pycon2023-tutorial-py"
  },
  "language_info": {
   "codemirror_mode": {
    "name": "ipython",
    "version": 3
   },
   "file_extension": ".py",
   "mimetype": "text/x-python",
   "name": "python",
   "nbconvert_exporter": "python",
   "pygments_lexer": "ipython3",
   "version": "3.10.10"
  }
 },
 "nbformat": 4,
 "nbformat_minor": 5
}
