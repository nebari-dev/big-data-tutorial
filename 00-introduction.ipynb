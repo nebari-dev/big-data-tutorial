{
 "cells": [
  {
   "cell_type": "markdown",
   "id": "5fcccf27-5a2f-4af9-b091-7f759401ceca",
   "metadata": {
    "tags": []
   },
   "source": [
    "<div align=\"center\">\n",
    "    <img src=\"./images/banner.png\" width=\"75%\" />\n",
    "</div>"
   ]
  },
  {
   "cell_type": "markdown",
   "id": "3f98408a-6d87-43ad-b908-886a6f5b3225",
   "metadata": {},
   "source": [
    "# Welcome! 👋\n",
    "\n",
    "<!-- TODO: Add a motivating example -- Panel dashboard -->"
   ]
  },
  {
   "cell_type": "markdown",
   "id": "2b50c70e-01c0-423b-ae22-c5ffdf36a91d",
   "metadata": {},
   "source": [
    "## Instructors 🧑‍🏫\n",
    "\n",
    "### Dharhas Pothina\n",
    "\n",
    "Dharhas Pothina is the CTO at Quansight where he helps clients wrangle their data using the PyData stack. His background includes expertise in computational modeling, big data/high performance computing, visualization, and geospatial analysis. He has been part of the Holoviz (HvPlot) and Dask communities for over 10 years and has given many talks and workshops on distributed computing and big data visualization and actively leads large-scale data science projects at Quansight.\n",
    "\n",
    "### Christopher Ostrouchov\n",
    "\n",
    "Chris Ostrouchov is a Senior Software Engineer at Quansight, and the lead developer for Nebari and conda-store, two open source libraries for reproducible data science.\n",
    "\n",
    "### Pavithra Eswaramoorthy (not present today)\n",
    "\n",
    "Pavithra Eswaramoorthy is a Developer Advocate at Quansight, and a part of the Bokeh core team. She also worked with the Dask community extensively at her previous role."
   ]
  },
  {
   "cell_type": "markdown",
   "id": "8023238b-2e4e-4bc7-8862-999fcc37d5ea",
   "metadata": {
    "tags": []
   },
   "source": [
    "## Setup instructions ⚙️\n",
    "\n",
    "You can use Nebari (JupterHub) hosted at [scipy.quansight.dev](https://http://scipy.quansight.dev/) to follow along with this tutorial.\n",
    "\n",
    "Follow [this participant's guide](https://docs.google.com/document/d/1vnWhNyUBRpILb2MAHQfTmZQY3pCIaCmroV9ke49nQlE/edit) to register and sign-in at, and use the following link to clone the tutorial materials:\n",
    "\n",
    "```bash\n",
    "https://github.com/nebari-dev/big-data-tutorial.git\n",
    "```\n",
    "\n",
    "In the `big-data-tutorial` folder that's created with all material, navigate to `00-introduction.ipynb`.\n",
    "\n",
    "The environment for this tutorial is `global-gloabl-data-of-unusual-size`, and it is automatically selected for you. :)"
   ]
  },
  {
   "cell_type": "markdown",
   "id": "8dd9faaa-f497-4cee-97ab-004b01822d51",
   "metadata": {
    "tags": []
   },
   "source": [
    "## Tutorial outline 📝\n",
    "\n",
    "**8 am to 8:50 am, presented by Dharhas:**\n",
    "\n",
    "* [00-introduction](./00-introduction.ipynb)\n",
    "* [01-analyze-with-pandas](./01-analyze-with-pandas.ipynb)\n",
    "* [02-intro-to-hvplot](./02-intro-to-hvplot.ipynb)\n",
    "\n",
    "Break [10 mins]\n",
    "\n",
    "**9 am to 9:50 am, presented by Chris:**\n",
    "\n",
    "* [03-intro-to-dask](./03-intro-to-dask.ipynb)\n",
    "* [04-storage-formats](./04-storage-formats.ipynb)\n",
    "\n",
    "Break [10 mins]\n",
    "\n",
    "**10 am to 10:50 am:**\n",
    "\n",
    "* [05-big-data-analysis-with-dask](./05-big-data-analysis-with-dask.ipynb), presented by Chris\n",
    "* [06-big-data-visualization](./06-big-data-visualization.ipynb), presented by Dharhas\n",
    "\n",
    "Break [10 mins]\n",
    "\n",
    "**11 am to 11:30 am, presented by Dharhas:**\n",
    "\n",
    "* [07-big-data-dashboards](./07-big-data-dashboards.ipynb)\n",
    "\n",
    "**11:30 am to 12 noon,:**\n",
    "\n",
    "* [08-big-data-application-pipeline](./08-big-data-application-pipeline.ipynb), presented by Dharhas\n",
    "* [09-collaborative-data-science](./09-collaborative-data-science.ipynb), presented by Chris\n",
    "* [10-conclusion](./10-conclusion.ipynb), presented by Chris\n"
   ]
  },
  {
   "cell_type": "markdown",
   "id": "77d7102b-2c9a-4e17-9a47-5b4cd68282cc",
   "metadata": {},
   "source": [
    "## Exercises 💻\n",
    "\n",
    "There are sections that say: \"💻 Your turn\", these are some questions for you to solve. You can click on the collapsed cells with three dots to view the solution."
   ]
  },
  {
   "cell_type": "markdown",
   "id": "721ec173-cb1a-4b24-891e-0aea12d3d90f",
   "metadata": {},
   "source": [
    "## Support 🙋\n",
    "\n",
    "If you need help, raise your hand or paste a sticky note (if it's available) behind your laptop and we'll come over to assist you!"
   ]
  },
  {
   "cell_type": "markdown",
   "id": "534aff7e-5836-41e3-ba24-075f1fa1d8ee",
   "metadata": {},
   "source": [
    "---\n",
    "\n",
    "## Next →\n",
    "\n",
    "Let's start by [taking a look at our dataset](./01-analyze-with-pandas.ipynb)!"
   ]
  },
  {
   "cell_type": "code",
   "execution_count": null,
   "id": "a3c9b454-0faf-4375-ac4a-24e168460fcb",
   "metadata": {},
   "outputs": [],
   "source": []
  }
 ],
 "metadata": {
  "kernelspec": {
   "display_name": "global-global-data-of-unusual-size",
   "language": "python",
   "name": "conda-env-global-global-data-of-unusual-size-py"
  },
  "language_info": {
   "codemirror_mode": {
    "name": "ipython",
    "version": 3
   },
   "file_extension": ".py",
   "mimetype": "text/x-python",
   "name": "python",
   "nbconvert_exporter": "python",
   "pygments_lexer": "ipython3",
   "version": "3.10.12"
  }
 },
 "nbformat": 4,
 "nbformat_minor": 5
}
