{
 "cells": [
  {
   "cell_type": "markdown",
   "id": "5fcccf27-5a2f-4af9-b091-7f759401ceca",
   "metadata": {
    "tags": []
   },
   "source": [
    "<div align=\"center\">\n",
    "    <img src=\"./images/banner.png\" width=\"75%\" />\n",
    "</div>"
   ]
  },
  {
   "cell_type": "markdown",
   "id": "3f98408a-6d87-43ad-b908-886a6f5b3225",
   "metadata": {},
   "source": [
    "# Welcome! 👋\n",
    "\n",
    "<!-- TODO: Add a motivating example -- Panel dashboard -->"
   ]
  },
  {
   "cell_type": "markdown",
   "id": "2b50c70e-01c0-423b-ae22-c5ffdf36a91d",
   "metadata": {},
   "source": [
    "## Instructors 🧑‍🏫\n",
    "\n",
    "<img src=\"./images/quansight_logo.png\" width=\"40%\" align=\"right\"/>\n",
    "\n",
    "### Kim Pevey, PhD\n",
    "\n",
    "Kim Pevey is a Senior Software Engineer at Quansight. She has done extensive work in the scientific python ecosystem and is skilled at both front-end and back-end engineering. She enjoys architecting solutions for client problems. She got her start with Python while working as a Civil Engineer on geospatial engineering projects. She has worked across nearly all aspects of the PyData stack - from data analytics and algorithm development to architecting custom APIs for existing projects to creating interactive dashboards.\n",
    "\n",
    "### Pavithra Eswaramoorthy (not present today)\n",
    "\n",
    "Pavithra Eswaramoorthy is a Developer Advocate at Quansight, and a part of the Bokeh core team. She also worked with the Dask community extensively at her previous role."
   ]
  },
  {
   "cell_type": "markdown",
   "id": "8023238b-2e4e-4bc7-8862-999fcc37d5ea",
   "metadata": {
    "tags": []
   },
   "source": [
    "## Setup instructions ⚙️\n",
    "\n",
    "You can use Nebari (JupterHub) hosted at https://training.quansight.dev/ to follow along with this tutorial.\n",
    "\n",
    "Follow [this participant's guide](https://docs.google.com/document/d/1vnWhNyUBRpILb2MAHQfTmZQY3pCIaCmroV9ke49nQlE/edit) to register & sign-in, select the **Medium Instance** in the Server Options, and use the following link to clone the tutorial materials:\n",
    "\n",
    "```bash\n",
    "https://github.com/nebari-dev/mini-big-data-tutorial.git\n",
    "```\n",
    "\n",
    "In the `mini-big-data-tutorial` folder that's created with all material, navigate to `00-introduction.ipynb`.\n",
    "\n",
    "The environment for this tutorial is `analyst-pydata-nyc-2023`, and it is automatically selected for you. :)"
   ]
  },
  {
   "cell_type": "markdown",
   "id": "77d7102b-2c9a-4e17-9a47-5b4cd68282cc",
   "metadata": {},
   "source": [
    "## Exercises 💻\n",
    "\n",
    "There are sections that say: \"💻 Your turn\", these are some questions for you to solve. You can click on the collapsed cells with three dots to view the solution."
   ]
  },
  {
   "cell_type": "markdown",
   "id": "721ec173-cb1a-4b24-891e-0aea12d3d90f",
   "metadata": {},
   "source": [
    "## Support 🙋\n",
    "\n",
    "If you need help, raise your hand or paste a sticky note (if it's available) behind your laptop and we'll come over to assist you!"
   ]
  },
  {
   "cell_type": "markdown",
   "id": "534aff7e-5836-41e3-ba24-075f1fa1d8ee",
   "metadata": {},
   "source": [
    "---\n",
    "\n",
    "## Next →\n",
    "\n",
    "Let's start by [taking a look at our dataset](./01-intro-to-dask.ipynb)!"
   ]
  }
 ],
 "metadata": {
  "kernelspec": {
   "display_name": "analyst-analyst-pydata-nyc-2023",
   "language": "python",
   "name": "conda-env-analyst-analyst-pydata-nyc-2023-py"
  },
  "language_info": {
   "codemirror_mode": {
    "name": "ipython",
    "version": 3
   },
   "file_extension": ".py",
   "mimetype": "text/x-python",
   "name": "python",
   "nbconvert_exporter": "python",
   "pygments_lexer": "ipython3",
   "version": "3.10.13"
  }
 },
 "nbformat": 4,
 "nbformat_minor": 5
}
