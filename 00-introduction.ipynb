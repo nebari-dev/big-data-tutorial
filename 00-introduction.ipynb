{
 "cells": [
  {
   "cell_type": "markdown",
   "id": "5fcccf27-5a2f-4af9-b091-7f759401ceca",
   "metadata": {
    "tags": []
   },
   "source": [
    "<div align=\"center\">\n",
    "    <img src=\"./images/banner.png\" width=\"75%\" />\n",
    "</div>"
   ]
  },
  {
   "cell_type": "markdown",
   "id": "3f98408a-6d87-43ad-b908-886a6f5b3225",
   "metadata": {},
   "source": [
    "# Welcome! 👋\n",
    "\n",
    "<!-- TODO: Add a motivating example -- Panel dashboard -->"
   ]
  },
  {
   "cell_type": "markdown",
   "id": "2b50c70e-01c0-423b-ae22-c5ffdf36a91d",
   "metadata": {},
   "source": [
    "## Instructors 🧑‍🏫\n",
    "\n",
    "<a href=\"https://quansight.com/\"><img src=\"./images/quansight_logo.png\" width=\"40%\" align=\"right\"/></a>\n",
    "\n",
    "### Kim Pevey, PhD\n",
    "\n",
    "Kim Pevey is a Senior Software Engineering Manager at Quansight. She has done extensive work in the scientific python ecosystem and is skilled at both front-end and back-end engineering. She enjoys architecting solutions for client problems. She got her start with Python while working as a Civil Engineer on geospatial engineering projects. She has worked across nearly all aspects of the PyData stack - from data analytics and algorithm development to architecting custom APIs for existing projects to creating interactive dashboards.\n",
    "\n",
    "### Pavithra Eswaramoorthy (not present today)\n",
    "\n",
    "Pavithra Eswaramoorthy is a Developer Advocate at Quansight, and a part of the Bokeh core team. She also worked with the Dask community extensively at her previous role."
   ]
  },
  {
   "cell_type": "markdown",
   "id": "fe7ad03f-7ec3-4181-b43f-327677b14b9c",
   "metadata": {},
   "source": [
    "## Setup instructions ⚙️ <a href=\"https://www.nebari.dev/\"><img src=\"./images/nebari-logo.png\" width=\"20%\" align=\"right\" alt=\"Nebari documentation\"/></a>\n",
    "\n",
    "We'll be using a cloud platform called [Nebari](https://www.nebari.dev/). This is an Open Source collaboration platform based on JupyterHub and deployed to the cloud via GitOps. It has been developed primarily by [Quansight](https://quansight.com/) but we have a growing open source community - come join us! \n",
    "\n",
    "Our Nebari instance for today is hosted at https://training.quansight.dev/. Log in to follow along with this tutorial.\n",
    "\n",
    "Sign-in with the credentials provided (you will be prompted to change the password), select the **Medium Instance** in the Server Options, and use the following link to clone the tutorial materials:\n",
    "\n",
    "```bash\n",
    "https://github.com/nebari-dev/big-data-tutorial-90min.git\n",
    "```\n",
    "\n",
    "In the `big-data-tutorial-90min` folder that's created with all material, navigate to `00-introduction.ipynb`.\n",
    "\n",
    "The environment for this tutorial is `analyst-pydata-nyc-2023`, and it is automatically selected for you. :)"
   ]
  },
  {
   "cell_type": "markdown",
   "id": "77d7102b-2c9a-4e17-9a47-5b4cd68282cc",
   "metadata": {},
   "source": [
    "## Exercises 💻\n",
    "\n",
    "There are sections that say: \"💻 Your turn\", these are some questions for you to solve. You can click on the collapsed cells with three dots to view the solution."
   ]
  },
  {
   "cell_type": "markdown",
   "id": "534aff7e-5836-41e3-ba24-075f1fa1d8ee",
   "metadata": {},
   "source": [
    "---\n",
    "\n",
    "## Next →\n",
    "\n",
    "Let's start by [taking a look at our dataset](./01-intro-to-dask.ipynb)!"
   ]
  }
 ],
 "metadata": {
  "kernelspec": {
   "display_name": "analyst-analyst-pydata-nyc-2023",
   "language": "python",
   "name": "conda-env-analyst-analyst-pydata-nyc-2023-py"
  },
  "language_info": {
   "codemirror_mode": {
    "name": "ipython",
    "version": 3
   },
   "file_extension": ".py",
   "mimetype": "text/x-python",
   "name": "python",
   "nbconvert_exporter": "python",
   "pygments_lexer": "ipython3",
   "version": "3.10.13"
  }
 },
 "nbformat": 4,
 "nbformat_minor": 5
}
