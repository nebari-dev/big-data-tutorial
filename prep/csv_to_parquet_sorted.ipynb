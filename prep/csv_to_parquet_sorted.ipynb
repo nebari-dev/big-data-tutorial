{
 "cells": [
  {
   "cell_type": "code",
   "execution_count": null,
   "id": "4dd9a2ec-98cd-404f-bcb2-c4ca79842645",
   "metadata": {
    "tags": []
   },
   "outputs": [],
   "source": [
    "import gcsfs\n",
    "import dask_gateway\n",
    "import dask.dataframe as dd\n",
    "import pandas as pd\n",
    "import json"
   ]
  },
  {
   "cell_type": "code",
   "execution_count": null,
   "id": "a048b41c-a3df-45fd-9fe2-bef3c72cd43f",
   "metadata": {
    "tags": []
   },
   "outputs": [],
   "source": [
    "token = json.load(open(\"credentials.json\"))\n",
    "fs = gcsfs.GCSFileSystem(token=token)\n",
    "storage_options={\"token\": token}"
   ]
  },
  {
   "cell_type": "code",
   "execution_count": null,
   "id": "a5e29585-2d5a-4001-aa98-9a83ccbf9aa8",
   "metadata": {
    "tags": []
   },
   "outputs": [],
   "source": [
    "gateway = dask_gateway.Gateway()\n",
    "if len(running_clusters := gateway.list_clusters())>0:\n",
    "    cluster = gateway.connect(running_clusters[0].name)\n",
    "else:\n",
    "    cluster = gateway.new_cluster(conda_environment=\"pycon2023/pycon2023-tutorial\", profile=\"Medium Worker\")\n",
    "    cluster.adapt(1,100)"
   ]
  },
  {
   "cell_type": "code",
   "execution_count": null,
   "id": "d81f6bfe-4505-4fec-ad91-5d37a6e8a70b",
   "metadata": {
    "tags": []
   },
   "outputs": [],
   "source": [
    "cluster"
   ]
  },
  {
   "cell_type": "code",
   "execution_count": null,
   "id": "733a1197-ea3c-4aa0-a450-516a359c8c1e",
   "metadata": {
    "tags": []
   },
   "outputs": [],
   "source": [
    "client = cluster.get_client()\n",
    "client"
   ]
  },
  {
   "cell_type": "code",
   "execution_count": null,
   "id": "99003824-8b73-4208-9800-cbf202f8b316",
   "metadata": {
    "tags": []
   },
   "outputs": [],
   "source": [
    "with open('dtypes.json', 'r') as f:\n",
    "    dtypes = json.load(f)"
   ]
  },
  {
   "cell_type": "code",
   "execution_count": null,
   "id": "783db111-69a4-4f8d-8547-f09d03056c69",
   "metadata": {
    "tags": []
   },
   "outputs": [],
   "source": [
    "ddf = dd.read_csv(\"gcs://quansight-datasets/airline-ontime-performance/csv/*\", \n",
    "                  dtype=dtypes, \n",
    "                  parse_dates=['FL_DATE'], \n",
    "                  storage_options=storage_options,\n",
    "                 )"
   ]
  },
  {
   "cell_type": "code",
   "execution_count": null,
   "id": "2fd88116-a80c-4096-9ccc-36b319a28b17",
   "metadata": {
    "tags": []
   },
   "outputs": [],
   "source": [
    "#ddf = ddf.sort_values([\"FL_DATE\", \"OP_CARRIER\"]).persist()"
   ]
  },
  {
   "cell_type": "code",
   "execution_count": null,
   "id": "2c667b59-7fe8-408e-a033-8872f29aebb3",
   "metadata": {
    "tags": []
   },
   "outputs": [],
   "source": [
    "(\n",
    "    ddf.sort_values([\"FL_DATE\", \"OP_CARRIER\"])\n",
    "       .to_parquet(\"gcs://quansight-datasets/airline-ontime-performance/sorted/full_dataset.parquet\", \n",
    "            storage_options=storage_options,\n",
    "            write_index=False,\n",
    "            )\n",
    ")"
   ]
  },
  {
   "cell_type": "code",
   "execution_count": null,
   "id": "88c88348-a395-4f4d-bee7-65589330c819",
   "metadata": {
    "tags": []
   },
   "outputs": [],
   "source": [
    "ddf.to_parquet(\"gcs://quansight-datasets/airline-ontime-performance/sorted/full_dataset.parquet\", \n",
    "            storage_options=storage_options,\n",
    "            write_index=True,\n",
    "            )"
   ]
  },
  {
   "cell_type": "code",
   "execution_count": null,
   "id": "861cacc0-32b9-4649-af30-be4cfc3260a3",
   "metadata": {
    "tags": []
   },
   "outputs": [],
   "source": [
    "ddf = dd.read_parquet(\"gcs://quansight-datasets/airline-ontime-performance/sorted/full_dataset.parquet\")"
   ]
  },
  {
   "cell_type": "code",
   "execution_count": null,
   "id": "1291ff21-4483-4735-aa6e-ef249c1eabbc",
   "metadata": {
    "tags": []
   },
   "outputs": [],
   "source": [
    "ddf.head()"
   ]
  },
  {
   "cell_type": "code",
   "execution_count": null,
   "id": "0bb0afad-9a89-47ac-a256-f8b8308fac63",
   "metadata": {
    "tags": []
   },
   "outputs": [],
   "source": [
    "ddf.to_parquet(\"gcs://quansight-datasets/airline-ontime-performance/sorted/parquet_by_year\", \n",
    "            partition_on=['YEAR'], \n",
    "            storage_options=storage_options,\n",
    "            write_index=False,\n",
    "            )"
   ]
  },
  {
   "cell_type": "code",
   "execution_count": null,
   "id": "0231a7fc-60b5-422c-9cf9-f9dd1e0d39fa",
   "metadata": {
    "tags": []
   },
   "outputs": [],
   "source": [
    "cluster.shutdown()"
   ]
  }
 ],
 "metadata": {
  "kernelspec": {
   "display_name": "pycon2023-pycon2023-tutorial",
   "language": "python",
   "name": "conda-env-pycon2023-pycon2023-tutorial-py"
  },
  "language_info": {
   "codemirror_mode": {
    "name": "ipython",
    "version": 3
   },
   "file_extension": ".py",
   "mimetype": "text/x-python",
   "name": "python",
   "nbconvert_exporter": "python",
   "pygments_lexer": "ipython3",
   "version": "3.10.10"
  }
 },
 "nbformat": 4,
 "nbformat_minor": 5
}
