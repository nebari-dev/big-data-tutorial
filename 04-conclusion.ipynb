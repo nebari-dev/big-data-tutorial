{
 "cells": [
  {
   "cell_type": "markdown",
   "id": "14213f0c-4d9b-430c-ba4d-983e0be24c46",
   "metadata": {},
   "source": [
    "# Conclusion\n",
    "\n",
    "---\n",
    "\n",
    "Thank you for participating in this tutorial, we're glad to have had the chance to share this material with you!"
   ]
  },
  {
   "cell_type": "markdown",
   "id": "b5a15ed6-6d59-440e-8646-da2be4b340e8",
   "metadata": {},
   "source": [
    "## Further reading\n",
    "\n",
    "The best place for further reference are the corresponding project documentations:\n",
    "\n",
    "* [Dask](https://www.dask.org/)\n",
    "* [hvPlot](https://hvplot.holoviz.org/)\n",
    "* [Datashader](https://datashader.org/)\n",
    "\n",
    "\n",
    "A longer version of this tutorial is at [nebari-dev/big-data-tutorial](https://github.com/nebari-dev/big-data-tutorial)\n",
    "\n",
    "More on using Nebari as a collaboartive data science platform - [Appendix A: Collaborative Data Science](./appendix-a-collaborative-data-science.ipynb)"
   ]
  },
  {
   "cell_type": "markdown",
   "id": "5f323404-0ca7-45bb-97d4-84eb2be022a6",
   "metadata": {},
   "source": [
    "## Acknowledgments\n",
    "\n",
    "In addition to the docs, we referred to various [Holoviz tool gallery examples](https://panel.holoviz.org/gallery/index.html) and the official [Dask tutorial](https://tutorial.dask.org/) while writing this tutorial.\n",
    "\n",
    "We also thank the entire PyData ecosystem for creating an awesome toolkit for data science! All the libraries we discussed (pandas, Dask, Bokeh, Holoviz, GCSFS, and more) interoperate seamlessly and are often developed in a collaborative manner. :)"
   ]
  },
  {
   "cell_type": "markdown",
   "id": "105ecc33-4068-4a24-baf2-c1f151b1a5ac",
   "metadata": {},
   "source": [
    "## Q/A\n",
    "What's on your mind? Let's chat!"
   ]
  },
  {
   "cell_type": "markdown",
   "id": "0f32f4e1-bb76-433f-b715-8d1850665795",
   "metadata": {},
   "source": [
    "---"
   ]
  },
  {
   "cell_type": "markdown",
   "id": "28dd4889-ed47-4bba-93aa-fbc33d84fb0e",
   "metadata": {
    "tags": []
   },
   "source": [
    "<img src=\"./images/quansight_logo.png\" width=\"50%\" align=\"center\"/>"
   ]
  }
 ],
 "metadata": {
  "kernelspec": {
   "display_name": "analyst-analyst-pydata-nyc-2023",
   "language": "python",
   "name": "conda-env-analyst-analyst-pydata-nyc-2023-py"
  },
  "language_info": {
   "codemirror_mode": {
    "name": "ipython",
    "version": 3
   },
   "file_extension": ".py",
   "mimetype": "text/x-python",
   "name": "python",
   "nbconvert_exporter": "python",
   "pygments_lexer": "ipython3",
   "version": "3.10.13"
  }
 },
 "nbformat": 4,
 "nbformat_minor": 5
}
